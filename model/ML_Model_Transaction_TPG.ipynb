{
  "cells": [
    {
      "cell_type": "markdown",
      "metadata": {
        "id": "cp5zHYaMEZiF"
      },
      "source": [
        "# Prediction Model of WhistleOut\n",
        "A supervised learning machine learning model using boosting technique attempts to identify features contributing to transactions done in WhistleOut webpage. Furthermore, the model attempts to sort out a list telling us how important of each main feature is towards transactions and how accurate the prediction can be achieved.\n",
        "\n",
        "## 1 Data Import\n",
        "1. Import the master data spreadsheet with relevant columns only.\n",
        "2. Filter records under Mobile Phone only (not to get confused with Broadband business).\n",
        "3. Sample the data."
      ]
    },
    {
      "cell_type": "code",
      "source": [
        "import pandas as pd"
      ],
      "metadata": {
        "id": "RinEZhP0SKi5"
      },
      "execution_count": null,
      "outputs": []
    },
    {
      "cell_type": "code",
      "source": [
        "from google.colab import drive\n",
        "drive.mount('/content/drive')\n",
        "\n",
        "%cd '/content/drive/Shareddrives/protik/iLab/Dataset/clean'"
      ],
      "metadata": {
        "colab": {
          "base_uri": "https://localhost:8080/"
        },
        "id": "v-IqT8E0SOF2",
        "outputId": "bdc4ea06-f01e-4c5a-d19d-5d72831e1dcf"
      },
      "execution_count": null,
      "outputs": [
        {
          "output_type": "stream",
          "name": "stdout",
          "text": [
            "Mounted at /content/drive\n",
            "/content/drive/Shareddrives/protik/iLab/Dataset/clean\n"
          ]
        }
      ]
    },
    {
      "cell_type": "code",
      "execution_count": null,
      "metadata": {
        "id": "blYtbAhOEZiL",
        "outputId": "5fb228bd-e424-4359-8d37-72b3e2d2b12e",
        "colab": {
          "base_uri": "https://localhost:8080/",
          "height": 255
        }
      },
      "outputs": [
        {
          "output_type": "execute_result",
          "data": {
            "text/plain": [
              "   session_ID ViewedOnTime ViewedOnDate  ProductKey  CampaignKey  UserIdKey  \\\n",
              "0   277986771     15:50:08   2023-01-08       10774        21011   44206972   \n",
              "1   277864634     09:43:03   2023-01-06       10774        21011   45129543   \n",
              "2   278381435     11:13:31   2023-01-16       10774        21011   46031543   \n",
              "3   277356663     01:36:17   2022-12-27       10774        21011   27907780   \n",
              "4   278521249     22:29:14   2023-01-18       10774        21011   46419622   \n",
              "\n",
              "   SupplierKey  PageCount  IsAd  IsTransaction  ...  \\\n",
              "0         2087          0     0              1  ...   \n",
              "1         2087          0     0              1  ...   \n",
              "2         2087          0     0              1  ...   \n",
              "3         2087          0     0              1  ...   \n",
              "4         2087          0     0              1  ...   \n",
              "\n",
              "   IncludedDataDescriptionGB DataRate IncludedValueContainsMms  \\\n",
              "0                       22GB      0.0                        1   \n",
              "1                       22GB      0.0                        1   \n",
              "2                       22GB      0.0                        1   \n",
              "3                       22GB      0.0                        1   \n",
              "4                       22GB      0.0                        1   \n",
              "\n",
              "  IncludedValueContainsVideo MobilePlanTypeName MobilePlanTypeNameDerived  \\\n",
              "0                          0           Postpaid                  Postpaid   \n",
              "1                          0           Postpaid                  Postpaid   \n",
              "2                          0           Postpaid                  Postpaid   \n",
              "3                          0           Postpaid                  Postpaid   \n",
              "4                          0           Postpaid                  Postpaid   \n",
              "\n",
              "   is5GNetwork  MobilePhonePlan  MobilePhoneNetworkName  MobilePhoneNetworkID  \n",
              "0            0                1                 Telstra                     2  \n",
              "1            0                1                 Telstra                     2  \n",
              "2            0                1                 Telstra                     2  \n",
              "3            0                1                 Telstra                     2  \n",
              "4            0                1                 Telstra                     2  \n",
              "\n",
              "[5 rows x 92 columns]"
            ],
            "text/html": [
              "\n",
              "  <div id=\"df-5d8bf3fc-0886-43cd-85a0-13de94003f6c\" class=\"colab-df-container\">\n",
              "    <div>\n",
              "<style scoped>\n",
              "    .dataframe tbody tr th:only-of-type {\n",
              "        vertical-align: middle;\n",
              "    }\n",
              "\n",
              "    .dataframe tbody tr th {\n",
              "        vertical-align: top;\n",
              "    }\n",
              "\n",
              "    .dataframe thead th {\n",
              "        text-align: right;\n",
              "    }\n",
              "</style>\n",
              "<table border=\"1\" class=\"dataframe\">\n",
              "  <thead>\n",
              "    <tr style=\"text-align: right;\">\n",
              "      <th></th>\n",
              "      <th>session_ID</th>\n",
              "      <th>ViewedOnTime</th>\n",
              "      <th>ViewedOnDate</th>\n",
              "      <th>ProductKey</th>\n",
              "      <th>CampaignKey</th>\n",
              "      <th>UserIdKey</th>\n",
              "      <th>SupplierKey</th>\n",
              "      <th>PageCount</th>\n",
              "      <th>IsAd</th>\n",
              "      <th>IsTransaction</th>\n",
              "      <th>...</th>\n",
              "      <th>IncludedDataDescriptionGB</th>\n",
              "      <th>DataRate</th>\n",
              "      <th>IncludedValueContainsMms</th>\n",
              "      <th>IncludedValueContainsVideo</th>\n",
              "      <th>MobilePlanTypeName</th>\n",
              "      <th>MobilePlanTypeNameDerived</th>\n",
              "      <th>is5GNetwork</th>\n",
              "      <th>MobilePhonePlan</th>\n",
              "      <th>MobilePhoneNetworkName</th>\n",
              "      <th>MobilePhoneNetworkID</th>\n",
              "    </tr>\n",
              "  </thead>\n",
              "  <tbody>\n",
              "    <tr>\n",
              "      <th>0</th>\n",
              "      <td>277986771</td>\n",
              "      <td>15:50:08</td>\n",
              "      <td>2023-01-08</td>\n",
              "      <td>10774</td>\n",
              "      <td>21011</td>\n",
              "      <td>44206972</td>\n",
              "      <td>2087</td>\n",
              "      <td>0</td>\n",
              "      <td>0</td>\n",
              "      <td>1</td>\n",
              "      <td>...</td>\n",
              "      <td>22GB</td>\n",
              "      <td>0.0</td>\n",
              "      <td>1</td>\n",
              "      <td>0</td>\n",
              "      <td>Postpaid</td>\n",
              "      <td>Postpaid</td>\n",
              "      <td>0</td>\n",
              "      <td>1</td>\n",
              "      <td>Telstra</td>\n",
              "      <td>2</td>\n",
              "    </tr>\n",
              "    <tr>\n",
              "      <th>1</th>\n",
              "      <td>277864634</td>\n",
              "      <td>09:43:03</td>\n",
              "      <td>2023-01-06</td>\n",
              "      <td>10774</td>\n",
              "      <td>21011</td>\n",
              "      <td>45129543</td>\n",
              "      <td>2087</td>\n",
              "      <td>0</td>\n",
              "      <td>0</td>\n",
              "      <td>1</td>\n",
              "      <td>...</td>\n",
              "      <td>22GB</td>\n",
              "      <td>0.0</td>\n",
              "      <td>1</td>\n",
              "      <td>0</td>\n",
              "      <td>Postpaid</td>\n",
              "      <td>Postpaid</td>\n",
              "      <td>0</td>\n",
              "      <td>1</td>\n",
              "      <td>Telstra</td>\n",
              "      <td>2</td>\n",
              "    </tr>\n",
              "    <tr>\n",
              "      <th>2</th>\n",
              "      <td>278381435</td>\n",
              "      <td>11:13:31</td>\n",
              "      <td>2023-01-16</td>\n",
              "      <td>10774</td>\n",
              "      <td>21011</td>\n",
              "      <td>46031543</td>\n",
              "      <td>2087</td>\n",
              "      <td>0</td>\n",
              "      <td>0</td>\n",
              "      <td>1</td>\n",
              "      <td>...</td>\n",
              "      <td>22GB</td>\n",
              "      <td>0.0</td>\n",
              "      <td>1</td>\n",
              "      <td>0</td>\n",
              "      <td>Postpaid</td>\n",
              "      <td>Postpaid</td>\n",
              "      <td>0</td>\n",
              "      <td>1</td>\n",
              "      <td>Telstra</td>\n",
              "      <td>2</td>\n",
              "    </tr>\n",
              "    <tr>\n",
              "      <th>3</th>\n",
              "      <td>277356663</td>\n",
              "      <td>01:36:17</td>\n",
              "      <td>2022-12-27</td>\n",
              "      <td>10774</td>\n",
              "      <td>21011</td>\n",
              "      <td>27907780</td>\n",
              "      <td>2087</td>\n",
              "      <td>0</td>\n",
              "      <td>0</td>\n",
              "      <td>1</td>\n",
              "      <td>...</td>\n",
              "      <td>22GB</td>\n",
              "      <td>0.0</td>\n",
              "      <td>1</td>\n",
              "      <td>0</td>\n",
              "      <td>Postpaid</td>\n",
              "      <td>Postpaid</td>\n",
              "      <td>0</td>\n",
              "      <td>1</td>\n",
              "      <td>Telstra</td>\n",
              "      <td>2</td>\n",
              "    </tr>\n",
              "    <tr>\n",
              "      <th>4</th>\n",
              "      <td>278521249</td>\n",
              "      <td>22:29:14</td>\n",
              "      <td>2023-01-18</td>\n",
              "      <td>10774</td>\n",
              "      <td>21011</td>\n",
              "      <td>46419622</td>\n",
              "      <td>2087</td>\n",
              "      <td>0</td>\n",
              "      <td>0</td>\n",
              "      <td>1</td>\n",
              "      <td>...</td>\n",
              "      <td>22GB</td>\n",
              "      <td>0.0</td>\n",
              "      <td>1</td>\n",
              "      <td>0</td>\n",
              "      <td>Postpaid</td>\n",
              "      <td>Postpaid</td>\n",
              "      <td>0</td>\n",
              "      <td>1</td>\n",
              "      <td>Telstra</td>\n",
              "      <td>2</td>\n",
              "    </tr>\n",
              "  </tbody>\n",
              "</table>\n",
              "<p>5 rows × 92 columns</p>\n",
              "</div>\n",
              "    <div class=\"colab-df-buttons\">\n",
              "\n",
              "  <div class=\"colab-df-container\">\n",
              "    <button class=\"colab-df-convert\" onclick=\"convertToInteractive('df-5d8bf3fc-0886-43cd-85a0-13de94003f6c')\"\n",
              "            title=\"Convert this dataframe to an interactive table.\"\n",
              "            style=\"display:none;\">\n",
              "\n",
              "  <svg xmlns=\"http://www.w3.org/2000/svg\" height=\"24px\" viewBox=\"0 -960 960 960\">\n",
              "    <path d=\"M120-120v-720h720v720H120Zm60-500h600v-160H180v160Zm220 220h160v-160H400v160Zm0 220h160v-160H400v160ZM180-400h160v-160H180v160Zm440 0h160v-160H620v160ZM180-180h160v-160H180v160Zm440 0h160v-160H620v160Z\"/>\n",
              "  </svg>\n",
              "    </button>\n",
              "\n",
              "  <style>\n",
              "    .colab-df-container {\n",
              "      display:flex;\n",
              "      gap: 12px;\n",
              "    }\n",
              "\n",
              "    .colab-df-convert {\n",
              "      background-color: #E8F0FE;\n",
              "      border: none;\n",
              "      border-radius: 50%;\n",
              "      cursor: pointer;\n",
              "      display: none;\n",
              "      fill: #1967D2;\n",
              "      height: 32px;\n",
              "      padding: 0 0 0 0;\n",
              "      width: 32px;\n",
              "    }\n",
              "\n",
              "    .colab-df-convert:hover {\n",
              "      background-color: #E2EBFA;\n",
              "      box-shadow: 0px 1px 2px rgba(60, 64, 67, 0.3), 0px 1px 3px 1px rgba(60, 64, 67, 0.15);\n",
              "      fill: #174EA6;\n",
              "    }\n",
              "\n",
              "    .colab-df-buttons div {\n",
              "      margin-bottom: 4px;\n",
              "    }\n",
              "\n",
              "    [theme=dark] .colab-df-convert {\n",
              "      background-color: #3B4455;\n",
              "      fill: #D2E3FC;\n",
              "    }\n",
              "\n",
              "    [theme=dark] .colab-df-convert:hover {\n",
              "      background-color: #434B5C;\n",
              "      box-shadow: 0px 1px 3px 1px rgba(0, 0, 0, 0.15);\n",
              "      filter: drop-shadow(0px 1px 2px rgba(0, 0, 0, 0.3));\n",
              "      fill: #FFFFFF;\n",
              "    }\n",
              "  </style>\n",
              "\n",
              "    <script>\n",
              "      const buttonEl =\n",
              "        document.querySelector('#df-5d8bf3fc-0886-43cd-85a0-13de94003f6c button.colab-df-convert');\n",
              "      buttonEl.style.display =\n",
              "        google.colab.kernel.accessAllowed ? 'block' : 'none';\n",
              "\n",
              "      async function convertToInteractive(key) {\n",
              "        const element = document.querySelector('#df-5d8bf3fc-0886-43cd-85a0-13de94003f6c');\n",
              "        const dataTable =\n",
              "          await google.colab.kernel.invokeFunction('convertToInteractive',\n",
              "                                                    [key], {});\n",
              "        if (!dataTable) return;\n",
              "\n",
              "        const docLinkHtml = 'Like what you see? Visit the ' +\n",
              "          '<a target=\"_blank\" href=https://colab.research.google.com/notebooks/data_table.ipynb>data table notebook</a>'\n",
              "          + ' to learn more about interactive tables.';\n",
              "        element.innerHTML = '';\n",
              "        dataTable['output_type'] = 'display_data';\n",
              "        await google.colab.output.renderOutput(dataTable, element);\n",
              "        const docLink = document.createElement('div');\n",
              "        docLink.innerHTML = docLinkHtml;\n",
              "        element.appendChild(docLink);\n",
              "      }\n",
              "    </script>\n",
              "  </div>\n",
              "\n",
              "\n",
              "<div id=\"df-b30ee036-b173-464e-aab6-7a4fd0e3fd0b\">\n",
              "  <button class=\"colab-df-quickchart\" onclick=\"quickchart('df-b30ee036-b173-464e-aab6-7a4fd0e3fd0b')\"\n",
              "            title=\"Suggest charts.\"\n",
              "            style=\"display:none;\">\n",
              "\n",
              "<svg xmlns=\"http://www.w3.org/2000/svg\" height=\"24px\"viewBox=\"0 0 24 24\"\n",
              "     width=\"24px\">\n",
              "    <g>\n",
              "        <path d=\"M19 3H5c-1.1 0-2 .9-2 2v14c0 1.1.9 2 2 2h14c1.1 0 2-.9 2-2V5c0-1.1-.9-2-2-2zM9 17H7v-7h2v7zm4 0h-2V7h2v10zm4 0h-2v-4h2v4z\"/>\n",
              "    </g>\n",
              "</svg>\n",
              "  </button>\n",
              "\n",
              "<style>\n",
              "  .colab-df-quickchart {\n",
              "      --bg-color: #E8F0FE;\n",
              "      --fill-color: #1967D2;\n",
              "      --hover-bg-color: #E2EBFA;\n",
              "      --hover-fill-color: #174EA6;\n",
              "      --disabled-fill-color: #AAA;\n",
              "      --disabled-bg-color: #DDD;\n",
              "  }\n",
              "\n",
              "  [theme=dark] .colab-df-quickchart {\n",
              "      --bg-color: #3B4455;\n",
              "      --fill-color: #D2E3FC;\n",
              "      --hover-bg-color: #434B5C;\n",
              "      --hover-fill-color: #FFFFFF;\n",
              "      --disabled-bg-color: #3B4455;\n",
              "      --disabled-fill-color: #666;\n",
              "  }\n",
              "\n",
              "  .colab-df-quickchart {\n",
              "    background-color: var(--bg-color);\n",
              "    border: none;\n",
              "    border-radius: 50%;\n",
              "    cursor: pointer;\n",
              "    display: none;\n",
              "    fill: var(--fill-color);\n",
              "    height: 32px;\n",
              "    padding: 0;\n",
              "    width: 32px;\n",
              "  }\n",
              "\n",
              "  .colab-df-quickchart:hover {\n",
              "    background-color: var(--hover-bg-color);\n",
              "    box-shadow: 0 1px 2px rgba(60, 64, 67, 0.3), 0 1px 3px 1px rgba(60, 64, 67, 0.15);\n",
              "    fill: var(--button-hover-fill-color);\n",
              "  }\n",
              "\n",
              "  .colab-df-quickchart-complete:disabled,\n",
              "  .colab-df-quickchart-complete:disabled:hover {\n",
              "    background-color: var(--disabled-bg-color);\n",
              "    fill: var(--disabled-fill-color);\n",
              "    box-shadow: none;\n",
              "  }\n",
              "\n",
              "  .colab-df-spinner {\n",
              "    border: 2px solid var(--fill-color);\n",
              "    border-color: transparent;\n",
              "    border-bottom-color: var(--fill-color);\n",
              "    animation:\n",
              "      spin 1s steps(1) infinite;\n",
              "  }\n",
              "\n",
              "  @keyframes spin {\n",
              "    0% {\n",
              "      border-color: transparent;\n",
              "      border-bottom-color: var(--fill-color);\n",
              "      border-left-color: var(--fill-color);\n",
              "    }\n",
              "    20% {\n",
              "      border-color: transparent;\n",
              "      border-left-color: var(--fill-color);\n",
              "      border-top-color: var(--fill-color);\n",
              "    }\n",
              "    30% {\n",
              "      border-color: transparent;\n",
              "      border-left-color: var(--fill-color);\n",
              "      border-top-color: var(--fill-color);\n",
              "      border-right-color: var(--fill-color);\n",
              "    }\n",
              "    40% {\n",
              "      border-color: transparent;\n",
              "      border-right-color: var(--fill-color);\n",
              "      border-top-color: var(--fill-color);\n",
              "    }\n",
              "    60% {\n",
              "      border-color: transparent;\n",
              "      border-right-color: var(--fill-color);\n",
              "    }\n",
              "    80% {\n",
              "      border-color: transparent;\n",
              "      border-right-color: var(--fill-color);\n",
              "      border-bottom-color: var(--fill-color);\n",
              "    }\n",
              "    90% {\n",
              "      border-color: transparent;\n",
              "      border-bottom-color: var(--fill-color);\n",
              "    }\n",
              "  }\n",
              "</style>\n",
              "\n",
              "  <script>\n",
              "    async function quickchart(key) {\n",
              "      const quickchartButtonEl =\n",
              "        document.querySelector('#' + key + ' button');\n",
              "      quickchartButtonEl.disabled = true;  // To prevent multiple clicks.\n",
              "      quickchartButtonEl.classList.add('colab-df-spinner');\n",
              "      try {\n",
              "        const charts = await google.colab.kernel.invokeFunction(\n",
              "            'suggestCharts', [key], {});\n",
              "      } catch (error) {\n",
              "        console.error('Error during call to suggestCharts:', error);\n",
              "      }\n",
              "      quickchartButtonEl.classList.remove('colab-df-spinner');\n",
              "      quickchartButtonEl.classList.add('colab-df-quickchart-complete');\n",
              "    }\n",
              "    (() => {\n",
              "      let quickchartButtonEl =\n",
              "        document.querySelector('#df-b30ee036-b173-464e-aab6-7a4fd0e3fd0b button');\n",
              "      quickchartButtonEl.style.display =\n",
              "        google.colab.kernel.accessAllowed ? 'block' : 'none';\n",
              "    })();\n",
              "  </script>\n",
              "</div>\n",
              "    </div>\n",
              "  </div>\n"
            ]
          },
          "metadata": {},
          "execution_count": 3
        }
      ],
      "source": [
        "df = pd.read_csv(\"finalbq.csv\")\n",
        "\n",
        "# Display the first few rows of the DataFrame\n",
        "df.head()"
      ]
    },
    {
      "cell_type": "code",
      "execution_count": null,
      "metadata": {
        "id": "Lw0Y4xhvEZiP"
      },
      "outputs": [],
      "source": [
        "# # SearchCrieriaKey has no effect on IsTranaction\n",
        "# df[df['IsTransaction'] == 1]['SearchCriteriaKey'].unique()\n",
        "# # URLKey is also useless as it always shows the URL to purchase\n",
        "# # Campaign is duplicated with CampaignKey"
      ]
    },
    {
      "cell_type": "code",
      "execution_count": null,
      "metadata": {
        "id": "4YHcwxmHEZiQ"
      },
      "outputs": [],
      "source": [
        "# # Drop it to avoid XGBoost using it as the sole split\n",
        "# df.drop(columns=['SearchCriteriaKey', 'URLKey', 'Campaign'], inplace=True)\n",
        "# df.head()"
      ]
    },
    {
      "cell_type": "code",
      "source": [
        "df.shape"
      ],
      "metadata": {
        "colab": {
          "base_uri": "https://localhost:8080/"
        },
        "id": "PIT_u7SH40BZ",
        "outputId": "9390f30f-d5d8-448b-ee03-e325796ca53f"
      },
      "execution_count": null,
      "outputs": [
        {
          "output_type": "execute_result",
          "data": {
            "text/plain": [
              "(122087, 92)"
            ]
          },
          "metadata": {},
          "execution_count": 6
        }
      ]
    },
    {
      "cell_type": "code",
      "source": [
        "## Remove theIsTransaction=0\n",
        "#df = df[df['IsTransaction']==1]\n",
        "df.shape"
      ],
      "metadata": {
        "colab": {
          "base_uri": "https://localhost:8080/"
        },
        "id": "wk_vitFW4kI0",
        "outputId": "04e1b119-8381-4c93-b94d-c3838bb43749"
      },
      "execution_count": null,
      "outputs": [
        {
          "output_type": "execute_result",
          "data": {
            "text/plain": [
              "(122087, 92)"
            ]
          },
          "metadata": {},
          "execution_count": 7
        }
      ]
    },
    {
      "cell_type": "code",
      "source": [
        "## get all the names with key and id\n",
        "# Define the substrings to search for in column names\n",
        "substrings_to_search = ['key', 'comment', 'id', 'tablet']\n",
        "\n",
        "# Get the column names that contain those word\n",
        "matching_columns = [col for col in df.columns if any(sub in col.lower() for sub in substrings_to_search)]\n",
        "\n",
        "# Print the matching column names\n",
        "print(\"Columns containing 'key,' 'comment,', 'id' or 'tablet in their names:\")\n",
        "for col in matching_columns:\n",
        "    print(col)"
      ],
      "metadata": {
        "colab": {
          "base_uri": "https://localhost:8080/"
        },
        "id": "UBKqIAWo44td",
        "outputId": "5f9cd00c-5c00-437e-b207-89732611eef8"
      },
      "execution_count": null,
      "outputs": [
        {
          "output_type": "stream",
          "name": "stdout",
          "text": [
            "Columns containing 'key,' 'comment,', 'id' or 'tablet in their names:\n",
            "session_ID\n",
            "ProductKey\n",
            "CampaignKey\n",
            "UserIdKey\n",
            "SupplierKey\n",
            "product_indv_ID\n",
            "SupplierID\n",
            "MobileProductKey\n",
            "campaign_indv_ID\n",
            "SupplierID_campaign_table\n",
            "supplier_indv_ID\n",
            "ProductID\n",
            "DomesticVideoFlagFall\n",
            "DomesticVideoCallRate\n",
            "IncludedValueContainsVideo\n",
            "MobilePhoneNetworkID\n"
          ]
        }
      ]
    },
    {
      "cell_type": "code",
      "source": [
        "# Drop the specified columns\n",
        "df = df.drop(columns=matching_columns)\n",
        "df.shape"
      ],
      "metadata": {
        "colab": {
          "base_uri": "https://localhost:8080/"
        },
        "id": "EAJbtWy95eUY",
        "outputId": "4c2284e1-5b6d-4d74-d3b1-4d3267e5f903"
      },
      "execution_count": null,
      "outputs": [
        {
          "output_type": "execute_result",
          "data": {
            "text/plain": [
              "(122087, 76)"
            ]
          },
          "metadata": {},
          "execution_count": 9
        }
      ]
    },
    {
      "cell_type": "code",
      "source": [
        "df.dtypes"
      ],
      "metadata": {
        "colab": {
          "base_uri": "https://localhost:8080/"
        },
        "id": "ntDsrd7bdCiT",
        "outputId": "9ae8ed19-9952-4a9a-a42b-2a249b41011c"
      },
      "execution_count": null,
      "outputs": [
        {
          "output_type": "execute_result",
          "data": {
            "text/plain": [
              "ViewedOnTime                 object\n",
              "ViewedOnDate                 object\n",
              "PageCount                     int64\n",
              "IsAd                          int64\n",
              "IsTransaction                 int64\n",
              "                              ...  \n",
              "MobilePlanTypeName           object\n",
              "MobilePlanTypeNameDerived    object\n",
              "is5GNetwork                   int64\n",
              "MobilePhonePlan               int64\n",
              "MobilePhoneNetworkName       object\n",
              "Length: 76, dtype: object"
            ]
          },
          "metadata": {},
          "execution_count": 10
        }
      ]
    },
    {
      "cell_type": "code",
      "execution_count": null,
      "metadata": {
        "id": "SOuBE9JcEZiR"
      },
      "outputs": [],
      "source": [
        "def convertToCat(df):\n",
        "    # # Convert all columns to 'category' data type\n",
        "    for column in df.columns:\n",
        "        df[column] = df[column].astype('category')"
      ]
    },
    {
      "cell_type": "code",
      "source": [
        "df.columns"
      ],
      "metadata": {
        "colab": {
          "base_uri": "https://localhost:8080/"
        },
        "id": "pqtcHtwSe8pK",
        "outputId": "00ff9b43-c8f4-4b8f-98c1-1476e61f3e1d"
      },
      "execution_count": null,
      "outputs": [
        {
          "output_type": "execute_result",
          "data": {
            "text/plain": [
              "Index(['ViewedOnTime', 'ViewedOnDate', 'PageCount', 'IsAd', 'IsTransaction',\n",
              "       'IsProduct', 'AffiliateName', 'DeviceType', 'Source', 'Medium',\n",
              "       'Campaign', 'WOHeadlinePlanFixedDiscount', 'WOHeadlinePhoneDiscount',\n",
              "       'WOHeadlineExtraDataDiscount', 'OneOffFeeTotal', 'Phonemonthlycost',\n",
              "       'StartDate', 'EndDate', 'Name', 'CurrentName', 'Active', 'Preview',\n",
              "       'BaseCost', 'PaymentFrequency', 'PaymentFrequencyDerived_in_days',\n",
              "       'PaymentPeriod', 'GlobalShowOnWhistleout', 'EditorsPickName',\n",
              "       'StartDate_campaign_table', 'EndDate_campaign_table',\n",
              "       'Active_campaign_table', 'Preview_campaign_table',\n",
              "       'Name_campaign_table', 'Sequence', 'BusinessStartDate',\n",
              "       'BusinessEndDate', 'PromotionName', 'Exclusive',\n",
              "       'OtherIncentive1mthTCOTotal', 'OtherIncentive6mthTCOTotal',\n",
              "       'OtherIncentive12mthTCOTotal', 'OtherIncentiveOneOffTotal',\n",
              "       'FixedIncentive1mthTCOTotal', 'FixedIncentive6mthTCOTotal',\n",
              "       'FixedIncentive12mthTCOTotal', 'FixedIncentiveOneOffTotal',\n",
              "       'PercentageIncentive1mthTCOTotal', 'PercentageIncentive6mthTCOTotal',\n",
              "       'PercentageIncentive12mthTCOTotal', 'PercentageIncentiveOneOffTotal',\n",
              "       'PhoneIncentive1mthTCOTotal', 'PhoneIncentive6mthTCOTotal',\n",
              "       'PhoneIncentive12mthTCOTotal', 'ExtraIncentive1mthTCOTotal',\n",
              "       'ExtraIncentive6mthTCOTotal', 'ExtraIncentive12mthTCOTotal',\n",
              "       'ExtraIncentiveOneOffTotal', 'StartDate_supplier_table',\n",
              "       'EndDate_supplier_table', 'Name_supplier_table',\n",
              "       'StartDate_mobileproduct_table', 'EndDate_mobileproduct_table',\n",
              "       'DomesticFlagFall', 'DomesticCallRate', 'DomesticSmsRate',\n",
              "       'DomesticMmsRate', 'IncludedDataMB', 'IncludedDataDescriptionMB',\n",
              "       'IncludedDataDescriptionGB', 'DataRate', 'IncludedValueContainsMms',\n",
              "       'MobilePlanTypeName', 'MobilePlanTypeNameDerived', 'is5GNetwork',\n",
              "       'MobilePhonePlan', 'MobilePhoneNetworkName'],\n",
              "      dtype='object')"
            ]
          },
          "metadata": {},
          "execution_count": 12
        }
      ]
    },
    {
      "cell_type": "code",
      "source": [
        "df.drop(columns=['PageCount', 'Sequence','Campaign'], inplace=True)"
      ],
      "metadata": {
        "id": "o8BdubIhe23S"
      },
      "execution_count": null,
      "outputs": []
    },
    {
      "cell_type": "code",
      "source": [
        "df.columns"
      ],
      "metadata": {
        "colab": {
          "base_uri": "https://localhost:8080/"
        },
        "id": "abk1mYtQ32Mx",
        "outputId": "112e1f75-f698-4daa-b19e-a2a45347074e"
      },
      "execution_count": null,
      "outputs": [
        {
          "output_type": "execute_result",
          "data": {
            "text/plain": [
              "Index(['ViewedOnTime', 'ViewedOnDate', 'IsAd', 'IsTransaction', 'IsProduct',\n",
              "       'AffiliateName', 'DeviceType', 'Source', 'Medium',\n",
              "       'WOHeadlinePlanFixedDiscount', 'WOHeadlinePhoneDiscount',\n",
              "       'WOHeadlineExtraDataDiscount', 'OneOffFeeTotal', 'Phonemonthlycost',\n",
              "       'StartDate', 'EndDate', 'Name', 'CurrentName', 'Active', 'Preview',\n",
              "       'BaseCost', 'PaymentFrequency', 'PaymentFrequencyDerived_in_days',\n",
              "       'PaymentPeriod', 'GlobalShowOnWhistleout', 'EditorsPickName',\n",
              "       'StartDate_campaign_table', 'EndDate_campaign_table',\n",
              "       'Active_campaign_table', 'Preview_campaign_table',\n",
              "       'Name_campaign_table', 'BusinessStartDate', 'BusinessEndDate',\n",
              "       'PromotionName', 'Exclusive', 'OtherIncentive1mthTCOTotal',\n",
              "       'OtherIncentive6mthTCOTotal', 'OtherIncentive12mthTCOTotal',\n",
              "       'OtherIncentiveOneOffTotal', 'FixedIncentive1mthTCOTotal',\n",
              "       'FixedIncentive6mthTCOTotal', 'FixedIncentive12mthTCOTotal',\n",
              "       'FixedIncentiveOneOffTotal', 'PercentageIncentive1mthTCOTotal',\n",
              "       'PercentageIncentive6mthTCOTotal', 'PercentageIncentive12mthTCOTotal',\n",
              "       'PercentageIncentiveOneOffTotal', 'PhoneIncentive1mthTCOTotal',\n",
              "       'PhoneIncentive6mthTCOTotal', 'PhoneIncentive12mthTCOTotal',\n",
              "       'ExtraIncentive1mthTCOTotal', 'ExtraIncentive6mthTCOTotal',\n",
              "       'ExtraIncentive12mthTCOTotal', 'ExtraIncentiveOneOffTotal',\n",
              "       'StartDate_supplier_table', 'EndDate_supplier_table',\n",
              "       'Name_supplier_table', 'StartDate_mobileproduct_table',\n",
              "       'EndDate_mobileproduct_table', 'DomesticFlagFall', 'DomesticCallRate',\n",
              "       'DomesticSmsRate', 'DomesticMmsRate', 'IncludedDataMB',\n",
              "       'IncludedDataDescriptionMB', 'IncludedDataDescriptionGB', 'DataRate',\n",
              "       'IncludedValueContainsMms', 'MobilePlanTypeName',\n",
              "       'MobilePlanTypeNameDerived', 'is5GNetwork', 'MobilePhonePlan',\n",
              "       'MobilePhoneNetworkName'],\n",
              "      dtype='object')"
            ]
          },
          "metadata": {},
          "execution_count": 14
        }
      ]
    },
    {
      "cell_type": "markdown",
      "source": [
        "# column to drop\n"
      ],
      "metadata": {
        "id": "NZBYzy7p8HYJ"
      }
    },
    {
      "cell_type": "code",
      "source": [
        "# for market share\n",
        "drop_column = ['ViewedOnTime', 'IsProduct', 'DeviceType','WOHeadlinePhoneDiscount','StartDate', 'EndDate', 'CurrentName','Active','Preview', 'PaymentFrequency',\n",
        "               'PaymentPeriod','StartDate_campaign_table', 'EndDate_campaign_table','Active_campaign_table', 'Preview_campaign_table', 'BusinessStartDate', 'BusinessEndDate',\n",
        "               'PromotionName', 'Exclusive', 'StartDate_supplier_table', 'EndDate_supplier_table', 'StartDate_mobileproduct_table','EndDate_mobileproduct_table',\n",
        "               'IncludedDataDescriptionMB', 'IncludedDataDescriptionGB', 'BaseCost']\n",
        "\n",
        "# Drop the specified columns for market share\n",
        "df_mkt_share = df.drop(columns=drop_column)\n",
        "print(f\"Data Shape for Market Share: {df_mkt_share.shape}\")\n",
        "\n",
        "# for transaction\n",
        "drop_column = ['ViewedOnTime', 'ViewedOnDate', 'IsProduct', 'DeviceType','WOHeadlinePhoneDiscount','StartDate', 'EndDate', 'CurrentName','Active','Preview', 'PaymentFrequency',\n",
        "               'PaymentPeriod','StartDate_campaign_table', 'EndDate_campaign_table','Active_campaign_table', 'Preview_campaign_table', 'BusinessStartDate', 'BusinessEndDate',\n",
        "               'PromotionName', 'Exclusive', 'StartDate_supplier_table', 'EndDate_supplier_table', 'StartDate_mobileproduct_table','EndDate_mobileproduct_table',\n",
        "               'IncludedDataDescriptionMB', 'IncludedDataDescriptionGB', 'BaseCost']\n",
        "# Drop the specified columns for Transaction\n",
        "df = df.drop(columns=drop_column)\n",
        "print(f\"Data Shape for Transaction: {df.shape}\")"
      ],
      "metadata": {
        "colab": {
          "base_uri": "https://localhost:8080/"
        },
        "id": "12RyHqVd9Azl",
        "outputId": "f6532172-0a22-4245-ba4e-488f9bcbf7ff"
      },
      "execution_count": null,
      "outputs": [
        {
          "output_type": "stream",
          "name": "stdout",
          "text": [
            "Data Shape for Market Share: (122087, 47)\n",
            "Data Shape for Transaction: (122087, 46)\n"
          ]
        }
      ]
    },
    {
      "cell_type": "code",
      "source": [
        "df.columns"
      ],
      "metadata": {
        "colab": {
          "base_uri": "https://localhost:8080/"
        },
        "id": "KhaPj9j8C3P7",
        "outputId": "da06ac97-313f-4666-b2ae-5e9f0af8e3e1"
      },
      "execution_count": null,
      "outputs": [
        {
          "output_type": "execute_result",
          "data": {
            "text/plain": [
              "Index(['IsAd', 'IsTransaction', 'AffiliateName', 'Source', 'Medium',\n",
              "       'WOHeadlinePlanFixedDiscount', 'WOHeadlineExtraDataDiscount',\n",
              "       'OneOffFeeTotal', 'Phonemonthlycost', 'Name',\n",
              "       'PaymentFrequencyDerived_in_days', 'GlobalShowOnWhistleout',\n",
              "       'EditorsPickName', 'Name_campaign_table', 'OtherIncentive1mthTCOTotal',\n",
              "       'OtherIncentive6mthTCOTotal', 'OtherIncentive12mthTCOTotal',\n",
              "       'OtherIncentiveOneOffTotal', 'FixedIncentive1mthTCOTotal',\n",
              "       'FixedIncentive6mthTCOTotal', 'FixedIncentive12mthTCOTotal',\n",
              "       'FixedIncentiveOneOffTotal', 'PercentageIncentive1mthTCOTotal',\n",
              "       'PercentageIncentive6mthTCOTotal', 'PercentageIncentive12mthTCOTotal',\n",
              "       'PercentageIncentiveOneOffTotal', 'PhoneIncentive1mthTCOTotal',\n",
              "       'PhoneIncentive6mthTCOTotal', 'PhoneIncentive12mthTCOTotal',\n",
              "       'ExtraIncentive1mthTCOTotal', 'ExtraIncentive6mthTCOTotal',\n",
              "       'ExtraIncentive12mthTCOTotal', 'ExtraIncentiveOneOffTotal',\n",
              "       'Name_supplier_table', 'DomesticFlagFall', 'DomesticCallRate',\n",
              "       'DomesticSmsRate', 'DomesticMmsRate', 'IncludedDataMB', 'DataRate',\n",
              "       'IncludedValueContainsMms', 'MobilePlanTypeName',\n",
              "       'MobilePlanTypeNameDerived', 'is5GNetwork', 'MobilePhonePlan',\n",
              "       'MobilePhoneNetworkName'],\n",
              "      dtype='object')"
            ]
          },
          "metadata": {},
          "execution_count": 16
        }
      ]
    },
    {
      "cell_type": "code",
      "source": [
        "df = df[df['Name_supplier_table'] == 'TPG']\n",
        "df = df.drop(columns=['Name_supplier_table'])\n",
        "df.shape"
      ],
      "metadata": {
        "colab": {
          "base_uri": "https://localhost:8080/"
        },
        "id": "-pG9xU_BGhFN",
        "outputId": "e15c0b61-6f09-422b-9b3b-de4140ba358f"
      },
      "execution_count": null,
      "outputs": [
        {
          "output_type": "execute_result",
          "data": {
            "text/plain": [
              "(22880, 45)"
            ]
          },
          "metadata": {},
          "execution_count": 17
        }
      ]
    },
    {
      "cell_type": "markdown",
      "metadata": {
        "id": "MQ1VdeX6EZiR"
      },
      "source": [
        "## 3 Analysis\n",
        "1. Split the data into label and features.\n",
        "2. Further split the data into training and testing.\n",
        "3. Define prediction model algorithm: XGBoost.\n",
        "4. Train the model.\n",
        "5. Show feature importance chart.\n",
        "6. Evaluate the model."
      ]
    },
    {
      "cell_type": "code",
      "source": [
        "!pip install shap"
      ],
      "metadata": {
        "colab": {
          "base_uri": "https://localhost:8080/"
        },
        "id": "wUboplMQAEsK",
        "outputId": "4890536d-2ee2-449c-8d96-4f97ab489ad5"
      },
      "execution_count": null,
      "outputs": [
        {
          "output_type": "stream",
          "name": "stdout",
          "text": [
            "Collecting shap\n",
            "  Downloading shap-0.43.0-cp310-cp310-manylinux_2_12_x86_64.manylinux2010_x86_64.manylinux_2_17_x86_64.manylinux2014_x86_64.whl (532 kB)\n",
            "\u001b[?25l     \u001b[90m━━━━━━━━━━━━━━━━━━━━━━━━━━━━━━━━━━━━━━━━\u001b[0m \u001b[32m0.0/532.9 kB\u001b[0m \u001b[31m?\u001b[0m eta \u001b[36m-:--:--\u001b[0m\r\u001b[2K     \u001b[91m━━━━━━━━━━━━━━━━\u001b[0m\u001b[91m╸\u001b[0m\u001b[90m━━━━━━━━━━━━━━━━━━━━━━━\u001b[0m \u001b[32m225.3/532.9 kB\u001b[0m \u001b[31m6.7 MB/s\u001b[0m eta \u001b[36m0:00:01\u001b[0m\r\u001b[2K     \u001b[90m━━━━━━━━━━━━━━━━━━━━━━━━━━━━━━━━━━━━━━━━\u001b[0m \u001b[32m532.9/532.9 kB\u001b[0m \u001b[31m8.7 MB/s\u001b[0m eta \u001b[36m0:00:00\u001b[0m\n",
            "\u001b[?25hRequirement already satisfied: numpy in /usr/local/lib/python3.10/dist-packages (from shap) (1.23.5)\n",
            "Requirement already satisfied: scipy in /usr/local/lib/python3.10/dist-packages (from shap) (1.11.3)\n",
            "Requirement already satisfied: scikit-learn in /usr/local/lib/python3.10/dist-packages (from shap) (1.2.2)\n",
            "Requirement already satisfied: pandas in /usr/local/lib/python3.10/dist-packages (from shap) (1.5.3)\n",
            "Requirement already satisfied: tqdm>=4.27.0 in /usr/local/lib/python3.10/dist-packages (from shap) (4.66.1)\n",
            "Requirement already satisfied: packaging>20.9 in /usr/local/lib/python3.10/dist-packages (from shap) (23.2)\n",
            "Collecting slicer==0.0.7 (from shap)\n",
            "  Downloading slicer-0.0.7-py3-none-any.whl (14 kB)\n",
            "Requirement already satisfied: numba in /usr/local/lib/python3.10/dist-packages (from shap) (0.56.4)\n",
            "Requirement already satisfied: cloudpickle in /usr/local/lib/python3.10/dist-packages (from shap) (2.2.1)\n",
            "Requirement already satisfied: llvmlite<0.40,>=0.39.0dev0 in /usr/local/lib/python3.10/dist-packages (from numba->shap) (0.39.1)\n",
            "Requirement already satisfied: setuptools in /usr/local/lib/python3.10/dist-packages (from numba->shap) (67.7.2)\n",
            "Requirement already satisfied: python-dateutil>=2.8.1 in /usr/local/lib/python3.10/dist-packages (from pandas->shap) (2.8.2)\n",
            "Requirement already satisfied: pytz>=2020.1 in /usr/local/lib/python3.10/dist-packages (from pandas->shap) (2023.3.post1)\n",
            "Requirement already satisfied: joblib>=1.1.1 in /usr/local/lib/python3.10/dist-packages (from scikit-learn->shap) (1.3.2)\n",
            "Requirement already satisfied: threadpoolctl>=2.0.0 in /usr/local/lib/python3.10/dist-packages (from scikit-learn->shap) (3.2.0)\n",
            "Requirement already satisfied: six>=1.5 in /usr/local/lib/python3.10/dist-packages (from python-dateutil>=2.8.1->pandas->shap) (1.16.0)\n",
            "Installing collected packages: slicer, shap\n",
            "Successfully installed shap-0.43.0 slicer-0.0.7\n"
          ]
        }
      ]
    },
    {
      "cell_type": "code",
      "source": [
        "!pip install --upgrade xgboost"
      ],
      "metadata": {
        "colab": {
          "base_uri": "https://localhost:8080/"
        },
        "id": "cbcA5UI4CJee",
        "outputId": "0ae38a29-86cf-46ce-ac20-da2d7975d3e9"
      },
      "execution_count": null,
      "outputs": [
        {
          "output_type": "stream",
          "name": "stdout",
          "text": [
            "Requirement already satisfied: xgboost in /usr/local/lib/python3.10/dist-packages (2.0.0)\n",
            "Requirement already satisfied: numpy in /usr/local/lib/python3.10/dist-packages (from xgboost) (1.23.5)\n",
            "Requirement already satisfied: scipy in /usr/local/lib/python3.10/dist-packages (from xgboost) (1.11.3)\n"
          ]
        }
      ]
    },
    {
      "cell_type": "code",
      "source": [
        "from sklearn.preprocessing import LabelEncoder\n",
        "\n",
        "columns_to_encode = ['AffiliateName', 'Source', 'Medium', 'Name', 'Name_campaign_table', 'MobilePlanTypeName', 'MobilePlanTypeNameDerived', 'MobilePhoneNetworkName']\n",
        "\n",
        "label_encoders = {}\n",
        "\n",
        "for column in columns_to_encode:\n",
        "    le = LabelEncoder()\n",
        "    df[column] = le.fit_transform(df[column])\n",
        "    label_encoders[column] = le"
      ],
      "metadata": {
        "id": "6uDDEpf7A39Q"
      },
      "execution_count": null,
      "outputs": []
    },
    {
      "cell_type": "code",
      "execution_count": null,
      "metadata": {
        "id": "3bnmTduQEZiR"
      },
      "outputs": [],
      "source": [
        "import xgboost as xgb\n",
        "import matplotlib.pyplot as plt\n",
        "from sklearn.model_selection import train_test_split\n",
        "from sklearn.metrics import accuracy_score\n",
        "import shap  # Import SHAP library\n",
        "import pandas as pd\n",
        "\n",
        "import warnings\n",
        "warnings.filterwarnings(\"ignore\")\n",
        "\n",
        "\n",
        "def analyze(df, y_column, label_encoders):\n",
        "    # Separate the target variable from the features\n",
        "    X = df.drop(y_column, axis=1)\n",
        "    y = df[y_column]\n",
        "\n",
        "    # Split the data into training, validation, and testing sets\n",
        "    X_train, X_temp, y_train, y_temp = train_test_split(X, y, test_size=0.3, random_state=42)\n",
        "    X_valid, X_test, y_valid, y_test = train_test_split(X_temp, y_temp, test_size=0.5, random_state=42)\n",
        "\n",
        "    # Initialize and fit an XGBoost model\n",
        "    model = xgb.XGBClassifier(tree_method='gpu_hist', enable_categorical=True)\n",
        "    model.fit(X_train, y_train)\n",
        "\n",
        "    # Create a SHAP explainer for the model\n",
        "    explainer = shap.TreeExplainer(model)\n",
        "\n",
        "    # Calculate SHAP values for the validation data\n",
        "    shap_values = explainer.shap_values(X_valid)\n",
        "\n",
        "    # Plot feature importance using SHAP for validation data\n",
        "    shap.summary_plot(shap_values, X_valid, plot_type=\"bar\")\n",
        "    plt.show()\n",
        "\n",
        "    # Reverse the label encoding for interpretability\n",
        "    for column, le in label_encoders.items():\n",
        "        X_valid[column] = le.inverse_transform(X_valid[column])\n",
        "\n",
        "    # Predict on the validation set\n",
        "    y_valid_pred = model.predict(X_valid)\n",
        "\n",
        "    # Calculate accuracy for validation set\n",
        "    valid_accuracy = accuracy_score(y_valid, y_valid_pred)\n",
        "    print('Validation Accuracy:', valid_accuracy)\n",
        "\n",
        "    # Reverse the label encoding for the test data\n",
        "    for column, le in label_encoders.items():\n",
        "        X_test[column] = le.inverse_transform(X_test[column])\n",
        "\n",
        "    # Predict on the test set\n",
        "    y_test_pred = model.predict(X_test)\n",
        "\n",
        "    # Calculate accuracy for the test set\n",
        "    test_accuracy = accuracy_score(y_test, y_test_pred)\n",
        "    print('Test Accuracy:', test_accuracy)\n",
        "\n",
        "    # Predict on the training set\n",
        "    y_train_pred = model.predict(X_train)\n",
        "\n",
        "    # Calculate accuracy for the training set\n",
        "    train_accuracy = accuracy_score(y_train, y_train_pred)\n",
        "    print('Training Accuracy:', train_accuracy)\n"
      ]
    },
    {
      "cell_type": "code",
      "source": [
        "unique_classes = df['IsTransaction'].unique()\n",
        "print(\"Unique classes in y:\", unique_classes)"
      ],
      "metadata": {
        "colab": {
          "base_uri": "https://localhost:8080/"
        },
        "id": "i-lpM3GqAZ7d",
        "outputId": "eceadc96-3c51-4c16-8a11-ecbcbfee7169"
      },
      "execution_count": null,
      "outputs": [
        {
          "output_type": "stream",
          "name": "stdout",
          "text": [
            "Unique classes in y: [1 0]\n"
          ]
        }
      ]
    },
    {
      "cell_type": "code",
      "execution_count": null,
      "metadata": {
        "id": "5mjk28RfEZiS",
        "outputId": "c3eb8fbe-1102-436a-9f3f-57104e16ca36",
        "colab": {
          "base_uri": "https://localhost:8080/",
          "height": 1000
        }
      },
      "outputs": [
        {
          "output_type": "stream",
          "name": "stdout",
          "text": [
            "df: (22880, 45)\n"
          ]
        },
        {
          "output_type": "display_data",
          "data": {
            "text/plain": [
              "<Figure size 800x950 with 1 Axes>"
            ],
            "image/png": "[encoded data removed]"
          },
          "metadata": {}
        },
        {
          "output_type": "stream",
          "name": "stdout",
          "text": [
            "Validation Accuracy: 0.9947552447552448\n",
            "Test Accuracy: 0.9941724941724942\n",
            "Training Accuracy: 0.9941933066933067\n"
          ]
        }
      ],
      "source": [
        "# Analyze which features attributed to transaction\n",
        "print('df:', df.shape)\n",
        "# Example usage\n",
        "analyze(df, 'IsTransaction', label_encoders)"
      ]
    },
    {
      "cell_type": "code",
      "execution_count": null,
      "metadata": {
        "id": "jyCpfhVDEZiS",
        "colab": {
          "base_uri": "https://localhost:8080/"
        },
        "outputId": "98a4a077-258d-4294-a3a7-8ecbfa5959ac"
      },
      "outputs": [
        {
          "output_type": "execute_result",
          "data": {
            "text/plain": [
              "Index(['ViewedOnDate', 'IsAd', 'IsTransaction', 'AffiliateName', 'Source',\n",
              "       'Medium', 'WOHeadlinePlanFixedDiscount', 'WOHeadlineExtraDataDiscount',\n",
              "       'OneOffFeeTotal', 'Phonemonthlycost', 'Name',\n",
              "       'PaymentFrequencyDerived_in_days', 'GlobalShowOnWhistleout',\n",
              "       'EditorsPickName', 'Name_campaign_table', 'OtherIncentive1mthTCOTotal',\n",
              "       'OtherIncentive6mthTCOTotal', 'OtherIncentive12mthTCOTotal',\n",
              "       'OtherIncentiveOneOffTotal', 'FixedIncentive1mthTCOTotal',\n",
              "       'FixedIncentive6mthTCOTotal', 'FixedIncentive12mthTCOTotal',\n",
              "       'FixedIncentiveOneOffTotal', 'PercentageIncentive1mthTCOTotal',\n",
              "       'PercentageIncentive6mthTCOTotal', 'PercentageIncentive12mthTCOTotal',\n",
              "       'PercentageIncentiveOneOffTotal', 'PhoneIncentive1mthTCOTotal',\n",
              "       'PhoneIncentive6mthTCOTotal', 'PhoneIncentive12mthTCOTotal',\n",
              "       'ExtraIncentive1mthTCOTotal', 'ExtraIncentive6mthTCOTotal',\n",
              "       'ExtraIncentive12mthTCOTotal', 'ExtraIncentiveOneOffTotal',\n",
              "       'Name_supplier_table', 'DomesticFlagFall', 'DomesticCallRate',\n",
              "       'DomesticSmsRate', 'DomesticMmsRate', 'IncludedDataMB', 'DataRate',\n",
              "       'IncludedValueContainsMms', 'MobilePlanTypeName',\n",
              "       'MobilePlanTypeNameDerived', 'is5GNetwork', 'MobilePhonePlan',\n",
              "       'MobilePhoneNetworkName'],\n",
              "      dtype='object')"
            ]
          },
          "metadata": {},
          "execution_count": 28
        }
      ],
      "source": [
        "df_mkt_share.columns"
      ]
    },
    {
      "cell_type": "code",
      "source": [
        "df_mkt_share.shape"
      ],
      "metadata": {
        "colab": {
          "base_uri": "https://localhost:8080/"
        },
        "id": "z2mOgHQtDS23",
        "outputId": "adf9969b-566f-4094-8466-a545e5b5b314"
      },
      "execution_count": null,
      "outputs": [
        {
          "output_type": "execute_result",
          "data": {
            "text/plain": [
              "(122087, 47)"
            ]
          },
          "metadata": {},
          "execution_count": 29
        }
      ]
    },
    {
      "cell_type": "code",
      "source": [
        "df_mkt_share = df_mkt_share[df_mkt_share['Name_supplier_table'] == 'TPG']\n",
        "df_mkt_share = df_mkt_share.drop(columns=['Name_supplier_table'])\n",
        "df_mkt_share.shape"
      ],
      "metadata": {
        "colab": {
          "base_uri": "https://localhost:8080/"
        },
        "id": "G2cJPCLWDd05",
        "outputId": "ed155d08-f0a2-4cc4-c05d-b7b85408f4b8"
      },
      "execution_count": null,
      "outputs": [
        {
          "output_type": "execute_result",
          "data": {
            "text/plain": [
              "(22880, 46)"
            ]
          },
          "metadata": {},
          "execution_count": 30
        }
      ]
    },
    {
      "cell_type": "markdown",
      "metadata": {
        "id": "9MpPflTuEZiT"
      },
      "source": [
        "## 4 Market share for date"
      ]
    },
    {
      "cell_type": "code",
      "execution_count": null,
      "metadata": {
        "id": "xgyfh-n4EZiT",
        "colab": {
          "base_uri": "https://localhost:8080/"
        },
        "outputId": "c153e5d5-7608-4cff-823e-ecaf79f88536"
      },
      "outputs": [
        {
          "output_type": "stream",
          "name": "stdout",
          "text": [
            "      ViewedOnDate  IsAd  IsTransaction     AffiliateName   Source   Medium  \\\n",
            "71475   2023-02-05     0              1        WhistleOut  unknown  unknown   \n",
            "71476   2023-02-10     0              1        WhistleOut  unknown  unknown   \n",
            "71477   2023-01-25     0              1        WhistleOut  unknown  unknown   \n",
            "71478   2023-02-05     0              1        WhistleOut  unknown  unknown   \n",
            "71479   2023-01-25     0              1  WhistleOut (PPC)   google      cpc   \n",
            "\n",
            "       WOHeadlinePlanFixedDiscount  WOHeadlineExtraDataDiscount  \\\n",
            "71475                         20.0                          0.0   \n",
            "71476                         20.0                          0.0   \n",
            "71477                         20.0                          0.0   \n",
            "71478                         20.0                          0.0   \n",
            "71479                         20.0                          0.0   \n",
            "\n",
            "       OneOffFeeTotal  Phonemonthlycost  ... DomesticMmsRate  IncludedDataMB  \\\n",
            "71475             0.0               0.0  ...             0.5           60000   \n",
            "71476             0.0               0.0  ...             0.5           60000   \n",
            "71477             0.0               0.0  ...             0.5           60000   \n",
            "71478             0.0               0.0  ...             0.5           60000   \n",
            "71479             0.0               0.0  ...             0.5           60000   \n",
            "\n",
            "       DataRate  IncludedValueContainsMms MobilePlanTypeName  \\\n",
            "71475       0.1                         0            Prepaid   \n",
            "71476       0.1                         0            Prepaid   \n",
            "71477       0.1                         0            Prepaid   \n",
            "71478       0.1                         0            Prepaid   \n",
            "71479       0.1                         0            Prepaid   \n",
            "\n",
            "       MobilePlanTypeNameDerived  is5GNetwork  MobilePhonePlan  \\\n",
            "71475                    Prepaid            0                0   \n",
            "71476                    Prepaid            0                0   \n",
            "71477                    Prepaid            0                0   \n",
            "71478                    Prepaid            0                0   \n",
            "71479                    Prepaid            0                0   \n",
            "\n",
            "       MobilePhoneNetworkName  market_share  \n",
            "71475                Vodafone      0.023346  \n",
            "71476                Vodafone      0.018182  \n",
            "71477                Vodafone      0.057348  \n",
            "71478                Vodafone      0.023346  \n",
            "71479                Vodafone      0.057348  \n",
            "\n",
            "[5 rows x 47 columns]\n"
          ]
        }
      ],
      "source": [
        "# Only take IsTransaction = 1\n",
        "df_mkt_share = df_mkt_share[df_mkt_share['IsTransaction'] == 1]\n",
        "\n",
        "# Calculate the total transaction count for the specific product and date\n",
        "transaction_count_for_plan = df_mkt_share.groupby(['ViewedOnDate', 'Name'])['IsTransaction'].transform('sum')\n",
        "\n",
        "# Calculate the total transaction count across the entire market for that date\n",
        "total_transaction_count_across_market = df_mkt_share.groupby('ViewedOnDate')['IsTransaction'].transform('sum')\n",
        "\n",
        "# Calculate the market share using the equation\n",
        "df_mkt_share['market_share'] = transaction_count_for_plan / total_transaction_count_across_market\n",
        "\n",
        "# If you want the market share as a percentage (multiply by 100)\n",
        "df_mkt_share['market_share'] = df_mkt_share['market_share']\n",
        "\n",
        "# Print first 5 rows\n",
        "print(df_mkt_share.head(5))"
      ]
    },
    {
      "cell_type": "code",
      "source": [
        "df_mkt_share = df_mkt_share.drop('ViewedOnDate', axis=1)"
      ],
      "metadata": {
        "id": "7tsFF7PCD4Oh"
      },
      "execution_count": null,
      "outputs": []
    },
    {
      "cell_type": "code",
      "execution_count": null,
      "metadata": {
        "id": "Zofn0jcOEZiU",
        "colab": {
          "base_uri": "https://localhost:8080/",
          "height": 850
        },
        "outputId": "2b0ea33e-e226-4902-e6b3-7a96f8b209b3"
      },
      "outputs": [
        {
          "output_type": "stream",
          "name": "stdout",
          "text": [
            "df_mkt_share: (22749, 46)\n"
          ]
        },
        {
          "output_type": "display_data",
          "data": {
            "text/plain": [
              "<Figure size 800x350 with 1 Axes>"
            ],
            "image/png": "[encoded data removed]"
          },
          "metadata": {}
        },
        {
          "output_type": "display_data",
          "data": {
            "text/plain": [
              "<Figure size 640x480 with 1 Axes>"
            ],
            "image/png": "[encoded data removed]"
          },
          "metadata": {}
        },
        {
          "output_type": "stream",
          "name": "stdout",
          "text": [
            "Validation MSE: 0.000769626598982278\n",
            "Test MSE: 0.0007588625680486683\n",
            "Training MSE: 0.0007408173525432902\n"
          ]
        }
      ],
      "source": [
        "import matplotlib.pyplot as plt\n",
        "from sklearn.model_selection import train_test_split\n",
        "from sklearn.metrics import mean_squared_error\n",
        "import shap\n",
        "from sklearn.tree import DecisionTreeRegressor\n",
        "import pandas as pd\n",
        "from sklearn.preprocessing import LabelEncoder\n",
        "import warnings\n",
        "import numpy as np\n",
        "\n",
        "warnings.filterwarnings(\"ignore\")\n",
        "\n",
        "# Define the columns to be encoded\n",
        "columns_to_encode = ['AffiliateName', 'Source', 'Medium', 'Name', 'Name_campaign_table', 'MobilePlanTypeName', 'MobilePlanTypeNameDerived', 'MobilePhoneNetworkName']\n",
        "\n",
        "# Initialize an empty dictionary to store the label encoders\n",
        "label_encoders = {}\n",
        "\n",
        "# Apply label encoding to each column\n",
        "for column in columns_to_encode:\n",
        "    le = LabelEncoder()\n",
        "    df_mkt_share[column] = le.fit_transform(df_mkt_share[column])\n",
        "    label_encoders[column] = le\n",
        "\n",
        "def analyze(df, y_column):\n",
        "    # Separate the target variable from the features\n",
        "    X = df.drop(y_column, axis=1)\n",
        "    y = df[y_column]\n",
        "\n",
        "    # Split the data into training, validation, and testing sets\n",
        "    X_train, X_temp, y_train, y_temp = train_test_split(X, y, test_size=0.3, random_state=42)\n",
        "    X_valid, X_test, y_valid, y_test = train_test_split(X_temp, y_temp, test_size=0.5, random_state=42)\n",
        "\n",
        "    # Initialize and fit a Decision Tree model for regression\n",
        "    model = DecisionTreeRegressor()\n",
        "    model.fit(X_train, y_train)\n",
        "\n",
        "    # Create a SHAP explainer for the model\n",
        "    explainer = shap.TreeExplainer(model)\n",
        "\n",
        "    # Calculate SHAP values for the validation data\n",
        "    shap_values = explainer.shap_values(X_valid)\n",
        "\n",
        "    # Calculate feature importances from SHAP values\n",
        "    feature_importances = np.abs(shap_values).mean(axis=0)\n",
        "\n",
        "    # Sort features by importance\n",
        "    sorted_idx = np.argsort(feature_importances)\n",
        "\n",
        "    # Get the top 5 feature names\n",
        "    top_feature_names = X_valid.columns[sorted_idx][-5:]\n",
        "\n",
        "    # Get the corresponding feature importance values\n",
        "    top_feature_importance = feature_importances[sorted_idx][-5:]\n",
        "\n",
        "    # Plot the SHAP summary plot for the top 5 features\n",
        "    shap.summary_plot(shap_values, X_valid, feature_names=X_valid.columns, plot_type=\"dot\", max_display=5, color_bar=False)\n",
        "\n",
        "    # Add annotations for feature names and values\n",
        "    for i, name in enumerate(top_feature_names):\n",
        "        plt.annotate(f\"{name}: {top_feature_importance[i]:.3f}\", (0, i), xytext=(15, 0), textcoords='offset points', fontsize=10, color='black', weight='bold')\n",
        "\n",
        "    plt.show()\n",
        "\n",
        "    # Predict on the validation set\n",
        "    y_valid_pred = model.predict(X_valid)\n",
        "\n",
        "    # Calculate mean squared error (MSE) for validation set\n",
        "    valid_mse = mean_squared_error(y_valid, y_valid_pred)\n",
        "    print('Validation MSE:', valid_mse)\n",
        "\n",
        "    # Predict on the test set\n",
        "    y_test_pred = model.predict(X_test)\n",
        "\n",
        "    # Calculate mean squared error (MSE) for the test set\n",
        "    test_mse = mean_squared_error(y_test, y_test_pred)\n",
        "    print('Test MSE:', test_mse)\n",
        "\n",
        "    # Predict on the training set\n",
        "    y_train_pred = model.predict(X_train)\n",
        "\n",
        "    # Calculate mean squared error (MSE) for the training set\n",
        "    train_mse = mean_squared_error(y_train, y_train_pred)\n",
        "    print('Training MSE:', train_mse)\n",
        "\n",
        "\n",
        "# Analyze using 'market_share' as the target variable\n",
        "print('df_mkt_share:', df_mkt_share.shape)\n",
        "analyze(df_mkt_share, 'market_share')"
      ]
    }
  ],
  "metadata": {
    "kernelspec": {
      "display_name": "Python 3",
      "name": "python3"
    },
    "language_info": {
      "codemirror_mode": {
        "name": "ipython",
        "version": 3
      },
      "file_extension": ".py",
      "mimetype": "text/x-python",
      "name": "python",
      "nbconvert_exporter": "python",
      "pygments_lexer": "ipython3",
      "version": "3.10.9"
    },
    "orig_nbformat": 4,
    "colab": {
      "provenance": [],
      "gpuType": "T4",
      "toc_visible": true
    },
    "accelerator": "GPU"
  },
  "nbformat": 4,
  "nbformat_minor": 0
}