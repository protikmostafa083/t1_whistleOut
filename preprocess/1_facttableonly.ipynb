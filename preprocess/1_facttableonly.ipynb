{
 "cells": [
  {
   "cell_type": "markdown",
   "source": [
    "## import the required libraries"
   ],
   "metadata": {
    "collapsed": false
   },
   "id": "c464f56db9ace485"
  },
  {
   "cell_type": "code",
   "execution_count": 3,
   "id": "initial_id",
   "metadata": {
    "collapsed": true,
    "ExecuteTime": {
     "end_time": "2023-08-19T11:16:33.579594100Z",
     "start_time": "2023-08-19T11:16:33.528130400Z"
    }
   },
   "outputs": [],
   "source": [
    "import pandas as pd                         # Pandas provides data structures and functions for efficiently manipulating and analyzing data.\n",
    "import numpy as np                          # NumPy is a fundamental package for numerical computing, supporting large arrays and matrices.\n",
    "import matplotlib.pyplot as plt             # Matplotlib is a versatile plotting library for creating static, interactive, and animated visualizations.\n",
    "import seaborn as sns                       # Seaborn is built on top of Matplotlib and offers a high-level interface for creating attractive statistical visualizations.\n",
    "import missingno as msno                    # Missingno is a library for visualizing missing data patterns, helping identify areas with missing data.\n",
    "import plotly.express as px                 # Plotly Express is a library for creating interactive, web-based visualizations with ease.\n",
    "import sweetviz as sv                       # Sweetviz is a library for automated data visualization and comparison, generating detailed visual reports for datasets.\n",
    "import dataprep as dp                       # DataPrep simplifies data preparation tasks such as cleaning, transforming, and exploring datasets."
   ]
  },
  {
   "cell_type": "markdown",
   "source": [
    "## load and explore the data"
   ],
   "metadata": {
    "collapsed": false
   },
   "id": "d2b4d057afb5e28c"
  },
  {
   "cell_type": "code",
   "execution_count": 4,
   "outputs": [
    {
     "name": "stderr",
     "output_type": "stream",
     "text": [
      "C:\\Users\\proti\\AppData\\Local\\Temp\\ipykernel_3316\\2202365401.py:5: DtypeWarning: Columns (39) have mixed types. Specify dtype option on import or set low_memory=False.\n",
      "  data = pd.read_csv(data_path)\n"
     ]
    }
   ],
   "source": [
    "# define the data path\n",
    "data_path  = r'D:\\CodeSpace\\Projects\\whistleout\\data\\FactUTSPageImpression.csv'         # It will change for each user\n",
    "\n",
    "# load data into pandas df\n",
    "data = pd.read_csv(data_path)"
   ],
   "metadata": {
    "collapsed": false,
    "ExecuteTime": {
     "end_time": "2023-08-19T11:16:38.835761300Z",
     "start_time": "2023-08-19T11:16:35.996487700Z"
    }
   },
   "id": "62418b732d7ba742"
  },
  {
   "cell_type": "code",
   "execution_count": 7,
   "outputs": [
    {
     "name": "stdout",
     "output_type": "stream",
     "text": [
      "          ID                     ViewedOn                 ViewedOnDate  \\\n",
      "0  276281191  2022-12-01 12:09:56.7970000  2022-12-01 00:00:00.0000000   \n",
      "1  278966940  2023-01-28 10:12:36.3770000  2023-01-28 00:00:00.0000000   \n",
      "2  279637545  2023-02-10 15:48:24.4800000  2023-02-10 00:00:00.0000000   \n",
      "3  277464744  2022-12-29 10:21:00.7200000  2022-12-29 00:00:00.0000000   \n",
      "4  279014393  2023-01-29 11:32:02.9200000  2023-01-29 00:00:00.0000000   \n",
      "\n",
      "   ProductKey  CampaignKey  SearchCriteriaKey  MobilePhoneKey  UserIdKey  \\\n",
      "0           0            0               1283               0   30763830   \n",
      "1           0            0               1283               0   43749662   \n",
      "2           0            0               1283               0   44239405   \n",
      "3           0            0               1283               0   32428604   \n",
      "4           0            0               1283               0   31285621   \n",
      "\n",
      "   URLKey  LandingURLKey  ...  WOHeadlineExtraDataDiscount  OneOffFeeTotal  \\\n",
      "0  218641         218641  ...                          0.0             0.0   \n",
      "1   40104          40104  ...                          0.0             0.0   \n",
      "2   62097          45538  ...                          0.0             0.0   \n",
      "3   40104          40104  ...                          0.0             0.0   \n",
      "4   32641          47995  ...                          0.0             0.0   \n",
      "\n",
      "   MonthlyFeeTotal  AnnualFeeTotal  Phoneupfrontcost  Phonemonthlycost  \\\n",
      "0              0.0             0.0               0.0               0.0   \n",
      "1              0.0             0.0               0.0               0.0   \n",
      "2              0.0             0.0               0.0               0.0   \n",
      "3              0.0             0.0               0.0               0.0   \n",
      "4              0.0             0.0               0.0               0.0   \n",
      "\n",
      "   Phonefinancingterm  PhoneEarlyupgradeterm  Phoneleaseterm  \\\n",
      "0                 NaN                    NaN             NaN   \n",
      "1                 NaN                    NaN             NaN   \n",
      "2                 NaN                    NaN             NaN   \n",
      "3                 NaN                    NaN             NaN   \n",
      "4                 NaN                    NaN             NaN   \n",
      "\n",
      "   Phonefinancetypedesc  \n",
      "0                   NaN  \n",
      "1                   NaN  \n",
      "2                   NaN  \n",
      "3                   NaN  \n",
      "4                   NaN  \n",
      "\n",
      "[5 rows x 40 columns]\n"
     ]
    }
   ],
   "source": [
    "# explore data\n",
    "print(data.head())"
   ],
   "metadata": {
    "collapsed": false,
    "ExecuteTime": {
     "end_time": "2023-08-19T11:17:41.500322400Z",
     "start_time": "2023-08-19T11:17:41.497314700Z"
    }
   },
   "id": "c3571327ab83f9fe"
  },
  {
   "cell_type": "code",
   "execution_count": 8,
   "outputs": [
    {
     "name": "stdout",
     "output_type": "stream",
     "text": [
      "<class 'pandas.core.frame.DataFrame'>\n",
      "RangeIndex: 1167991 entries, 0 to 1167990\n",
      "Data columns (total 40 columns):\n",
      " #   Column                       Non-Null Count    Dtype  \n",
      "---  ------                       --------------    -----  \n",
      " 0   ID                           1167991 non-null  int64  \n",
      " 1   ViewedOn                     1167991 non-null  object \n",
      " 2   ViewedOnDate                 1167991 non-null  object \n",
      " 3   ProductKey                   1167991 non-null  int64  \n",
      " 4   CampaignKey                  1167991 non-null  int64  \n",
      " 5   SearchCriteriaKey            1167991 non-null  int64  \n",
      " 6   MobilePhoneKey               1167991 non-null  int64  \n",
      " 7   UserIdKey                    1167991 non-null  int64  \n",
      " 8   URLKey                       1167991 non-null  int64  \n",
      " 9   LandingURLKey                1167991 non-null  int64  \n",
      " 10  ReferrerURLKey               1167991 non-null  int64  \n",
      " 11  FirstReferrerURLKey          1167991 non-null  int64  \n",
      " 12  SupplierKey                  1167991 non-null  int64  \n",
      " 13  PrevPageURLKey               944430 non-null   float64\n",
      " 14  TransactionCount             1167991 non-null  int64  \n",
      " 15  PageCount                    1167991 non-null  int64  \n",
      " 16  IsAd                         1167991 non-null  int64  \n",
      " 17  IsTransaction                1167991 non-null  int64  \n",
      " 18  IsProduct                    1167991 non-null  int64  \n",
      " 19  PrevID                       944430 non-null   float64\n",
      " 20  AffiliateName                1167991 non-null  object \n",
      " 21  DeviceTypeDesc               1167991 non-null  object \n",
      " 22  ContractLengthMonths         1167991 non-null  int64  \n",
      " 23  ContractLengthDesc           1167991 non-null  object \n",
      " 24  ProductAreaName              1167991 non-null  object \n",
      " 25  Source                       863815 non-null   object \n",
      " 26  Medium                       863789 non-null   object \n",
      " 27  Campaign                     863789 non-null   object \n",
      " 28  WOHeadlinePlanFixedDiscount  1167991 non-null  float64\n",
      " 29  WOHeadlinePhoneDiscount      1167991 non-null  float64\n",
      " 30  WOHeadlineExtraDataDiscount  1167489 non-null  float64\n",
      " 31  OneOffFeeTotal               1167991 non-null  float64\n",
      " 32  MonthlyFeeTotal              1167991 non-null  float64\n",
      " 33  AnnualFeeTotal               1167991 non-null  float64\n",
      " 34  Phoneupfrontcost             1167991 non-null  float64\n",
      " 35  Phonemonthlycost             1167991 non-null  float64\n",
      " 36  Phonefinancingterm           16511 non-null    float64\n",
      " 37  PhoneEarlyupgradeterm        7 non-null        float64\n",
      " 38  Phoneleaseterm               6896 non-null     float64\n",
      " 39  Phonefinancetypedesc         23401 non-null    object \n",
      "dtypes: float64(13), int64(17), object(10)\n",
      "memory usage: 356.4+ MB\n",
      "None\n"
     ]
    }
   ],
   "source": [
    "print(data.info())"
   ],
   "metadata": {
    "collapsed": false,
    "ExecuteTime": {
     "end_time": "2023-08-19T11:17:48.179954300Z",
     "start_time": "2023-08-19T11:17:47.392494500Z"
    }
   },
   "id": "222eb1826d80caec"
  },
  {
   "cell_type": "markdown",
   "source": [],
   "metadata": {
    "collapsed": false
   },
   "id": "a57183807b7790bf"
  }
 ],
 "metadata": {
  "kernelspec": {
   "display_name": "Python 3",
   "language": "python",
   "name": "python3"
  },
  "language_info": {
   "codemirror_mode": {
    "name": "ipython",
    "version": 2
   },
   "file_extension": ".py",
   "mimetype": "text/x-python",
   "name": "python",
   "nbconvert_exporter": "python",
   "pygments_lexer": "ipython2",
   "version": "2.7.6"
  }
 },
 "nbformat": 4,
 "nbformat_minor": 5
}
