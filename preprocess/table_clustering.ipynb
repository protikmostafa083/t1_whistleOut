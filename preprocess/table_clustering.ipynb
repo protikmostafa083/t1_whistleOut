{
  "nbformat": 4,
  "nbformat_minor": 0,
  "metadata": {
    "colab": {
      "provenance": []
    },
    "kernelspec": {
      "name": "python3",
      "display_name": "Python 3"
    },
    "language_info": {
      "name": "python"
    }
  },
  "cells": [
    {
      "cell_type": "code",
      "source": [
        "from google.colab import drive\n",
        "drive.mount('/content/drive')"
      ],
      "metadata": {
        "colab": {
          "base_uri": "https://localhost:8080/"
        },
        "id": "N4kWZZCamZLY",
        "outputId": "03905a9f-aebb-449d-d555-52807e552d55"
      },
      "execution_count": null,
      "outputs": [
        {
          "output_type": "stream",
          "name": "stdout",
          "text": [
            "Mounted at /content/drive\n"
          ]
        }
      ]
    },
    {
      "cell_type": "code",
      "source": [
        "#%cd '/content/drive/MyDrive/UniThings/'Semester 4'/iLab2/data'"
      ],
      "metadata": {
        "colab": {
          "base_uri": "https://localhost:8080/"
        },
        "id": "OxATL1NFmcCF",
        "outputId": "e6f0d9e2-4100-48da-f113-980cab612641"
      },
      "execution_count": null,
      "outputs": [
        {
          "output_type": "stream",
          "name": "stdout",
          "text": [
            "/content/drive/MyDrive/UniThings/Semester 4/iLab2/data\n"
          ]
        }
      ]
    },
    {
      "cell_type": "code",
      "source": [
        "%cd '/content/drive/Shareddrives/protik/iLab/Dataset/data'"
      ],
      "metadata": {
        "colab": {
          "base_uri": "https://localhost:8080/"
        },
        "id": "JO6BuwLwgdji",
        "outputId": "ed79b363-e10f-4ff3-9703-91685040994d"
      },
      "execution_count": null,
      "outputs": [
        {
          "output_type": "stream",
          "name": "stdout",
          "text": [
            "/content/drive/Shareddrives/protik/iLab/Dataset/data\n"
          ]
        }
      ]
    },
    {
      "cell_type": "code",
      "source": [
        "%ls"
      ],
      "metadata": {
        "colab": {
          "base_uri": "https://localhost:8080/"
        },
        "id": "o23QPhF4meIA",
        "outputId": "517f61e3-de81-42ce-8beb-318fb0317470"
      },
      "execution_count": null,
      "outputs": [
        {
          "output_type": "stream",
          "name": "stdout",
          "text": [
            "DimUTSCampaign.csv     DimUTSMobileProduct.csv   DimUTSSupplier.csv\n",
            "DimUTSIspProduct.csv   DimUTSProduct.csv         DimUTSURL.csv\n",
            "DimUTSMobilePhone.csv  DimUTSSearchCriteria.csv  FactUTSPageImpression.csv\n"
          ]
        }
      ]
    },
    {
      "cell_type": "code",
      "source": [
        "import pandas as pd\n",
        "\n",
        "df = pd.read_csv(\"FactUTSPageImpression.csv\")\n",
        "df.columns"
      ],
      "metadata": {
        "colab": {
          "base_uri": "https://localhost:8080/"
        },
        "id": "ibmECHAYglPu",
        "outputId": "5eaec56a-0c37-4767-fe87-357b6cfefab7"
      },
      "execution_count": null,
      "outputs": [
        {
          "output_type": "stream",
          "name": "stderr",
          "text": [
            "<ipython-input-4-3f0397a02590>:3: DtypeWarning: Columns (39) have mixed types. Specify dtype option on import or set low_memory=False.\n",
            "  df = pd.read_csv(\"FactUTSPageImpression.csv\")\n"
          ]
        },
        {
          "output_type": "execute_result",
          "data": {
            "text/plain": [
              "Index(['ID', 'ViewedOn', 'ViewedOnDate', 'ProductKey', 'CampaignKey',\n",
              "       'SearchCriteriaKey', 'MobilePhoneKey', 'UserIdKey', 'URLKey',\n",
              "       'LandingURLKey', 'ReferrerURLKey', 'FirstReferrerURLKey', 'SupplierKey',\n",
              "       'PrevPageURLKey', 'TransactionCount', 'PageCount', 'IsAd',\n",
              "       'IsTransaction', 'IsProduct', 'PrevID', 'AffiliateName',\n",
              "       'DeviceTypeDesc', 'ContractLengthMonths', 'ContractLengthDesc',\n",
              "       'ProductAreaName', 'Source', 'Medium', 'Campaign',\n",
              "       'WOHeadlinePlanFixedDiscount', 'WOHeadlinePhoneDiscount',\n",
              "       'WOHeadlineExtraDataDiscount', 'OneOffFeeTotal', 'MonthlyFeeTotal',\n",
              "       'AnnualFeeTotal', 'Phoneupfrontcost', 'Phonemonthlycost',\n",
              "       'Phonefinancingterm', 'PhoneEarlyupgradeterm', 'Phoneleaseterm',\n",
              "       'Phonefinancetypedesc'],\n",
              "      dtype='object')"
            ]
          },
          "metadata": {},
          "execution_count": 4
        }
      ]
    },
    {
      "cell_type": "code",
      "source": [
        "import os\n",
        "\n",
        "# Use os.listdir() to get a list of file names in the current working directory\n",
        "table_names = os.listdir()\n",
        "\n",
        "# Print the list of file names\n",
        "print(table_names)"
      ],
      "metadata": {
        "colab": {
          "base_uri": "https://localhost:8080/"
        },
        "id": "jQ7GMz1dmndb",
        "outputId": "5081ea19-beda-40a2-ead2-028c9d19f53a"
      },
      "execution_count": null,
      "outputs": [
        {
          "output_type": "stream",
          "name": "stdout",
          "text": [
            "['DimUTSSupplier.csv', 'DimUTSCampaign.csv', 'DimUTSMobilePhone.csv', 'FactUTSPageImpression.csv', 'DimUTSURL.csv', 'DimUTSMobileProduct.csv', 'DimUTSSearchCriteria.csv', 'DimUTSIspProduct.csv', 'DimUTSProduct.csv']\n"
          ]
        }
      ]
    },
    {
      "cell_type": "code",
      "execution_count": null,
      "metadata": {
        "colab": {
          "base_uri": "https://localhost:8080/"
        },
        "id": "aghG9VErmUv3",
        "outputId": "c58b10da-8b67-48c6-d776-2ffbaf87366a"
      },
      "outputs": [
        {
          "output_type": "stream",
          "name": "stdout",
          "text": [
            "Cluster 0: ['DimUTSSupplier.csv', 'DimUTSCampaign.csv', 'FactUTSPageImpression.csv', 'DimUTSMobileProduct.csv', 'DimUTSSearchCriteria.csv', 'DimUTSProduct.csv']\n",
            "Cluster 1: ['DimUTSIspProduct.csv']\n",
            "Cluster 2: ['DimUTSURL.csv']\n",
            "Cluster 3: ['DimUTSMobilePhone.csv']\n"
          ]
        },
        {
          "output_type": "stream",
          "name": "stderr",
          "text": [
            "/usr/local/lib/python3.10/dist-packages/sklearn/cluster/_kmeans.py:870: FutureWarning: The default value of `n_init` will change from 10 to 'auto' in 1.4. Set the value of `n_init` explicitly to suppress the warning\n",
            "  warnings.warn(\n"
          ]
        }
      ],
      "source": [
        "import pandas as pd\n",
        "from sklearn.feature_extraction.text import TfidfVectorizer\n",
        "from sklearn.cluster import KMeans\n",
        "\n",
        "# Convert table names into numerical features using TF-IDF\n",
        "tfidf_vectorizer = TfidfVectorizer()\n",
        "table_name_vectors = tfidf_vectorizer.fit_transform(table_names)\n",
        "\n",
        "# Choose the number of clusters (K) based on your domain knowledge or metrics\n",
        "num_clusters = 4\n",
        "\n",
        "# Apply K-Means clustering\n",
        "kmeans = KMeans(n_clusters=num_clusters, random_state=42)\n",
        "cluster_labels = kmeans.fit_predict(table_name_vectors)\n",
        "\n",
        "# Create a DataFrame to store the results\n",
        "results_df = pd.DataFrame({'Table Name': table_names, 'Cluster Label': cluster_labels})\n",
        "\n",
        "# Print the clustering results\n",
        "for cluster_num in range(num_clusters):\n",
        "    cluster_tables = results_df[results_df['Cluster Label'] == cluster_num]['Table Name'].tolist()\n",
        "    print(f'Cluster {cluster_num}: {cluster_tables}')\n"
      ]
    }
  ]
}