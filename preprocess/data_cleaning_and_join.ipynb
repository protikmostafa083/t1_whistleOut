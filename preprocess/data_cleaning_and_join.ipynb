{
  "nbformat": 4,
  "nbformat_minor": 0,
  "metadata": {
    "colab": {
      "provenance": [],
      "toc_visible": true
    },
    "kernelspec": {
      "name": "python3",
      "display_name": "Python 3"
    },
    "language_info": {
      "name": "python"
    }
  },
  "cells": [
    {
      "cell_type": "code",
      "source": [
        "!pip install -U pandasql -q"
      ],
      "metadata": {
        "id": "jknaouhAHju0",
        "colab": {
          "base_uri": "https://localhost:8080/"
        },
        "outputId": "292d3be2-2bb1-4c37-d4da-e85b4132b943"
      },
      "execution_count": null,
      "outputs": [
        {
          "output_type": "stream",
          "name": "stdout",
          "text": [
            "  Preparing metadata (setup.py) ... \u001b[?25l\u001b[?25hdone\n",
            "  Building wheel for pandasql (setup.py) ... \u001b[?25l\u001b[?25hdone\n"
          ]
        }
      ]
    },
    {
      "cell_type": "code",
      "source": [
        "!pip install pyforest -q"
      ],
      "metadata": {
        "id": "OTTJVvBaHnTI",
        "colab": {
          "base_uri": "https://localhost:8080/"
        },
        "outputId": "e3b3115d-17e4-4166-8ec4-0bfab2dd883c"
      },
      "execution_count": null,
      "outputs": [
        {
          "output_type": "stream",
          "name": "stdout",
          "text": [
            "  Preparing metadata (setup.py) ... \u001b[?25l\u001b[?25hdone\n",
            "  Building wheel for pyforest (setup.py) ... \u001b[?25l\u001b[?25hdone\n"
          ]
        }
      ]
    },
    {
      "cell_type": "code",
      "execution_count": null,
      "metadata": {
        "colab": {
          "base_uri": "https://localhost:8080/"
        },
        "id": "LZUUFw4oHD0g",
        "outputId": "037f291e-9b06-42b3-e1cd-1f5bc28774dc"
      },
      "outputs": [
        {
          "output_type": "stream",
          "name": "stdout",
          "text": [
            "Mounted at /content/drive\n"
          ]
        }
      ],
      "source": [
        "from google.colab import drive\n",
        "drive.mount('/content/drive')"
      ]
    },
    {
      "cell_type": "code",
      "source": [
        "import pandas as pd\n",
        "from pandasql import sqldf\n",
        "import pyforest"
      ],
      "metadata": {
        "id": "kQau98iDHN00"
      },
      "execution_count": null,
      "outputs": []
    },
    {
      "cell_type": "code",
      "source": [
        "%cd /content/drive/MyDrive/UTS/SPR23/iLab/Dataset/by_wistleout"
      ],
      "metadata": {
        "colab": {
          "base_uri": "https://localhost:8080/"
        },
        "id": "RgLXHi40HrHG",
        "outputId": "885415ea-46ff-4127-fd65-f63489e685b0"
      },
      "execution_count": null,
      "outputs": [
        {
          "output_type": "stream",
          "name": "stdout",
          "text": [
            "/content/drive/MyDrive/UTS/SPR23/iLab/Dataset/by_wistleout\n"
          ]
        }
      ]
    },
    {
      "cell_type": "code",
      "source": [
        "ls"
      ],
      "metadata": {
        "colab": {
          "base_uri": "https://localhost:8080/"
        },
        "id": "TmEzNMtnHs2E",
        "outputId": "29271390-5b7a-4b19-ca87-af1253bc5670"
      },
      "execution_count": null,
      "outputs": [
        {
          "output_type": "stream",
          "name": "stdout",
          "text": [
            "DimUTSCampaign.csv     DimUTSMobileProduct.csv   DimUTSSupplier.csv\n",
            "DimUTSIspProduct.csv   DimUTSProduct.csv         DimUTSURL.csv\n",
            "DimUTSMobilePhone.csv  DimUTSSearchCriteria.csv  FactUTSPageImpression.csv\n"
          ]
        }
      ]
    },
    {
      "cell_type": "markdown",
      "source": [
        "# Fact Table"
      ],
      "metadata": {
        "id": "SHapU5sEQnaI"
      }
    },
    {
      "cell_type": "code",
      "source": [
        "fact_df = pd.read_csv('/content/drive/Shareddrives/protik/iLab/Dataset/data/FactUTSPageImpression.csv')"
      ],
      "metadata": {
        "colab": {
          "base_uri": "https://localhost:8080/"
        },
        "id": "nkTAmo7iHuRF",
        "outputId": "b172900f-6bd3-4707-bd55-b475b6ab0846"
      },
      "execution_count": null,
      "outputs": [
        {
          "output_type": "stream",
          "name": "stderr",
          "text": [
            "<ipython-input-7-5c7884fda150>:1: DtypeWarning: Columns (39) have mixed types. Specify dtype option on import or set low_memory=False.\n",
            "  fact_df = pd.read_csv('/content/drive/Shareddrives/protik/iLab/Dataset/data/FactUTSPageImpression.csv')\n"
          ]
        }
      ]
    },
    {
      "cell_type": "code",
      "source": [
        "fact_df.head(5)"
      ],
      "metadata": {
        "colab": {
          "base_uri": "https://localhost:8080/",
          "height": 342
        },
        "id": "YifXVy4DHvtG",
        "outputId": "d6c173d8-fcc1-441f-b374-551073d30a6f"
      },
      "execution_count": null,
      "outputs": [
        {
          "output_type": "execute_result",
          "data": {
            "text/plain": [
              "          ID                     ViewedOn                 ViewedOnDate  \\\n",
              "0  276281191  2022-12-01 12:09:56.7970000  2022-12-01 00:00:00.0000000   \n",
              "1  278966940  2023-01-28 10:12:36.3770000  2023-01-28 00:00:00.0000000   \n",
              "2  279637545  2023-02-10 15:48:24.4800000  2023-02-10 00:00:00.0000000   \n",
              "3  277464744  2022-12-29 10:21:00.7200000  2022-12-29 00:00:00.0000000   \n",
              "4  279014393  2023-01-29 11:32:02.9200000  2023-01-29 00:00:00.0000000   \n",
              "\n",
              "   ProductKey  CampaignKey  SearchCriteriaKey  MobilePhoneKey  UserIdKey  \\\n",
              "0           0            0               1283               0   30763830   \n",
              "1           0            0               1283               0   43749662   \n",
              "2           0            0               1283               0   44239405   \n",
              "3           0            0               1283               0   32428604   \n",
              "4           0            0               1283               0   31285621   \n",
              "\n",
              "   URLKey  LandingURLKey  ...  WOHeadlineExtraDataDiscount  OneOffFeeTotal  \\\n",
              "0  218641         218641  ...                          0.0             0.0   \n",
              "1   40104          40104  ...                          0.0             0.0   \n",
              "2   62097          45538  ...                          0.0             0.0   \n",
              "3   40104          40104  ...                          0.0             0.0   \n",
              "4   32641          47995  ...                          0.0             0.0   \n",
              "\n",
              "   MonthlyFeeTotal  AnnualFeeTotal  Phoneupfrontcost  Phonemonthlycost  \\\n",
              "0              0.0             0.0               0.0               0.0   \n",
              "1              0.0             0.0               0.0               0.0   \n",
              "2              0.0             0.0               0.0               0.0   \n",
              "3              0.0             0.0               0.0               0.0   \n",
              "4              0.0             0.0               0.0               0.0   \n",
              "\n",
              "   Phonefinancingterm  PhoneEarlyupgradeterm  Phoneleaseterm  \\\n",
              "0                 NaN                    NaN             NaN   \n",
              "1                 NaN                    NaN             NaN   \n",
              "2                 NaN                    NaN             NaN   \n",
              "3                 NaN                    NaN             NaN   \n",
              "4                 NaN                    NaN             NaN   \n",
              "\n",
              "   Phonefinancetypedesc  \n",
              "0                   NaN  \n",
              "1                   NaN  \n",
              "2                   NaN  \n",
              "3                   NaN  \n",
              "4                   NaN  \n",
              "\n",
              "[5 rows x 40 columns]"
            ],
            "text/html": [
              "\n",
              "  <div id=\"df-cd1beb8c-639b-444d-9276-e844f819d7e3\" class=\"colab-df-container\">\n",
              "    <div>\n",
              "<style scoped>\n",
              "    .dataframe tbody tr th:only-of-type {\n",
              "        vertical-align: middle;\n",
              "    }\n",
              "\n",
              "    .dataframe tbody tr th {\n",
              "        vertical-align: top;\n",
              "    }\n",
              "\n",
              "    .dataframe thead th {\n",
              "        text-align: right;\n",
              "    }\n",
              "</style>\n",
              "<table border=\"1\" class=\"dataframe\">\n",
              "  <thead>\n",
              "    <tr style=\"text-align: right;\">\n",
              "      <th></th>\n",
              "      <th>ID</th>\n",
              "      <th>ViewedOn</th>\n",
              "      <th>ViewedOnDate</th>\n",
              "      <th>ProductKey</th>\n",
              "      <th>CampaignKey</th>\n",
              "      <th>SearchCriteriaKey</th>\n",
              "      <th>MobilePhoneKey</th>\n",
              "      <th>UserIdKey</th>\n",
              "      <th>URLKey</th>\n",
              "      <th>LandingURLKey</th>\n",
              "      <th>...</th>\n",
              "      <th>WOHeadlineExtraDataDiscount</th>\n",
              "      <th>OneOffFeeTotal</th>\n",
              "      <th>MonthlyFeeTotal</th>\n",
              "      <th>AnnualFeeTotal</th>\n",
              "      <th>Phoneupfrontcost</th>\n",
              "      <th>Phonemonthlycost</th>\n",
              "      <th>Phonefinancingterm</th>\n",
              "      <th>PhoneEarlyupgradeterm</th>\n",
              "      <th>Phoneleaseterm</th>\n",
              "      <th>Phonefinancetypedesc</th>\n",
              "    </tr>\n",
              "  </thead>\n",
              "  <tbody>\n",
              "    <tr>\n",
              "      <th>0</th>\n",
              "      <td>276281191</td>\n",
              "      <td>2022-12-01 12:09:56.7970000</td>\n",
              "      <td>2022-12-01 00:00:00.0000000</td>\n",
              "      <td>0</td>\n",
              "      <td>0</td>\n",
              "      <td>1283</td>\n",
              "      <td>0</td>\n",
              "      <td>30763830</td>\n",
              "      <td>218641</td>\n",
              "      <td>218641</td>\n",
              "      <td>...</td>\n",
              "      <td>0.0</td>\n",
              "      <td>0.0</td>\n",
              "      <td>0.0</td>\n",
              "      <td>0.0</td>\n",
              "      <td>0.0</td>\n",
              "      <td>0.0</td>\n",
              "      <td>NaN</td>\n",
              "      <td>NaN</td>\n",
              "      <td>NaN</td>\n",
              "      <td>NaN</td>\n",
              "    </tr>\n",
              "    <tr>\n",
              "      <th>1</th>\n",
              "      <td>278966940</td>\n",
              "      <td>2023-01-28 10:12:36.3770000</td>\n",
              "      <td>2023-01-28 00:00:00.0000000</td>\n",
              "      <td>0</td>\n",
              "      <td>0</td>\n",
              "      <td>1283</td>\n",
              "      <td>0</td>\n",
              "      <td>43749662</td>\n",
              "      <td>40104</td>\n",
              "      <td>40104</td>\n",
              "      <td>...</td>\n",
              "      <td>0.0</td>\n",
              "      <td>0.0</td>\n",
              "      <td>0.0</td>\n",
              "      <td>0.0</td>\n",
              "      <td>0.0</td>\n",
              "      <td>0.0</td>\n",
              "      <td>NaN</td>\n",
              "      <td>NaN</td>\n",
              "      <td>NaN</td>\n",
              "      <td>NaN</td>\n",
              "    </tr>\n",
              "    <tr>\n",
              "      <th>2</th>\n",
              "      <td>279637545</td>\n",
              "      <td>2023-02-10 15:48:24.4800000</td>\n",
              "      <td>2023-02-10 00:00:00.0000000</td>\n",
              "      <td>0</td>\n",
              "      <td>0</td>\n",
              "      <td>1283</td>\n",
              "      <td>0</td>\n",
              "      <td>44239405</td>\n",
              "      <td>62097</td>\n",
              "      <td>45538</td>\n",
              "      <td>...</td>\n",
              "      <td>0.0</td>\n",
              "      <td>0.0</td>\n",
              "      <td>0.0</td>\n",
              "      <td>0.0</td>\n",
              "      <td>0.0</td>\n",
              "      <td>0.0</td>\n",
              "      <td>NaN</td>\n",
              "      <td>NaN</td>\n",
              "      <td>NaN</td>\n",
              "      <td>NaN</td>\n",
              "    </tr>\n",
              "    <tr>\n",
              "      <th>3</th>\n",
              "      <td>277464744</td>\n",
              "      <td>2022-12-29 10:21:00.7200000</td>\n",
              "      <td>2022-12-29 00:00:00.0000000</td>\n",
              "      <td>0</td>\n",
              "      <td>0</td>\n",
              "      <td>1283</td>\n",
              "      <td>0</td>\n",
              "      <td>32428604</td>\n",
              "      <td>40104</td>\n",
              "      <td>40104</td>\n",
              "      <td>...</td>\n",
              "      <td>0.0</td>\n",
              "      <td>0.0</td>\n",
              "      <td>0.0</td>\n",
              "      <td>0.0</td>\n",
              "      <td>0.0</td>\n",
              "      <td>0.0</td>\n",
              "      <td>NaN</td>\n",
              "      <td>NaN</td>\n",
              "      <td>NaN</td>\n",
              "      <td>NaN</td>\n",
              "    </tr>\n",
              "    <tr>\n",
              "      <th>4</th>\n",
              "      <td>279014393</td>\n",
              "      <td>2023-01-29 11:32:02.9200000</td>\n",
              "      <td>2023-01-29 00:00:00.0000000</td>\n",
              "      <td>0</td>\n",
              "      <td>0</td>\n",
              "      <td>1283</td>\n",
              "      <td>0</td>\n",
              "      <td>31285621</td>\n",
              "      <td>32641</td>\n",
              "      <td>47995</td>\n",
              "      <td>...</td>\n",
              "      <td>0.0</td>\n",
              "      <td>0.0</td>\n",
              "      <td>0.0</td>\n",
              "      <td>0.0</td>\n",
              "      <td>0.0</td>\n",
              "      <td>0.0</td>\n",
              "      <td>NaN</td>\n",
              "      <td>NaN</td>\n",
              "      <td>NaN</td>\n",
              "      <td>NaN</td>\n",
              "    </tr>\n",
              "  </tbody>\n",
              "</table>\n",
              "<p>5 rows × 40 columns</p>\n",
              "</div>\n",
              "    <div class=\"colab-df-buttons\">\n",
              "\n",
              "  <div class=\"colab-df-container\">\n",
              "    <button class=\"colab-df-convert\" onclick=\"convertToInteractive('df-cd1beb8c-639b-444d-9276-e844f819d7e3')\"\n",
              "            title=\"Convert this dataframe to an interactive table.\"\n",
              "            style=\"display:none;\">\n",
              "\n",
              "  <svg xmlns=\"http://www.w3.org/2000/svg\" height=\"24px\" viewBox=\"0 -960 960 960\">\n",
              "    <path d=\"M120-120v-720h720v720H120Zm60-500h600v-160H180v160Zm220 220h160v-160H400v160Zm0 220h160v-160H400v160ZM180-400h160v-160H180v160Zm440 0h160v-160H620v160ZM180-180h160v-160H180v160Zm440 0h160v-160H620v160Z\"/>\n",
              "  </svg>\n",
              "    </button>\n",
              "\n",
              "  <style>\n",
              "    .colab-df-container {\n",
              "      display:flex;\n",
              "      gap: 12px;\n",
              "    }\n",
              "\n",
              "    .colab-df-convert {\n",
              "      background-color: #E8F0FE;\n",
              "      border: none;\n",
              "      border-radius: 50%;\n",
              "      cursor: pointer;\n",
              "      display: none;\n",
              "      fill: #1967D2;\n",
              "      height: 32px;\n",
              "      padding: 0 0 0 0;\n",
              "      width: 32px;\n",
              "    }\n",
              "\n",
              "    .colab-df-convert:hover {\n",
              "      background-color: #E2EBFA;\n",
              "      box-shadow: 0px 1px 2px rgba(60, 64, 67, 0.3), 0px 1px 3px 1px rgba(60, 64, 67, 0.15);\n",
              "      fill: #174EA6;\n",
              "    }\n",
              "\n",
              "    .colab-df-buttons div {\n",
              "      margin-bottom: 4px;\n",
              "    }\n",
              "\n",
              "    [theme=dark] .colab-df-convert {\n",
              "      background-color: #3B4455;\n",
              "      fill: #D2E3FC;\n",
              "    }\n",
              "\n",
              "    [theme=dark] .colab-df-convert:hover {\n",
              "      background-color: #434B5C;\n",
              "      box-shadow: 0px 1px 3px 1px rgba(0, 0, 0, 0.15);\n",
              "      filter: drop-shadow(0px 1px 2px rgba(0, 0, 0, 0.3));\n",
              "      fill: #FFFFFF;\n",
              "    }\n",
              "  </style>\n",
              "\n",
              "    <script>\n",
              "      const buttonEl =\n",
              "        document.querySelector('#df-cd1beb8c-639b-444d-9276-e844f819d7e3 button.colab-df-convert');\n",
              "      buttonEl.style.display =\n",
              "        google.colab.kernel.accessAllowed ? 'block' : 'none';\n",
              "\n",
              "      async function convertToInteractive(key) {\n",
              "        const element = document.querySelector('#df-cd1beb8c-639b-444d-9276-e844f819d7e3');\n",
              "        const dataTable =\n",
              "          await google.colab.kernel.invokeFunction('convertToInteractive',\n",
              "                                                    [key], {});\n",
              "        if (!dataTable) return;\n",
              "\n",
              "        const docLinkHtml = 'Like what you see? Visit the ' +\n",
              "          '<a target=\"_blank\" href=https://colab.research.google.com/notebooks/data_table.ipynb>data table notebook</a>'\n",
              "          + ' to learn more about interactive tables.';\n",
              "        element.innerHTML = '';\n",
              "        dataTable['output_type'] = 'display_data';\n",
              "        await google.colab.output.renderOutput(dataTable, element);\n",
              "        const docLink = document.createElement('div');\n",
              "        docLink.innerHTML = docLinkHtml;\n",
              "        element.appendChild(docLink);\n",
              "      }\n",
              "    </script>\n",
              "  </div>\n",
              "\n",
              "\n",
              "<div id=\"df-27e1f4c9-19e5-44a4-88e7-d5ebc12e4bb3\">\n",
              "  <button class=\"colab-df-quickchart\" onclick=\"quickchart('df-27e1f4c9-19e5-44a4-88e7-d5ebc12e4bb3')\"\n",
              "            title=\"Suggest charts.\"\n",
              "            style=\"display:none;\">\n",
              "\n",
              "<svg xmlns=\"http://www.w3.org/2000/svg\" height=\"24px\"viewBox=\"0 0 24 24\"\n",
              "     width=\"24px\">\n",
              "    <g>\n",
              "        <path d=\"M19 3H5c-1.1 0-2 .9-2 2v14c0 1.1.9 2 2 2h14c1.1 0 2-.9 2-2V5c0-1.1-.9-2-2-2zM9 17H7v-7h2v7zm4 0h-2V7h2v10zm4 0h-2v-4h2v4z\"/>\n",
              "    </g>\n",
              "</svg>\n",
              "  </button>\n",
              "\n",
              "<style>\n",
              "  .colab-df-quickchart {\n",
              "      --bg-color: #E8F0FE;\n",
              "      --fill-color: #1967D2;\n",
              "      --hover-bg-color: #E2EBFA;\n",
              "      --hover-fill-color: #174EA6;\n",
              "      --disabled-fill-color: #AAA;\n",
              "      --disabled-bg-color: #DDD;\n",
              "  }\n",
              "\n",
              "  [theme=dark] .colab-df-quickchart {\n",
              "      --bg-color: #3B4455;\n",
              "      --fill-color: #D2E3FC;\n",
              "      --hover-bg-color: #434B5C;\n",
              "      --hover-fill-color: #FFFFFF;\n",
              "      --disabled-bg-color: #3B4455;\n",
              "      --disabled-fill-color: #666;\n",
              "  }\n",
              "\n",
              "  .colab-df-quickchart {\n",
              "    background-color: var(--bg-color);\n",
              "    border: none;\n",
              "    border-radius: 50%;\n",
              "    cursor: pointer;\n",
              "    display: none;\n",
              "    fill: var(--fill-color);\n",
              "    height: 32px;\n",
              "    padding: 0;\n",
              "    width: 32px;\n",
              "  }\n",
              "\n",
              "  .colab-df-quickchart:hover {\n",
              "    background-color: var(--hover-bg-color);\n",
              "    box-shadow: 0 1px 2px rgba(60, 64, 67, 0.3), 0 1px 3px 1px rgba(60, 64, 67, 0.15);\n",
              "    fill: var(--button-hover-fill-color);\n",
              "  }\n",
              "\n",
              "  .colab-df-quickchart-complete:disabled,\n",
              "  .colab-df-quickchart-complete:disabled:hover {\n",
              "    background-color: var(--disabled-bg-color);\n",
              "    fill: var(--disabled-fill-color);\n",
              "    box-shadow: none;\n",
              "  }\n",
              "\n",
              "  .colab-df-spinner {\n",
              "    border: 2px solid var(--fill-color);\n",
              "    border-color: transparent;\n",
              "    border-bottom-color: var(--fill-color);\n",
              "    animation:\n",
              "      spin 1s steps(1) infinite;\n",
              "  }\n",
              "\n",
              "  @keyframes spin {\n",
              "    0% {\n",
              "      border-color: transparent;\n",
              "      border-bottom-color: var(--fill-color);\n",
              "      border-left-color: var(--fill-color);\n",
              "    }\n",
              "    20% {\n",
              "      border-color: transparent;\n",
              "      border-left-color: var(--fill-color);\n",
              "      border-top-color: var(--fill-color);\n",
              "    }\n",
              "    30% {\n",
              "      border-color: transparent;\n",
              "      border-left-color: var(--fill-color);\n",
              "      border-top-color: var(--fill-color);\n",
              "      border-right-color: var(--fill-color);\n",
              "    }\n",
              "    40% {\n",
              "      border-color: transparent;\n",
              "      border-right-color: var(--fill-color);\n",
              "      border-top-color: var(--fill-color);\n",
              "    }\n",
              "    60% {\n",
              "      border-color: transparent;\n",
              "      border-right-color: var(--fill-color);\n",
              "    }\n",
              "    80% {\n",
              "      border-color: transparent;\n",
              "      border-right-color: var(--fill-color);\n",
              "      border-bottom-color: var(--fill-color);\n",
              "    }\n",
              "    90% {\n",
              "      border-color: transparent;\n",
              "      border-bottom-color: var(--fill-color);\n",
              "    }\n",
              "  }\n",
              "</style>\n",
              "\n",
              "  <script>\n",
              "    async function quickchart(key) {\n",
              "      const quickchartButtonEl =\n",
              "        document.querySelector('#' + key + ' button');\n",
              "      quickchartButtonEl.disabled = true;  // To prevent multiple clicks.\n",
              "      quickchartButtonEl.classList.add('colab-df-spinner');\n",
              "      try {\n",
              "        const charts = await google.colab.kernel.invokeFunction(\n",
              "            'suggestCharts', [key], {});\n",
              "      } catch (error) {\n",
              "        console.error('Error during call to suggestCharts:', error);\n",
              "      }\n",
              "      quickchartButtonEl.classList.remove('colab-df-spinner');\n",
              "      quickchartButtonEl.classList.add('colab-df-quickchart-complete');\n",
              "    }\n",
              "    (() => {\n",
              "      let quickchartButtonEl =\n",
              "        document.querySelector('#df-27e1f4c9-19e5-44a4-88e7-d5ebc12e4bb3 button');\n",
              "      quickchartButtonEl.style.display =\n",
              "        google.colab.kernel.accessAllowed ? 'block' : 'none';\n",
              "    })();\n",
              "  </script>\n",
              "</div>\n",
              "    </div>\n",
              "  </div>\n"
            ]
          },
          "metadata": {},
          "execution_count": 8
        }
      ]
    },
    {
      "cell_type": "code",
      "source": [
        "fact_df['ViewedOnDate'] = pd.to_datetime(fact_df['ViewedOnDate'])\n",
        "fact_df['ViewedOn'] = pd.to_datetime(fact_df['ViewedOn'])\n",
        "\n",
        "# Extract the time part and update the \"ViewedOn\" column\n",
        "fact_df['ViewedOn'] = fact_df['ViewedOn'].dt.strftime('%H:%M:%S')"
      ],
      "metadata": {
        "id": "nF91O8rzH1YT"
      },
      "execution_count": null,
      "outputs": []
    },
    {
      "cell_type": "code",
      "source": [
        "fact_df.rename(columns={'ViewedOn': 'ViewedOnTime'}, inplace=True)"
      ],
      "metadata": {
        "id": "PXiKZz56QenJ"
      },
      "execution_count": null,
      "outputs": []
    },
    {
      "cell_type": "code",
      "source": [
        "fact_df.shape"
      ],
      "metadata": {
        "colab": {
          "base_uri": "https://localhost:8080/"
        },
        "id": "38-ofuIqH4e2",
        "outputId": "e3da668b-1409-4bc1-a111-7847ab9af23a"
      },
      "execution_count": null,
      "outputs": [
        {
          "output_type": "execute_result",
          "data": {
            "text/plain": [
              "(1167991, 40)"
            ]
          },
          "metadata": {},
          "execution_count": 11
        }
      ]
    },
    {
      "cell_type": "code",
      "source": [
        "fact_df = fact_df[fact_df['ViewedOnDate']>='2022-12-01']"
      ],
      "metadata": {
        "id": "ve7V_gN6H4-1"
      },
      "execution_count": null,
      "outputs": []
    },
    {
      "cell_type": "code",
      "source": [
        "fact_df.shape"
      ],
      "metadata": {
        "colab": {
          "base_uri": "https://localhost:8080/"
        },
        "id": "PxrLylkdH7mr",
        "outputId": "16cd5ec2-162a-492d-fed1-6aa207a0d904"
      },
      "execution_count": null,
      "outputs": [
        {
          "output_type": "execute_result",
          "data": {
            "text/plain": [
              "(1115188, 40)"
            ]
          },
          "metadata": {},
          "execution_count": 13
        }
      ]
    },
    {
      "cell_type": "code",
      "source": [
        "fact_df = fact_df[fact_df['ProductAreaName'] == 'Mobile Phones']"
      ],
      "metadata": {
        "id": "mpl-2814IM1D"
      },
      "execution_count": null,
      "outputs": []
    },
    {
      "cell_type": "code",
      "source": [
        "fact_df.shape"
      ],
      "metadata": {
        "colab": {
          "base_uri": "https://localhost:8080/"
        },
        "id": "IrqdVdtrINSD",
        "outputId": "8696a30e-c00a-4920-8fc7-391257cc3a4b"
      },
      "execution_count": null,
      "outputs": [
        {
          "output_type": "execute_result",
          "data": {
            "text/plain": [
              "(483275, 40)"
            ]
          },
          "metadata": {},
          "execution_count": 15
        }
      ]
    },
    {
      "cell_type": "code",
      "source": [
        "fact_df.columns"
      ],
      "metadata": {
        "colab": {
          "base_uri": "https://localhost:8080/"
        },
        "id": "xOGm2PtnH9K0",
        "outputId": "a3290121-9a61-49ee-c5de-0450c13e3ab3"
      },
      "execution_count": null,
      "outputs": [
        {
          "output_type": "execute_result",
          "data": {
            "text/plain": [
              "Index(['ID', 'ViewedOnTime', 'ViewedOnDate', 'ProductKey', 'CampaignKey',\n",
              "       'SearchCriteriaKey', 'MobilePhoneKey', 'UserIdKey', 'URLKey',\n",
              "       'LandingURLKey', 'ReferrerURLKey', 'FirstReferrerURLKey', 'SupplierKey',\n",
              "       'PrevPageURLKey', 'TransactionCount', 'PageCount', 'IsAd',\n",
              "       'IsTransaction', 'IsProduct', 'PrevID', 'AffiliateName',\n",
              "       'DeviceTypeDesc', 'ContractLengthMonths', 'ContractLengthDesc',\n",
              "       'ProductAreaName', 'Source', 'Medium', 'Campaign',\n",
              "       'WOHeadlinePlanFixedDiscount', 'WOHeadlinePhoneDiscount',\n",
              "       'WOHeadlineExtraDataDiscount', 'OneOffFeeTotal', 'MonthlyFeeTotal',\n",
              "       'AnnualFeeTotal', 'Phoneupfrontcost', 'Phonemonthlycost',\n",
              "       'Phonefinancingterm', 'PhoneEarlyupgradeterm', 'Phoneleaseterm',\n",
              "       'Phonefinancetypedesc'],\n",
              "      dtype='object')"
            ]
          },
          "metadata": {},
          "execution_count": 16
        }
      ]
    },
    {
      "cell_type": "code",
      "source": [
        "fact_df[fact_df['IsTransaction'] == 1]['SearchCriteriaKey'].unique()"
      ],
      "metadata": {
        "colab": {
          "base_uri": "https://localhost:8080/"
        },
        "id": "QLOOcjG7IuWb",
        "outputId": "ab00f6e1-22a3-43aa-bc49-11db06091a5a"
      },
      "execution_count": null,
      "outputs": [
        {
          "output_type": "execute_result",
          "data": {
            "text/plain": [
              "array([0])"
            ]
          },
          "metadata": {},
          "execution_count": 17
        }
      ]
    },
    {
      "cell_type": "code",
      "source": [
        "fact_df.drop(columns=['SearchCriteriaKey',\n",
        "                         'ProductAreaName',\n",
        "                         'Phonefinancingterm',\n",
        "                         'PhoneEarlyupgradeterm',\n",
        "                         'Phoneleaseterm',\n",
        "                         'Phonefinancetypedesc',\n",
        "                         'MobilePhoneKey',\n",
        "                         'URLKey',\n",
        "                         'LandingURLKey',\n",
        "                         'ReferrerURLKey',\n",
        "                         'FirstReferrerURLKey',\n",
        "                         'PrevPageURLKey',\n",
        "                         'PrevID'], inplace=True)\n",
        "\n",
        "fact_df.head()"
      ],
      "metadata": {
        "colab": {
          "base_uri": "https://localhost:8080/",
          "height": 256
        },
        "id": "D8Sb7xDyI0di",
        "outputId": "e5263097-c6f4-480c-87ad-9dd6eae2fe7d"
      },
      "execution_count": null,
      "outputs": [
        {
          "output_type": "execute_result",
          "data": {
            "text/plain": [
              "           ID ViewedOnTime ViewedOnDate  ProductKey  CampaignKey  UserIdKey  \\\n",
              "2   279637545     15:48:24   2023-02-10           0            0   44239405   \n",
              "5   278759186     23:12:18   2023-01-23           0            0   29305574   \n",
              "10  279715670     12:20:27   2023-02-12           0            0   45261797   \n",
              "11  277589212     07:07:54   2023-01-01           0            0   44590967   \n",
              "12  277141899     14:04:45   2022-12-21           0            0   30817233   \n",
              "\n",
              "    SupplierKey  TransactionCount  PageCount  IsAd  ...  Medium  \\\n",
              "2             0                 0          1     0  ...     NaN   \n",
              "5             0                 0          1     0  ...     cpc   \n",
              "10            0                 0          1     0  ...     cpc   \n",
              "11            0                 0          1     0  ...     cpc   \n",
              "12            0                 0          1     0  ...     cpc   \n",
              "\n",
              "                      Campaign WOHeadlinePlanFixedDiscount  \\\n",
              "2                          NaN                         0.0   \n",
              "5   0123_MOB_7_Optus_Hot_Deals                         0.0   \n",
              "10                [PS-MOB] Sim                         0.0   \n",
              "11       [PS-MOB] Mobile Plans                         0.0   \n",
              "12           1222_MOB_5_Pixel7                         0.0   \n",
              "\n",
              "   WOHeadlinePhoneDiscount  WOHeadlineExtraDataDiscount OneOffFeeTotal  \\\n",
              "2                      0.0                          0.0            0.0   \n",
              "5                      0.0                          0.0            0.0   \n",
              "10                     0.0                          0.0            0.0   \n",
              "11                     0.0                          0.0            0.0   \n",
              "12                     0.0                          0.0            0.0   \n",
              "\n",
              "   MonthlyFeeTotal AnnualFeeTotal Phoneupfrontcost  Phonemonthlycost  \n",
              "2              0.0            0.0              0.0               0.0  \n",
              "5              0.0            0.0              0.0               0.0  \n",
              "10             0.0            0.0              0.0               0.0  \n",
              "11             0.0            0.0              0.0               0.0  \n",
              "12             0.0            0.0              0.0               0.0  \n",
              "\n",
              "[5 rows x 27 columns]"
            ],
            "text/html": [
              "\n",
              "  <div id=\"df-d38c0518-fbe2-4675-96ed-8d9f5a8b9084\" class=\"colab-df-container\">\n",
              "    <div>\n",
              "<style scoped>\n",
              "    .dataframe tbody tr th:only-of-type {\n",
              "        vertical-align: middle;\n",
              "    }\n",
              "\n",
              "    .dataframe tbody tr th {\n",
              "        vertical-align: top;\n",
              "    }\n",
              "\n",
              "    .dataframe thead th {\n",
              "        text-align: right;\n",
              "    }\n",
              "</style>\n",
              "<table border=\"1\" class=\"dataframe\">\n",
              "  <thead>\n",
              "    <tr style=\"text-align: right;\">\n",
              "      <th></th>\n",
              "      <th>ID</th>\n",
              "      <th>ViewedOnTime</th>\n",
              "      <th>ViewedOnDate</th>\n",
              "      <th>ProductKey</th>\n",
              "      <th>CampaignKey</th>\n",
              "      <th>UserIdKey</th>\n",
              "      <th>SupplierKey</th>\n",
              "      <th>TransactionCount</th>\n",
              "      <th>PageCount</th>\n",
              "      <th>IsAd</th>\n",
              "      <th>...</th>\n",
              "      <th>Medium</th>\n",
              "      <th>Campaign</th>\n",
              "      <th>WOHeadlinePlanFixedDiscount</th>\n",
              "      <th>WOHeadlinePhoneDiscount</th>\n",
              "      <th>WOHeadlineExtraDataDiscount</th>\n",
              "      <th>OneOffFeeTotal</th>\n",
              "      <th>MonthlyFeeTotal</th>\n",
              "      <th>AnnualFeeTotal</th>\n",
              "      <th>Phoneupfrontcost</th>\n",
              "      <th>Phonemonthlycost</th>\n",
              "    </tr>\n",
              "  </thead>\n",
              "  <tbody>\n",
              "    <tr>\n",
              "      <th>2</th>\n",
              "      <td>279637545</td>\n",
              "      <td>15:48:24</td>\n",
              "      <td>2023-02-10</td>\n",
              "      <td>0</td>\n",
              "      <td>0</td>\n",
              "      <td>44239405</td>\n",
              "      <td>0</td>\n",
              "      <td>0</td>\n",
              "      <td>1</td>\n",
              "      <td>0</td>\n",
              "      <td>...</td>\n",
              "      <td>NaN</td>\n",
              "      <td>NaN</td>\n",
              "      <td>0.0</td>\n",
              "      <td>0.0</td>\n",
              "      <td>0.0</td>\n",
              "      <td>0.0</td>\n",
              "      <td>0.0</td>\n",
              "      <td>0.0</td>\n",
              "      <td>0.0</td>\n",
              "      <td>0.0</td>\n",
              "    </tr>\n",
              "    <tr>\n",
              "      <th>5</th>\n",
              "      <td>278759186</td>\n",
              "      <td>23:12:18</td>\n",
              "      <td>2023-01-23</td>\n",
              "      <td>0</td>\n",
              "      <td>0</td>\n",
              "      <td>29305574</td>\n",
              "      <td>0</td>\n",
              "      <td>0</td>\n",
              "      <td>1</td>\n",
              "      <td>0</td>\n",
              "      <td>...</td>\n",
              "      <td>cpc</td>\n",
              "      <td>0123_MOB_7_Optus_Hot_Deals</td>\n",
              "      <td>0.0</td>\n",
              "      <td>0.0</td>\n",
              "      <td>0.0</td>\n",
              "      <td>0.0</td>\n",
              "      <td>0.0</td>\n",
              "      <td>0.0</td>\n",
              "      <td>0.0</td>\n",
              "      <td>0.0</td>\n",
              "    </tr>\n",
              "    <tr>\n",
              "      <th>10</th>\n",
              "      <td>279715670</td>\n",
              "      <td>12:20:27</td>\n",
              "      <td>2023-02-12</td>\n",
              "      <td>0</td>\n",
              "      <td>0</td>\n",
              "      <td>45261797</td>\n",
              "      <td>0</td>\n",
              "      <td>0</td>\n",
              "      <td>1</td>\n",
              "      <td>0</td>\n",
              "      <td>...</td>\n",
              "      <td>cpc</td>\n",
              "      <td>[PS-MOB] Sim</td>\n",
              "      <td>0.0</td>\n",
              "      <td>0.0</td>\n",
              "      <td>0.0</td>\n",
              "      <td>0.0</td>\n",
              "      <td>0.0</td>\n",
              "      <td>0.0</td>\n",
              "      <td>0.0</td>\n",
              "      <td>0.0</td>\n",
              "    </tr>\n",
              "    <tr>\n",
              "      <th>11</th>\n",
              "      <td>277589212</td>\n",
              "      <td>07:07:54</td>\n",
              "      <td>2023-01-01</td>\n",
              "      <td>0</td>\n",
              "      <td>0</td>\n",
              "      <td>44590967</td>\n",
              "      <td>0</td>\n",
              "      <td>0</td>\n",
              "      <td>1</td>\n",
              "      <td>0</td>\n",
              "      <td>...</td>\n",
              "      <td>cpc</td>\n",
              "      <td>[PS-MOB] Mobile Plans</td>\n",
              "      <td>0.0</td>\n",
              "      <td>0.0</td>\n",
              "      <td>0.0</td>\n",
              "      <td>0.0</td>\n",
              "      <td>0.0</td>\n",
              "      <td>0.0</td>\n",
              "      <td>0.0</td>\n",
              "      <td>0.0</td>\n",
              "    </tr>\n",
              "    <tr>\n",
              "      <th>12</th>\n",
              "      <td>277141899</td>\n",
              "      <td>14:04:45</td>\n",
              "      <td>2022-12-21</td>\n",
              "      <td>0</td>\n",
              "      <td>0</td>\n",
              "      <td>30817233</td>\n",
              "      <td>0</td>\n",
              "      <td>0</td>\n",
              "      <td>1</td>\n",
              "      <td>0</td>\n",
              "      <td>...</td>\n",
              "      <td>cpc</td>\n",
              "      <td>1222_MOB_5_Pixel7</td>\n",
              "      <td>0.0</td>\n",
              "      <td>0.0</td>\n",
              "      <td>0.0</td>\n",
              "      <td>0.0</td>\n",
              "      <td>0.0</td>\n",
              "      <td>0.0</td>\n",
              "      <td>0.0</td>\n",
              "      <td>0.0</td>\n",
              "    </tr>\n",
              "  </tbody>\n",
              "</table>\n",
              "<p>5 rows × 27 columns</p>\n",
              "</div>\n",
              "    <div class=\"colab-df-buttons\">\n",
              "\n",
              "  <div class=\"colab-df-container\">\n",
              "    <button class=\"colab-df-convert\" onclick=\"convertToInteractive('df-d38c0518-fbe2-4675-96ed-8d9f5a8b9084')\"\n",
              "            title=\"Convert this dataframe to an interactive table.\"\n",
              "            style=\"display:none;\">\n",
              "\n",
              "  <svg xmlns=\"http://www.w3.org/2000/svg\" height=\"24px\" viewBox=\"0 -960 960 960\">\n",
              "    <path d=\"M120-120v-720h720v720H120Zm60-500h600v-160H180v160Zm220 220h160v-160H400v160Zm0 220h160v-160H400v160ZM180-400h160v-160H180v160Zm440 0h160v-160H620v160ZM180-180h160v-160H180v160Zm440 0h160v-160H620v160Z\"/>\n",
              "  </svg>\n",
              "    </button>\n",
              "\n",
              "  <style>\n",
              "    .colab-df-container {\n",
              "      display:flex;\n",
              "      gap: 12px;\n",
              "    }\n",
              "\n",
              "    .colab-df-convert {\n",
              "      background-color: #E8F0FE;\n",
              "      border: none;\n",
              "      border-radius: 50%;\n",
              "      cursor: pointer;\n",
              "      display: none;\n",
              "      fill: #1967D2;\n",
              "      height: 32px;\n",
              "      padding: 0 0 0 0;\n",
              "      width: 32px;\n",
              "    }\n",
              "\n",
              "    .colab-df-convert:hover {\n",
              "      background-color: #E2EBFA;\n",
              "      box-shadow: 0px 1px 2px rgba(60, 64, 67, 0.3), 0px 1px 3px 1px rgba(60, 64, 67, 0.15);\n",
              "      fill: #174EA6;\n",
              "    }\n",
              "\n",
              "    .colab-df-buttons div {\n",
              "      margin-bottom: 4px;\n",
              "    }\n",
              "\n",
              "    [theme=dark] .colab-df-convert {\n",
              "      background-color: #3B4455;\n",
              "      fill: #D2E3FC;\n",
              "    }\n",
              "\n",
              "    [theme=dark] .colab-df-convert:hover {\n",
              "      background-color: #434B5C;\n",
              "      box-shadow: 0px 1px 3px 1px rgba(0, 0, 0, 0.15);\n",
              "      filter: drop-shadow(0px 1px 2px rgba(0, 0, 0, 0.3));\n",
              "      fill: #FFFFFF;\n",
              "    }\n",
              "  </style>\n",
              "\n",
              "    <script>\n",
              "      const buttonEl =\n",
              "        document.querySelector('#df-d38c0518-fbe2-4675-96ed-8d9f5a8b9084 button.colab-df-convert');\n",
              "      buttonEl.style.display =\n",
              "        google.colab.kernel.accessAllowed ? 'block' : 'none';\n",
              "\n",
              "      async function convertToInteractive(key) {\n",
              "        const element = document.querySelector('#df-d38c0518-fbe2-4675-96ed-8d9f5a8b9084');\n",
              "        const dataTable =\n",
              "          await google.colab.kernel.invokeFunction('convertToInteractive',\n",
              "                                                    [key], {});\n",
              "        if (!dataTable) return;\n",
              "\n",
              "        const docLinkHtml = 'Like what you see? Visit the ' +\n",
              "          '<a target=\"_blank\" href=https://colab.research.google.com/notebooks/data_table.ipynb>data table notebook</a>'\n",
              "          + ' to learn more about interactive tables.';\n",
              "        element.innerHTML = '';\n",
              "        dataTable['output_type'] = 'display_data';\n",
              "        await google.colab.output.renderOutput(dataTable, element);\n",
              "        const docLink = document.createElement('div');\n",
              "        docLink.innerHTML = docLinkHtml;\n",
              "        element.appendChild(docLink);\n",
              "      }\n",
              "    </script>\n",
              "  </div>\n",
              "\n",
              "\n",
              "<div id=\"df-03681db5-aeff-4356-8748-82ad687cd1b1\">\n",
              "  <button class=\"colab-df-quickchart\" onclick=\"quickchart('df-03681db5-aeff-4356-8748-82ad687cd1b1')\"\n",
              "            title=\"Suggest charts.\"\n",
              "            style=\"display:none;\">\n",
              "\n",
              "<svg xmlns=\"http://www.w3.org/2000/svg\" height=\"24px\"viewBox=\"0 0 24 24\"\n",
              "     width=\"24px\">\n",
              "    <g>\n",
              "        <path d=\"M19 3H5c-1.1 0-2 .9-2 2v14c0 1.1.9 2 2 2h14c1.1 0 2-.9 2-2V5c0-1.1-.9-2-2-2zM9 17H7v-7h2v7zm4 0h-2V7h2v10zm4 0h-2v-4h2v4z\"/>\n",
              "    </g>\n",
              "</svg>\n",
              "  </button>\n",
              "\n",
              "<style>\n",
              "  .colab-df-quickchart {\n",
              "      --bg-color: #E8F0FE;\n",
              "      --fill-color: #1967D2;\n",
              "      --hover-bg-color: #E2EBFA;\n",
              "      --hover-fill-color: #174EA6;\n",
              "      --disabled-fill-color: #AAA;\n",
              "      --disabled-bg-color: #DDD;\n",
              "  }\n",
              "\n",
              "  [theme=dark] .colab-df-quickchart {\n",
              "      --bg-color: #3B4455;\n",
              "      --fill-color: #D2E3FC;\n",
              "      --hover-bg-color: #434B5C;\n",
              "      --hover-fill-color: #FFFFFF;\n",
              "      --disabled-bg-color: #3B4455;\n",
              "      --disabled-fill-color: #666;\n",
              "  }\n",
              "\n",
              "  .colab-df-quickchart {\n",
              "    background-color: var(--bg-color);\n",
              "    border: none;\n",
              "    border-radius: 50%;\n",
              "    cursor: pointer;\n",
              "    display: none;\n",
              "    fill: var(--fill-color);\n",
              "    height: 32px;\n",
              "    padding: 0;\n",
              "    width: 32px;\n",
              "  }\n",
              "\n",
              "  .colab-df-quickchart:hover {\n",
              "    background-color: var(--hover-bg-color);\n",
              "    box-shadow: 0 1px 2px rgba(60, 64, 67, 0.3), 0 1px 3px 1px rgba(60, 64, 67, 0.15);\n",
              "    fill: var(--button-hover-fill-color);\n",
              "  }\n",
              "\n",
              "  .colab-df-quickchart-complete:disabled,\n",
              "  .colab-df-quickchart-complete:disabled:hover {\n",
              "    background-color: var(--disabled-bg-color);\n",
              "    fill: var(--disabled-fill-color);\n",
              "    box-shadow: none;\n",
              "  }\n",
              "\n",
              "  .colab-df-spinner {\n",
              "    border: 2px solid var(--fill-color);\n",
              "    border-color: transparent;\n",
              "    border-bottom-color: var(--fill-color);\n",
              "    animation:\n",
              "      spin 1s steps(1) infinite;\n",
              "  }\n",
              "\n",
              "  @keyframes spin {\n",
              "    0% {\n",
              "      border-color: transparent;\n",
              "      border-bottom-color: var(--fill-color);\n",
              "      border-left-color: var(--fill-color);\n",
              "    }\n",
              "    20% {\n",
              "      border-color: transparent;\n",
              "      border-left-color: var(--fill-color);\n",
              "      border-top-color: var(--fill-color);\n",
              "    }\n",
              "    30% {\n",
              "      border-color: transparent;\n",
              "      border-left-color: var(--fill-color);\n",
              "      border-top-color: var(--fill-color);\n",
              "      border-right-color: var(--fill-color);\n",
              "    }\n",
              "    40% {\n",
              "      border-color: transparent;\n",
              "      border-right-color: var(--fill-color);\n",
              "      border-top-color: var(--fill-color);\n",
              "    }\n",
              "    60% {\n",
              "      border-color: transparent;\n",
              "      border-right-color: var(--fill-color);\n",
              "    }\n",
              "    80% {\n",
              "      border-color: transparent;\n",
              "      border-right-color: var(--fill-color);\n",
              "      border-bottom-color: var(--fill-color);\n",
              "    }\n",
              "    90% {\n",
              "      border-color: transparent;\n",
              "      border-bottom-color: var(--fill-color);\n",
              "    }\n",
              "  }\n",
              "</style>\n",
              "\n",
              "  <script>\n",
              "    async function quickchart(key) {\n",
              "      const quickchartButtonEl =\n",
              "        document.querySelector('#' + key + ' button');\n",
              "      quickchartButtonEl.disabled = true;  // To prevent multiple clicks.\n",
              "      quickchartButtonEl.classList.add('colab-df-spinner');\n",
              "      try {\n",
              "        const charts = await google.colab.kernel.invokeFunction(\n",
              "            'suggestCharts', [key], {});\n",
              "      } catch (error) {\n",
              "        console.error('Error during call to suggestCharts:', error);\n",
              "      }\n",
              "      quickchartButtonEl.classList.remove('colab-df-spinner');\n",
              "      quickchartButtonEl.classList.add('colab-df-quickchart-complete');\n",
              "    }\n",
              "    (() => {\n",
              "      let quickchartButtonEl =\n",
              "        document.querySelector('#df-03681db5-aeff-4356-8748-82ad687cd1b1 button');\n",
              "      quickchartButtonEl.style.display =\n",
              "        google.colab.kernel.accessAllowed ? 'block' : 'none';\n",
              "    })();\n",
              "  </script>\n",
              "</div>\n",
              "    </div>\n",
              "  </div>\n"
            ]
          },
          "metadata": {},
          "execution_count": 18
        }
      ]
    },
    {
      "cell_type": "code",
      "source": [
        "fact_df.columns"
      ],
      "metadata": {
        "colab": {
          "base_uri": "https://localhost:8080/"
        },
        "id": "RhcXEqXvKrxQ",
        "outputId": "6aad67e3-20aa-4676-fc70-f2b56e9b1834"
      },
      "execution_count": null,
      "outputs": [
        {
          "output_type": "execute_result",
          "data": {
            "text/plain": [
              "Index(['ID', 'ViewedOnTime', 'ViewedOnDate', 'ProductKey', 'CampaignKey',\n",
              "       'UserIdKey', 'SupplierKey', 'TransactionCount', 'PageCount', 'IsAd',\n",
              "       'IsTransaction', 'IsProduct', 'AffiliateName', 'DeviceTypeDesc',\n",
              "       'ContractLengthMonths', 'ContractLengthDesc', 'Source', 'Medium',\n",
              "       'Campaign', 'WOHeadlinePlanFixedDiscount', 'WOHeadlinePhoneDiscount',\n",
              "       'WOHeadlineExtraDataDiscount', 'OneOffFeeTotal', 'MonthlyFeeTotal',\n",
              "       'AnnualFeeTotal', 'Phoneupfrontcost', 'Phonemonthlycost'],\n",
              "      dtype='object')"
            ]
          },
          "metadata": {},
          "execution_count": 19
        }
      ]
    },
    {
      "cell_type": "markdown",
      "source": [
        "## Dropping duplicates"
      ],
      "metadata": {
        "id": "h50WG-XcLmOi"
      }
    },
    {
      "cell_type": "code",
      "source": [
        "fact_df = fact_df.drop_duplicates()"
      ],
      "metadata": {
        "id": "K0Hvo-DMK9qh"
      },
      "execution_count": null,
      "outputs": []
    },
    {
      "cell_type": "code",
      "source": [
        "fact_df = fact_df.drop_duplicates()\n",
        "fact_df.isnull().any()"
      ],
      "metadata": {
        "colab": {
          "base_uri": "https://localhost:8080/"
        },
        "id": "2Tw-rs31P9Aa",
        "outputId": "f5d3a700-0c34-460a-ac22-5916670640ac"
      },
      "execution_count": null,
      "outputs": [
        {
          "output_type": "execute_result",
          "data": {
            "text/plain": [
              "ID                             False\n",
              "ViewedOnTime                   False\n",
              "ViewedOnDate                   False\n",
              "ProductKey                     False\n",
              "CampaignKey                    False\n",
              "UserIdKey                      False\n",
              "SupplierKey                    False\n",
              "TransactionCount               False\n",
              "PageCount                      False\n",
              "IsAd                           False\n",
              "IsTransaction                  False\n",
              "IsProduct                      False\n",
              "AffiliateName                  False\n",
              "DeviceTypeDesc                 False\n",
              "ContractLengthMonths           False\n",
              "ContractLengthDesc             False\n",
              "Source                          True\n",
              "Medium                          True\n",
              "Campaign                        True\n",
              "WOHeadlinePlanFixedDiscount    False\n",
              "WOHeadlinePhoneDiscount        False\n",
              "WOHeadlineExtraDataDiscount     True\n",
              "OneOffFeeTotal                 False\n",
              "MonthlyFeeTotal                False\n",
              "AnnualFeeTotal                 False\n",
              "Phoneupfrontcost               False\n",
              "Phonemonthlycost               False\n",
              "dtype: bool"
            ]
          },
          "metadata": {},
          "execution_count": 21
        }
      ]
    },
    {
      "cell_type": "markdown",
      "source": [
        "## Missing values"
      ],
      "metadata": {
        "id": "ZsxxI82OLqTL"
      }
    },
    {
      "cell_type": "code",
      "source": [
        "# Calculate the total number of missing values per column\n",
        "missing_values = fact_df.isnull().sum()\n",
        "\n",
        "# Calculate the percentage of missing values per column\n",
        "percentage_missing = (missing_values / len(fact_df)) * 100\n",
        "\n",
        "# Create a DataFrame to display the results\n",
        "missing_data_info = pd.DataFrame({\n",
        "    'Column Name': missing_values.index,\n",
        "    'Total Missing Values': missing_values.values,\n",
        "    'Percentage Missing': percentage_missing.values\n",
        "})\n",
        "\n",
        "# Sort the DataFrame by percentage of missing values (descending)\n",
        "missing_data_info = missing_data_info.sort_values(by='Percentage Missing', ascending=False)\n",
        "\n",
        "# Print the missing data information\n",
        "missing_data_info"
      ],
      "metadata": {
        "colab": {
          "base_uri": "https://localhost:8080/",
          "height": 896
        },
        "id": "UqGK0uCALlgJ",
        "outputId": "7a53a0b0-6533-461d-cca5-1e2be13ce1cf"
      },
      "execution_count": null,
      "outputs": [
        {
          "output_type": "execute_result",
          "data": {
            "text/plain": [
              "                    Column Name  Total Missing Values  Percentage Missing\n",
              "18                     Campaign                136529           28.250789\n",
              "17                       Medium                136529           28.250789\n",
              "16                       Source                136504           28.245616\n",
              "21  WOHeadlineExtraDataDiscount                   456            0.094356\n",
              "0                            ID                     0            0.000000\n",
              "14         ContractLengthMonths                     0            0.000000\n",
              "25             Phoneupfrontcost                     0            0.000000\n",
              "24               AnnualFeeTotal                     0            0.000000\n",
              "23              MonthlyFeeTotal                     0            0.000000\n",
              "22               OneOffFeeTotal                     0            0.000000\n",
              "20      WOHeadlinePhoneDiscount                     0            0.000000\n",
              "19  WOHeadlinePlanFixedDiscount                     0            0.000000\n",
              "15           ContractLengthDesc                     0            0.000000\n",
              "13               DeviceTypeDesc                     0            0.000000\n",
              "1                  ViewedOnTime                     0            0.000000\n",
              "12                AffiliateName                     0            0.000000\n",
              "11                    IsProduct                     0            0.000000\n",
              "10                IsTransaction                     0            0.000000\n",
              "9                          IsAd                     0            0.000000\n",
              "8                     PageCount                     0            0.000000\n",
              "7              TransactionCount                     0            0.000000\n",
              "6                   SupplierKey                     0            0.000000\n",
              "5                     UserIdKey                     0            0.000000\n",
              "4                   CampaignKey                     0            0.000000\n",
              "3                    ProductKey                     0            0.000000\n",
              "2                  ViewedOnDate                     0            0.000000\n",
              "26             Phonemonthlycost                     0            0.000000"
            ],
            "text/html": [
              "\n",
              "  <div id=\"df-14b23d39-8665-4d98-aff1-ec034d1ee8b2\" class=\"colab-df-container\">\n",
              "    <div>\n",
              "<style scoped>\n",
              "    .dataframe tbody tr th:only-of-type {\n",
              "        vertical-align: middle;\n",
              "    }\n",
              "\n",
              "    .dataframe tbody tr th {\n",
              "        vertical-align: top;\n",
              "    }\n",
              "\n",
              "    .dataframe thead th {\n",
              "        text-align: right;\n",
              "    }\n",
              "</style>\n",
              "<table border=\"1\" class=\"dataframe\">\n",
              "  <thead>\n",
              "    <tr style=\"text-align: right;\">\n",
              "      <th></th>\n",
              "      <th>Column Name</th>\n",
              "      <th>Total Missing Values</th>\n",
              "      <th>Percentage Missing</th>\n",
              "    </tr>\n",
              "  </thead>\n",
              "  <tbody>\n",
              "    <tr>\n",
              "      <th>18</th>\n",
              "      <td>Campaign</td>\n",
              "      <td>136529</td>\n",
              "      <td>28.250789</td>\n",
              "    </tr>\n",
              "    <tr>\n",
              "      <th>17</th>\n",
              "      <td>Medium</td>\n",
              "      <td>136529</td>\n",
              "      <td>28.250789</td>\n",
              "    </tr>\n",
              "    <tr>\n",
              "      <th>16</th>\n",
              "      <td>Source</td>\n",
              "      <td>136504</td>\n",
              "      <td>28.245616</td>\n",
              "    </tr>\n",
              "    <tr>\n",
              "      <th>21</th>\n",
              "      <td>WOHeadlineExtraDataDiscount</td>\n",
              "      <td>456</td>\n",
              "      <td>0.094356</td>\n",
              "    </tr>\n",
              "    <tr>\n",
              "      <th>0</th>\n",
              "      <td>ID</td>\n",
              "      <td>0</td>\n",
              "      <td>0.000000</td>\n",
              "    </tr>\n",
              "    <tr>\n",
              "      <th>14</th>\n",
              "      <td>ContractLengthMonths</td>\n",
              "      <td>0</td>\n",
              "      <td>0.000000</td>\n",
              "    </tr>\n",
              "    <tr>\n",
              "      <th>25</th>\n",
              "      <td>Phoneupfrontcost</td>\n",
              "      <td>0</td>\n",
              "      <td>0.000000</td>\n",
              "    </tr>\n",
              "    <tr>\n",
              "      <th>24</th>\n",
              "      <td>AnnualFeeTotal</td>\n",
              "      <td>0</td>\n",
              "      <td>0.000000</td>\n",
              "    </tr>\n",
              "    <tr>\n",
              "      <th>23</th>\n",
              "      <td>MonthlyFeeTotal</td>\n",
              "      <td>0</td>\n",
              "      <td>0.000000</td>\n",
              "    </tr>\n",
              "    <tr>\n",
              "      <th>22</th>\n",
              "      <td>OneOffFeeTotal</td>\n",
              "      <td>0</td>\n",
              "      <td>0.000000</td>\n",
              "    </tr>\n",
              "    <tr>\n",
              "      <th>20</th>\n",
              "      <td>WOHeadlinePhoneDiscount</td>\n",
              "      <td>0</td>\n",
              "      <td>0.000000</td>\n",
              "    </tr>\n",
              "    <tr>\n",
              "      <th>19</th>\n",
              "      <td>WOHeadlinePlanFixedDiscount</td>\n",
              "      <td>0</td>\n",
              "      <td>0.000000</td>\n",
              "    </tr>\n",
              "    <tr>\n",
              "      <th>15</th>\n",
              "      <td>ContractLengthDesc</td>\n",
              "      <td>0</td>\n",
              "      <td>0.000000</td>\n",
              "    </tr>\n",
              "    <tr>\n",
              "      <th>13</th>\n",
              "      <td>DeviceTypeDesc</td>\n",
              "      <td>0</td>\n",
              "      <td>0.000000</td>\n",
              "    </tr>\n",
              "    <tr>\n",
              "      <th>1</th>\n",
              "      <td>ViewedOnTime</td>\n",
              "      <td>0</td>\n",
              "      <td>0.000000</td>\n",
              "    </tr>\n",
              "    <tr>\n",
              "      <th>12</th>\n",
              "      <td>AffiliateName</td>\n",
              "      <td>0</td>\n",
              "      <td>0.000000</td>\n",
              "    </tr>\n",
              "    <tr>\n",
              "      <th>11</th>\n",
              "      <td>IsProduct</td>\n",
              "      <td>0</td>\n",
              "      <td>0.000000</td>\n",
              "    </tr>\n",
              "    <tr>\n",
              "      <th>10</th>\n",
              "      <td>IsTransaction</td>\n",
              "      <td>0</td>\n",
              "      <td>0.000000</td>\n",
              "    </tr>\n",
              "    <tr>\n",
              "      <th>9</th>\n",
              "      <td>IsAd</td>\n",
              "      <td>0</td>\n",
              "      <td>0.000000</td>\n",
              "    </tr>\n",
              "    <tr>\n",
              "      <th>8</th>\n",
              "      <td>PageCount</td>\n",
              "      <td>0</td>\n",
              "      <td>0.000000</td>\n",
              "    </tr>\n",
              "    <tr>\n",
              "      <th>7</th>\n",
              "      <td>TransactionCount</td>\n",
              "      <td>0</td>\n",
              "      <td>0.000000</td>\n",
              "    </tr>\n",
              "    <tr>\n",
              "      <th>6</th>\n",
              "      <td>SupplierKey</td>\n",
              "      <td>0</td>\n",
              "      <td>0.000000</td>\n",
              "    </tr>\n",
              "    <tr>\n",
              "      <th>5</th>\n",
              "      <td>UserIdKey</td>\n",
              "      <td>0</td>\n",
              "      <td>0.000000</td>\n",
              "    </tr>\n",
              "    <tr>\n",
              "      <th>4</th>\n",
              "      <td>CampaignKey</td>\n",
              "      <td>0</td>\n",
              "      <td>0.000000</td>\n",
              "    </tr>\n",
              "    <tr>\n",
              "      <th>3</th>\n",
              "      <td>ProductKey</td>\n",
              "      <td>0</td>\n",
              "      <td>0.000000</td>\n",
              "    </tr>\n",
              "    <tr>\n",
              "      <th>2</th>\n",
              "      <td>ViewedOnDate</td>\n",
              "      <td>0</td>\n",
              "      <td>0.000000</td>\n",
              "    </tr>\n",
              "    <tr>\n",
              "      <th>26</th>\n",
              "      <td>Phonemonthlycost</td>\n",
              "      <td>0</td>\n",
              "      <td>0.000000</td>\n",
              "    </tr>\n",
              "  </tbody>\n",
              "</table>\n",
              "</div>\n",
              "    <div class=\"colab-df-buttons\">\n",
              "\n",
              "  <div class=\"colab-df-container\">\n",
              "    <button class=\"colab-df-convert\" onclick=\"convertToInteractive('df-14b23d39-8665-4d98-aff1-ec034d1ee8b2')\"\n",
              "            title=\"Convert this dataframe to an interactive table.\"\n",
              "            style=\"display:none;\">\n",
              "\n",
              "  <svg xmlns=\"http://www.w3.org/2000/svg\" height=\"24px\" viewBox=\"0 -960 960 960\">\n",
              "    <path d=\"M120-120v-720h720v720H120Zm60-500h600v-160H180v160Zm220 220h160v-160H400v160Zm0 220h160v-160H400v160ZM180-400h160v-160H180v160Zm440 0h160v-160H620v160ZM180-180h160v-160H180v160Zm440 0h160v-160H620v160Z\"/>\n",
              "  </svg>\n",
              "    </button>\n",
              "\n",
              "  <style>\n",
              "    .colab-df-container {\n",
              "      display:flex;\n",
              "      gap: 12px;\n",
              "    }\n",
              "\n",
              "    .colab-df-convert {\n",
              "      background-color: #E8F0FE;\n",
              "      border: none;\n",
              "      border-radius: 50%;\n",
              "      cursor: pointer;\n",
              "      display: none;\n",
              "      fill: #1967D2;\n",
              "      height: 32px;\n",
              "      padding: 0 0 0 0;\n",
              "      width: 32px;\n",
              "    }\n",
              "\n",
              "    .colab-df-convert:hover {\n",
              "      background-color: #E2EBFA;\n",
              "      box-shadow: 0px 1px 2px rgba(60, 64, 67, 0.3), 0px 1px 3px 1px rgba(60, 64, 67, 0.15);\n",
              "      fill: #174EA6;\n",
              "    }\n",
              "\n",
              "    .colab-df-buttons div {\n",
              "      margin-bottom: 4px;\n",
              "    }\n",
              "\n",
              "    [theme=dark] .colab-df-convert {\n",
              "      background-color: #3B4455;\n",
              "      fill: #D2E3FC;\n",
              "    }\n",
              "\n",
              "    [theme=dark] .colab-df-convert:hover {\n",
              "      background-color: #434B5C;\n",
              "      box-shadow: 0px 1px 3px 1px rgba(0, 0, 0, 0.15);\n",
              "      filter: drop-shadow(0px 1px 2px rgba(0, 0, 0, 0.3));\n",
              "      fill: #FFFFFF;\n",
              "    }\n",
              "  </style>\n",
              "\n",
              "    <script>\n",
              "      const buttonEl =\n",
              "        document.querySelector('#df-14b23d39-8665-4d98-aff1-ec034d1ee8b2 button.colab-df-convert');\n",
              "      buttonEl.style.display =\n",
              "        google.colab.kernel.accessAllowed ? 'block' : 'none';\n",
              "\n",
              "      async function convertToInteractive(key) {\n",
              "        const element = document.querySelector('#df-14b23d39-8665-4d98-aff1-ec034d1ee8b2');\n",
              "        const dataTable =\n",
              "          await google.colab.kernel.invokeFunction('convertToInteractive',\n",
              "                                                    [key], {});\n",
              "        if (!dataTable) return;\n",
              "\n",
              "        const docLinkHtml = 'Like what you see? Visit the ' +\n",
              "          '<a target=\"_blank\" href=https://colab.research.google.com/notebooks/data_table.ipynb>data table notebook</a>'\n",
              "          + ' to learn more about interactive tables.';\n",
              "        element.innerHTML = '';\n",
              "        dataTable['output_type'] = 'display_data';\n",
              "        await google.colab.output.renderOutput(dataTable, element);\n",
              "        const docLink = document.createElement('div');\n",
              "        docLink.innerHTML = docLinkHtml;\n",
              "        element.appendChild(docLink);\n",
              "      }\n",
              "    </script>\n",
              "  </div>\n",
              "\n",
              "\n",
              "<div id=\"df-fc63b3f1-2844-499e-b2c4-16de081c8f2e\">\n",
              "  <button class=\"colab-df-quickchart\" onclick=\"quickchart('df-fc63b3f1-2844-499e-b2c4-16de081c8f2e')\"\n",
              "            title=\"Suggest charts.\"\n",
              "            style=\"display:none;\">\n",
              "\n",
              "<svg xmlns=\"http://www.w3.org/2000/svg\" height=\"24px\"viewBox=\"0 0 24 24\"\n",
              "     width=\"24px\">\n",
              "    <g>\n",
              "        <path d=\"M19 3H5c-1.1 0-2 .9-2 2v14c0 1.1.9 2 2 2h14c1.1 0 2-.9 2-2V5c0-1.1-.9-2-2-2zM9 17H7v-7h2v7zm4 0h-2V7h2v10zm4 0h-2v-4h2v4z\"/>\n",
              "    </g>\n",
              "</svg>\n",
              "  </button>\n",
              "\n",
              "<style>\n",
              "  .colab-df-quickchart {\n",
              "      --bg-color: #E8F0FE;\n",
              "      --fill-color: #1967D2;\n",
              "      --hover-bg-color: #E2EBFA;\n",
              "      --hover-fill-color: #174EA6;\n",
              "      --disabled-fill-color: #AAA;\n",
              "      --disabled-bg-color: #DDD;\n",
              "  }\n",
              "\n",
              "  [theme=dark] .colab-df-quickchart {\n",
              "      --bg-color: #3B4455;\n",
              "      --fill-color: #D2E3FC;\n",
              "      --hover-bg-color: #434B5C;\n",
              "      --hover-fill-color: #FFFFFF;\n",
              "      --disabled-bg-color: #3B4455;\n",
              "      --disabled-fill-color: #666;\n",
              "  }\n",
              "\n",
              "  .colab-df-quickchart {\n",
              "    background-color: var(--bg-color);\n",
              "    border: none;\n",
              "    border-radius: 50%;\n",
              "    cursor: pointer;\n",
              "    display: none;\n",
              "    fill: var(--fill-color);\n",
              "    height: 32px;\n",
              "    padding: 0;\n",
              "    width: 32px;\n",
              "  }\n",
              "\n",
              "  .colab-df-quickchart:hover {\n",
              "    background-color: var(--hover-bg-color);\n",
              "    box-shadow: 0 1px 2px rgba(60, 64, 67, 0.3), 0 1px 3px 1px rgba(60, 64, 67, 0.15);\n",
              "    fill: var(--button-hover-fill-color);\n",
              "  }\n",
              "\n",
              "  .colab-df-quickchart-complete:disabled,\n",
              "  .colab-df-quickchart-complete:disabled:hover {\n",
              "    background-color: var(--disabled-bg-color);\n",
              "    fill: var(--disabled-fill-color);\n",
              "    box-shadow: none;\n",
              "  }\n",
              "\n",
              "  .colab-df-spinner {\n",
              "    border: 2px solid var(--fill-color);\n",
              "    border-color: transparent;\n",
              "    border-bottom-color: var(--fill-color);\n",
              "    animation:\n",
              "      spin 1s steps(1) infinite;\n",
              "  }\n",
              "\n",
              "  @keyframes spin {\n",
              "    0% {\n",
              "      border-color: transparent;\n",
              "      border-bottom-color: var(--fill-color);\n",
              "      border-left-color: var(--fill-color);\n",
              "    }\n",
              "    20% {\n",
              "      border-color: transparent;\n",
              "      border-left-color: var(--fill-color);\n",
              "      border-top-color: var(--fill-color);\n",
              "    }\n",
              "    30% {\n",
              "      border-color: transparent;\n",
              "      border-left-color: var(--fill-color);\n",
              "      border-top-color: var(--fill-color);\n",
              "      border-right-color: var(--fill-color);\n",
              "    }\n",
              "    40% {\n",
              "      border-color: transparent;\n",
              "      border-right-color: var(--fill-color);\n",
              "      border-top-color: var(--fill-color);\n",
              "    }\n",
              "    60% {\n",
              "      border-color: transparent;\n",
              "      border-right-color: var(--fill-color);\n",
              "    }\n",
              "    80% {\n",
              "      border-color: transparent;\n",
              "      border-right-color: var(--fill-color);\n",
              "      border-bottom-color: var(--fill-color);\n",
              "    }\n",
              "    90% {\n",
              "      border-color: transparent;\n",
              "      border-bottom-color: var(--fill-color);\n",
              "    }\n",
              "  }\n",
              "</style>\n",
              "\n",
              "  <script>\n",
              "    async function quickchart(key) {\n",
              "      const quickchartButtonEl =\n",
              "        document.querySelector('#' + key + ' button');\n",
              "      quickchartButtonEl.disabled = true;  // To prevent multiple clicks.\n",
              "      quickchartButtonEl.classList.add('colab-df-spinner');\n",
              "      try {\n",
              "        const charts = await google.colab.kernel.invokeFunction(\n",
              "            'suggestCharts', [key], {});\n",
              "      } catch (error) {\n",
              "        console.error('Error during call to suggestCharts:', error);\n",
              "      }\n",
              "      quickchartButtonEl.classList.remove('colab-df-spinner');\n",
              "      quickchartButtonEl.classList.add('colab-df-quickchart-complete');\n",
              "    }\n",
              "    (() => {\n",
              "      let quickchartButtonEl =\n",
              "        document.querySelector('#df-fc63b3f1-2844-499e-b2c4-16de081c8f2e button');\n",
              "      quickchartButtonEl.style.display =\n",
              "        google.colab.kernel.accessAllowed ? 'block' : 'none';\n",
              "    })();\n",
              "  </script>\n",
              "</div>\n",
              "    </div>\n",
              "  </div>\n"
            ]
          },
          "metadata": {},
          "execution_count": 22
        }
      ]
    },
    {
      "cell_type": "code",
      "source": [
        "# Filter for columns within 0 to 50% missing values\n",
        "columns_within_0_to_50_percent_missing = missing_data_info[(missing_data_info['Percentage Missing'] > 0) & (missing_data_info['Percentage Missing'] <= 50)]\n",
        "\n",
        "# Print the filtered information\n",
        "print(\"Columns within 0 to 50% missing values:\")\n",
        "print(columns_within_0_to_50_percent_missing)"
      ],
      "metadata": {
        "colab": {
          "base_uri": "https://localhost:8080/"
        },
        "id": "3de3hTm_L0c-",
        "outputId": "5ad77c83-93e5-4fe0-ddb7-43d43d2ad751"
      },
      "execution_count": null,
      "outputs": [
        {
          "output_type": "stream",
          "name": "stdout",
          "text": [
            "Columns within 0 to 50% missing values:\n",
            "                    Column Name  Total Missing Values  Percentage Missing\n",
            "18                     Campaign                136529           28.250789\n",
            "17                       Medium                136529           28.250789\n",
            "16                       Source                136504           28.245616\n",
            "21  WOHeadlineExtraDataDiscount                   456            0.094356\n"
          ]
        }
      ]
    },
    {
      "cell_type": "code",
      "source": [
        "# Extract the column names from the filtered DataFrame\n",
        "columns_to_fill_with_other_values = columns_within_0_to_50_percent_missing['Column Name'].tolist()"
      ],
      "metadata": {
        "id": "oA8XOjl5L6SY"
      },
      "execution_count": null,
      "outputs": []
    },
    {
      "cell_type": "code",
      "source": [
        "# Update specific columns\n",
        "for column in columns_to_fill_with_other_values:\n",
        "    if column in ['Medium', 'Campaign', 'Source']:\n",
        "        fact_df[column] = fact_df[column].fillna('unknown')\n",
        "    elif column == 'WOHeadlineExtraDataDiscount':\n",
        "        fact_df[column] = fact_df[column].fillna(0)"
      ],
      "metadata": {
        "id": "sot6zlNpLX7f"
      },
      "execution_count": null,
      "outputs": []
    },
    {
      "cell_type": "code",
      "source": [
        "fact_df.columns"
      ],
      "metadata": {
        "colab": {
          "base_uri": "https://localhost:8080/"
        },
        "id": "SOpqmIWxxDi1",
        "outputId": "30545cfa-2151-42ac-9325-387ffc53b7bc"
      },
      "execution_count": null,
      "outputs": [
        {
          "output_type": "execute_result",
          "data": {
            "text/plain": [
              "Index(['ID', 'ViewedOnTime', 'ViewedOnDate', 'ProductKey', 'CampaignKey',\n",
              "       'UserIdKey', 'SupplierKey', 'TransactionCount', 'PageCount', 'IsAd',\n",
              "       'IsTransaction', 'IsProduct', 'AffiliateName', 'DeviceTypeDesc',\n",
              "       'ContractLengthMonths', 'ContractLengthDesc', 'Source', 'Medium',\n",
              "       'Campaign', 'WOHeadlinePlanFixedDiscount', 'WOHeadlinePhoneDiscount',\n",
              "       'WOHeadlineExtraDataDiscount', 'OneOffFeeTotal', 'MonthlyFeeTotal',\n",
              "       'AnnualFeeTotal', 'Phoneupfrontcost', 'Phonemonthlycost'],\n",
              "      dtype='object')"
            ]
          },
          "metadata": {},
          "execution_count": 26
        }
      ]
    },
    {
      "cell_type": "code",
      "source": [
        "constant_columns = []\n",
        "\n",
        "for column in fact_df.columns:\n",
        "    if fact_df[column].nunique() == 1:\n",
        "        constant_columns.append(column)\n",
        "\n",
        "# Print the constant columns\n",
        "print(\"Constant Columns:\")\n",
        "print(constant_columns)"
      ],
      "metadata": {
        "colab": {
          "base_uri": "https://localhost:8080/"
        },
        "id": "AfMnR6UxyqkF",
        "outputId": "3f45b7f7-e4b7-41c7-d670-772a078dfede"
      },
      "execution_count": null,
      "outputs": [
        {
          "output_type": "stream",
          "name": "stdout",
          "text": [
            "Constant Columns:\n",
            "['MonthlyFeeTotal', 'AnnualFeeTotal', 'Phoneupfrontcost']\n"
          ]
        }
      ]
    },
    {
      "cell_type": "code",
      "source": [
        "fact_df = fact_df.drop(columns=constant_columns)"
      ],
      "metadata": {
        "id": "Pb7MNL93y4M7"
      },
      "execution_count": null,
      "outputs": []
    },
    {
      "cell_type": "code",
      "source": [
        "fact_df.columns"
      ],
      "metadata": {
        "colab": {
          "base_uri": "https://localhost:8080/"
        },
        "id": "lVyrADz4zX-Z",
        "outputId": "027b57b5-852b-42ab-b59e-c7c13de08032"
      },
      "execution_count": null,
      "outputs": [
        {
          "output_type": "execute_result",
          "data": {
            "text/plain": [
              "Index(['ID', 'ViewedOnTime', 'ViewedOnDate', 'ProductKey', 'CampaignKey',\n",
              "       'UserIdKey', 'SupplierKey', 'TransactionCount', 'PageCount', 'IsAd',\n",
              "       'IsTransaction', 'IsProduct', 'AffiliateName', 'DeviceTypeDesc',\n",
              "       'ContractLengthMonths', 'ContractLengthDesc', 'Source', 'Medium',\n",
              "       'Campaign', 'WOHeadlinePlanFixedDiscount', 'WOHeadlinePhoneDiscount',\n",
              "       'WOHeadlineExtraDataDiscount', 'OneOffFeeTotal', 'Phonemonthlycost'],\n",
              "      dtype='object')"
            ]
          },
          "metadata": {},
          "execution_count": 29
        }
      ]
    },
    {
      "cell_type": "code",
      "source": [
        "fact_df.rename(columns={'ID':'session_ID'}, inplace=True)"
      ],
      "metadata": {
        "id": "3nKjgd_TAaYi"
      },
      "execution_count": null,
      "outputs": []
    },
    {
      "cell_type": "code",
      "source": [
        "fact_df.columns"
      ],
      "metadata": {
        "colab": {
          "base_uri": "https://localhost:8080/"
        },
        "id": "g5HROo3LAiAA",
        "outputId": "35dcb1e4-7cdb-423b-e308-4808000f4079"
      },
      "execution_count": null,
      "outputs": [
        {
          "output_type": "execute_result",
          "data": {
            "text/plain": [
              "Index(['session_ID', 'ViewedOnTime', 'ViewedOnDate', 'ProductKey',\n",
              "       'CampaignKey', 'UserIdKey', 'SupplierKey', 'TransactionCount',\n",
              "       'PageCount', 'IsAd', 'IsTransaction', 'IsProduct', 'AffiliateName',\n",
              "       'DeviceTypeDesc', 'ContractLengthMonths', 'ContractLengthDesc',\n",
              "       'Source', 'Medium', 'Campaign', 'WOHeadlinePlanFixedDiscount',\n",
              "       'WOHeadlinePhoneDiscount', 'WOHeadlineExtraDataDiscount',\n",
              "       'OneOffFeeTotal', 'Phonemonthlycost'],\n",
              "      dtype='object')"
            ]
          },
          "metadata": {},
          "execution_count": 31
        }
      ]
    },
    {
      "cell_type": "markdown",
      "source": [
        "## Unnecesary Columns"
      ],
      "metadata": {
        "id": "2-a2YcjG0hzA"
      }
    },
    {
      "cell_type": "code",
      "source": [
        "columns_to_drop=[\n",
        "    'TransactionCount' # same value as IsTransaction\n",
        "]\n",
        "fact_df = fact_df.drop(columns=columns_to_drop)"
      ],
      "metadata": {
        "id": "kwJs5Tcm0m10"
      },
      "execution_count": null,
      "outputs": []
    },
    {
      "cell_type": "markdown",
      "source": [
        "## Renaming columns for better understanding"
      ],
      "metadata": {
        "id": "LM1TakBf1HPq"
      }
    },
    {
      "cell_type": "code",
      "source": [
        "fact_df.rename(columns={'DeviceTypeDesc': 'DeviceType'}, inplace=True)"
      ],
      "metadata": {
        "id": "JcBVfEkC0JPc"
      },
      "execution_count": null,
      "outputs": []
    },
    {
      "cell_type": "code",
      "source": [
        "fact_df.shape"
      ],
      "metadata": {
        "colab": {
          "base_uri": "https://localhost:8080/"
        },
        "id": "YRFvwQSMzaUW",
        "outputId": "97d76812-d1f7-497c-fa7d-a6207856ebbc"
      },
      "execution_count": null,
      "outputs": [
        {
          "output_type": "execute_result",
          "data": {
            "text/plain": [
              "(483275, 23)"
            ]
          },
          "metadata": {},
          "execution_count": 34
        }
      ]
    },
    {
      "cell_type": "code",
      "source": [
        "print(fact_df['Source'].unique())"
      ],
      "metadata": {
        "colab": {
          "base_uri": "https://localhost:8080/"
        },
        "id": "OCtm7pHk1NAV",
        "outputId": "781eddeb-007d-4c30-9b95-70849848be32"
      },
      "execution_count": null,
      "outputs": [
        {
          "output_type": "stream",
          "name": "stdout",
          "text": [
            "['unknown' 'facebook' 'google' 'facebook_OG_WO' 'bing'\n",
            " 'Widget_MobilePhoneSearch' 'CampaignMonitor' 'facebook_SC_WO'\n",
            " 'Widget_BroadbandSearch' 'Widget_PhoneFinder'\n",
            " 'Widget_MobilePhoneProductCta,google' 'pinterest_OG_SW'\n",
            " 'Widget_MobilePhoneSearch,google' 'Widget_MobilePhoneProductCta'\n",
            " 'Widget_MobilePhoneSearch,bing' 'twitter_OG_WO'\n",
            " 'Widget_BroadbandProductCta' 'Widget_MobilePhoneProductCompact'\n",
            " 'Widget_MobilePhonePopularSuppliers' 'Widget_MobilePhonePopularPlans'\n",
            " 'facebook_OR_WO' 'pocket_saves' 'Widget_MobilePhoneProduct'\n",
            " 'Widget_BroadbandProductCta,google'\n",
            " 'Widget_MobilePhoneProductCta,google,google'\n",
            " 'Widget_MobilePhoneProductCta,bing' 'Widget_Phone'\n",
            " 'Widget_MobilePhoneProductCompact,bing'\n",
            " 'Widget_MobilePhoneProduct,Widget_MobilePhoneProduct'\n",
            " 'wo,Widget_Fairfax_SMH_DigitalLife' 'newsletter'\n",
            " 'Widget_BroadbandSearchForm' 'Widget_BroadbandSearch,bing'\n",
            " 'Widget_MobilePhoneProductCta,CampaignMonitor'\n",
            " 'Widget_MobilePhoneProductCompact,bing,bing'\n",
            " 'Widget_MobilePhoneProductCompact,bing,bing,bing' 'Widget_News_Strip'\n",
            " 'Widget_BroadbandPopularPlans' 'f' 'Widget_MobilePhoneSearchForm'\n",
            " 'Widget_BroadbandProductCta,google,google'\n",
            " 'Widget_BroadbandSearch,google']\n"
          ]
        }
      ]
    },
    {
      "cell_type": "code",
      "source": [
        "print(fact_df['Medium'].unique())"
      ],
      "metadata": {
        "colab": {
          "base_uri": "https://localhost:8080/"
        },
        "id": "TxCVZEu14_MG",
        "outputId": "78ba251f-f13d-4003-cb7d-dc3414941025"
      },
      "execution_count": null,
      "outputs": [
        {
          "output_type": "stream",
          "name": "stdout",
          "text": [
            "['unknown' 'cpc' 'social' 'Facebook' 'Widget' 'email' 'Widget,cpc'\n",
            " 'Pinterest' 'Twitter' 'twitter' 'Widget,Facebook' 'Widget,cpc,cpc'\n",
            " 'Widget,Facebook,Facebook' 'Widget,Widget' 'affil,Widget']\n"
          ]
        }
      ]
    },
    {
      "cell_type": "code",
      "source": [
        "fact_df['CampaignKey'].nunique()"
      ],
      "metadata": {
        "colab": {
          "base_uri": "https://localhost:8080/"
        },
        "id": "5er4HS--QD2r",
        "outputId": "f1121a64-dc5a-4410-bc68-b566947a0d26"
      },
      "execution_count": null,
      "outputs": [
        {
          "output_type": "execute_result",
          "data": {
            "text/plain": [
              "617"
            ]
          },
          "metadata": {},
          "execution_count": 37
        }
      ]
    },
    {
      "cell_type": "code",
      "source": [
        "# facebook inside cpc, separte name as facebook too\n",
        "# what is widget cpc\n",
        "#"
      ],
      "metadata": {
        "id": "AEt26p2zRX6U"
      },
      "execution_count": null,
      "outputs": []
    },
    {
      "cell_type": "markdown",
      "source": [
        "# DimUTSProduct Table"
      ],
      "metadata": {
        "id": "eYY0FS5dxoqx"
      }
    },
    {
      "cell_type": "code",
      "source": [
        "ls"
      ],
      "metadata": {
        "colab": {
          "base_uri": "https://localhost:8080/"
        },
        "id": "ztCtUxT_U6dl",
        "outputId": "a7f644b1-ba89-401e-a506-6d34a4b5acb4"
      },
      "execution_count": null,
      "outputs": [
        {
          "output_type": "stream",
          "name": "stdout",
          "text": [
            "DimUTSCampaign.csv     DimUTSMobileProduct.csv   DimUTSSupplier.csv\n",
            "DimUTSIspProduct.csv   DimUTSProduct.csv         DimUTSURL.csv\n",
            "DimUTSMobilePhone.csv  DimUTSSearchCriteria.csv  FactUTSPageImpression.csv\n"
          ]
        }
      ]
    },
    {
      "cell_type": "code",
      "source": [
        "product_df = pd.read_csv('/content/drive/Shareddrives/protik/iLab/Dataset/data/DimUTSProduct.csv')"
      ],
      "metadata": {
        "id": "XIDPeEocUkp5"
      },
      "execution_count": null,
      "outputs": []
    },
    {
      "cell_type": "code",
      "source": [
        "product_df.head(5)"
      ],
      "metadata": {
        "colab": {
          "base_uri": "https://localhost:8080/",
          "height": 499
        },
        "id": "9H9FicUPU9Dd",
        "outputId": "28715dc3-0233-49a4-e4bc-ff8159a2ed92"
      },
      "execution_count": null,
      "outputs": [
        {
          "output_type": "execute_result",
          "data": {
            "text/plain": [
              "   ProductKey     ID                    StartDate  \\\n",
              "0       12597  12984  2023-01-27 00:00:00.0000000   \n",
              "1       12509  12984  2023-02-01 00:00:00.0000000   \n",
              "2       14680  12984  2023-02-21 00:00:00.0000000   \n",
              "3       10632  12994  2023-01-24 00:00:00.0000000   \n",
              "4       13500  12994  2023-02-16 00:00:00.0000000   \n",
              "\n",
              "                       EndDate                              Name  \\\n",
              "0  2023-01-31 00:00:00.0000000               100GB Data SIM Only   \n",
              "1  2023-02-17 00:00:00.0000000               100GB Data SIM Only   \n",
              "2  2023-02-28 00:00:00.0000000               100GB Data SIM Only   \n",
              "3  2023-02-07 00:00:00.0000000  4G Home Internet Unlimited (M2M)   \n",
              "4  2023-02-28 00:00:00.0000000  4G Home Internet Unlimited (M2M)   \n",
              "\n",
              "                        CurrentName  Active  Preview  Deleted  BaseCost  ...  \\\n",
              "0               100GB Data SIM Only       1      0.0        0      35.0  ...   \n",
              "1               100GB Data SIM Only       1      0.0        0      35.0  ...   \n",
              "2               100GB Data SIM Only       1      0.0        0      35.0  ...   \n",
              "3  4G Home Internet Unlimited (M2M)       1      0.0        0      59.0  ...   \n",
              "4  4G Home Internet Unlimited (M2M)       1      1.0        0      59.0  ...   \n",
              "\n",
              "  PaymentFrequencyDerivedOrder PaymentPeriod CustomerTypeName  SupplierID  \\\n",
              "0                         31.0           1.0         Personal         515   \n",
              "1                         31.0           1.0         Personal         515   \n",
              "2                         31.0           1.0         Personal         515   \n",
              "3                         31.0           1.0         Personal         254   \n",
              "4                         31.0           1.0         Personal         254   \n",
              "\n",
              "   ProductAreaName                              BonusValueDescription  \\\n",
              "0        Broadband  Download speeds capped at 100 Mbps on 4G and 5...   \n",
              "1        Broadband  Download speeds capped at 100 Mbps on 4G and 5...   \n",
              "2        Broadband  Download speeds capped at 100 Mbps on 4G and 5...   \n",
              "3        Broadband  $216 upfront cost for 4G WiFi Modem - unbox, p...   \n",
              "4        Broadband  $216 upfront cost for 4G WiFi Modem - unbox, p...   \n",
              "\n",
              "   GlobalShowOnWhistleout IspProductKey MobileProductKey  \\\n",
              "0                     1.0          6586                0   \n",
              "1                     1.0          6586                0   \n",
              "2                     1.0          6586                0   \n",
              "3                     1.0          4309                0   \n",
              "4                     0.0          4309                0   \n",
              "\n",
              "                    EditorsPickName  \n",
              "0  Best Mobile Broadband - High Use  \n",
              "1  Best Mobile Broadband - High Use  \n",
              "2  Best Mobile Broadband - High Use  \n",
              "3                               NaN  \n",
              "4                               NaN  \n",
              "\n",
              "[5 rows x 23 columns]"
            ],
            "text/html": [
              "\n",
              "  <div id=\"df-dd28c16c-f830-4450-8700-755ae4e4d0c7\" class=\"colab-df-container\">\n",
              "    <div>\n",
              "<style scoped>\n",
              "    .dataframe tbody tr th:only-of-type {\n",
              "        vertical-align: middle;\n",
              "    }\n",
              "\n",
              "    .dataframe tbody tr th {\n",
              "        vertical-align: top;\n",
              "    }\n",
              "\n",
              "    .dataframe thead th {\n",
              "        text-align: right;\n",
              "    }\n",
              "</style>\n",
              "<table border=\"1\" class=\"dataframe\">\n",
              "  <thead>\n",
              "    <tr style=\"text-align: right;\">\n",
              "      <th></th>\n",
              "      <th>ProductKey</th>\n",
              "      <th>ID</th>\n",
              "      <th>StartDate</th>\n",
              "      <th>EndDate</th>\n",
              "      <th>Name</th>\n",
              "      <th>CurrentName</th>\n",
              "      <th>Active</th>\n",
              "      <th>Preview</th>\n",
              "      <th>Deleted</th>\n",
              "      <th>BaseCost</th>\n",
              "      <th>...</th>\n",
              "      <th>PaymentFrequencyDerivedOrder</th>\n",
              "      <th>PaymentPeriod</th>\n",
              "      <th>CustomerTypeName</th>\n",
              "      <th>SupplierID</th>\n",
              "      <th>ProductAreaName</th>\n",
              "      <th>BonusValueDescription</th>\n",
              "      <th>GlobalShowOnWhistleout</th>\n",
              "      <th>IspProductKey</th>\n",
              "      <th>MobileProductKey</th>\n",
              "      <th>EditorsPickName</th>\n",
              "    </tr>\n",
              "  </thead>\n",
              "  <tbody>\n",
              "    <tr>\n",
              "      <th>0</th>\n",
              "      <td>12597</td>\n",
              "      <td>12984</td>\n",
              "      <td>2023-01-27 00:00:00.0000000</td>\n",
              "      <td>2023-01-31 00:00:00.0000000</td>\n",
              "      <td>100GB Data SIM Only</td>\n",
              "      <td>100GB Data SIM Only</td>\n",
              "      <td>1</td>\n",
              "      <td>0.0</td>\n",
              "      <td>0</td>\n",
              "      <td>35.0</td>\n",
              "      <td>...</td>\n",
              "      <td>31.0</td>\n",
              "      <td>1.0</td>\n",
              "      <td>Personal</td>\n",
              "      <td>515</td>\n",
              "      <td>Broadband</td>\n",
              "      <td>Download speeds capped at 100 Mbps on 4G and 5...</td>\n",
              "      <td>1.0</td>\n",
              "      <td>6586</td>\n",
              "      <td>0</td>\n",
              "      <td>Best Mobile Broadband - High Use</td>\n",
              "    </tr>\n",
              "    <tr>\n",
              "      <th>1</th>\n",
              "      <td>12509</td>\n",
              "      <td>12984</td>\n",
              "      <td>2023-02-01 00:00:00.0000000</td>\n",
              "      <td>2023-02-17 00:00:00.0000000</td>\n",
              "      <td>100GB Data SIM Only</td>\n",
              "      <td>100GB Data SIM Only</td>\n",
              "      <td>1</td>\n",
              "      <td>0.0</td>\n",
              "      <td>0</td>\n",
              "      <td>35.0</td>\n",
              "      <td>...</td>\n",
              "      <td>31.0</td>\n",
              "      <td>1.0</td>\n",
              "      <td>Personal</td>\n",
              "      <td>515</td>\n",
              "      <td>Broadband</td>\n",
              "      <td>Download speeds capped at 100 Mbps on 4G and 5...</td>\n",
              "      <td>1.0</td>\n",
              "      <td>6586</td>\n",
              "      <td>0</td>\n",
              "      <td>Best Mobile Broadband - High Use</td>\n",
              "    </tr>\n",
              "    <tr>\n",
              "      <th>2</th>\n",
              "      <td>14680</td>\n",
              "      <td>12984</td>\n",
              "      <td>2023-02-21 00:00:00.0000000</td>\n",
              "      <td>2023-02-28 00:00:00.0000000</td>\n",
              "      <td>100GB Data SIM Only</td>\n",
              "      <td>100GB Data SIM Only</td>\n",
              "      <td>1</td>\n",
              "      <td>0.0</td>\n",
              "      <td>0</td>\n",
              "      <td>35.0</td>\n",
              "      <td>...</td>\n",
              "      <td>31.0</td>\n",
              "      <td>1.0</td>\n",
              "      <td>Personal</td>\n",
              "      <td>515</td>\n",
              "      <td>Broadband</td>\n",
              "      <td>Download speeds capped at 100 Mbps on 4G and 5...</td>\n",
              "      <td>1.0</td>\n",
              "      <td>6586</td>\n",
              "      <td>0</td>\n",
              "      <td>Best Mobile Broadband - High Use</td>\n",
              "    </tr>\n",
              "    <tr>\n",
              "      <th>3</th>\n",
              "      <td>10632</td>\n",
              "      <td>12994</td>\n",
              "      <td>2023-01-24 00:00:00.0000000</td>\n",
              "      <td>2023-02-07 00:00:00.0000000</td>\n",
              "      <td>4G Home Internet Unlimited (M2M)</td>\n",
              "      <td>4G Home Internet Unlimited (M2M)</td>\n",
              "      <td>1</td>\n",
              "      <td>0.0</td>\n",
              "      <td>0</td>\n",
              "      <td>59.0</td>\n",
              "      <td>...</td>\n",
              "      <td>31.0</td>\n",
              "      <td>1.0</td>\n",
              "      <td>Personal</td>\n",
              "      <td>254</td>\n",
              "      <td>Broadband</td>\n",
              "      <td>$216 upfront cost for 4G WiFi Modem - unbox, p...</td>\n",
              "      <td>1.0</td>\n",
              "      <td>4309</td>\n",
              "      <td>0</td>\n",
              "      <td>NaN</td>\n",
              "    </tr>\n",
              "    <tr>\n",
              "      <th>4</th>\n",
              "      <td>13500</td>\n",
              "      <td>12994</td>\n",
              "      <td>2023-02-16 00:00:00.0000000</td>\n",
              "      <td>2023-02-28 00:00:00.0000000</td>\n",
              "      <td>4G Home Internet Unlimited (M2M)</td>\n",
              "      <td>4G Home Internet Unlimited (M2M)</td>\n",
              "      <td>1</td>\n",
              "      <td>1.0</td>\n",
              "      <td>0</td>\n",
              "      <td>59.0</td>\n",
              "      <td>...</td>\n",
              "      <td>31.0</td>\n",
              "      <td>1.0</td>\n",
              "      <td>Personal</td>\n",
              "      <td>254</td>\n",
              "      <td>Broadband</td>\n",
              "      <td>$216 upfront cost for 4G WiFi Modem - unbox, p...</td>\n",
              "      <td>0.0</td>\n",
              "      <td>4309</td>\n",
              "      <td>0</td>\n",
              "      <td>NaN</td>\n",
              "    </tr>\n",
              "  </tbody>\n",
              "</table>\n",
              "<p>5 rows × 23 columns</p>\n",
              "</div>\n",
              "    <div class=\"colab-df-buttons\">\n",
              "\n",
              "  <div class=\"colab-df-container\">\n",
              "    <button class=\"colab-df-convert\" onclick=\"convertToInteractive('df-dd28c16c-f830-4450-8700-755ae4e4d0c7')\"\n",
              "            title=\"Convert this dataframe to an interactive table.\"\n",
              "            style=\"display:none;\">\n",
              "\n",
              "  <svg xmlns=\"http://www.w3.org/2000/svg\" height=\"24px\" viewBox=\"0 -960 960 960\">\n",
              "    <path d=\"M120-120v-720h720v720H120Zm60-500h600v-160H180v160Zm220 220h160v-160H400v160Zm0 220h160v-160H400v160ZM180-400h160v-160H180v160Zm440 0h160v-160H620v160ZM180-180h160v-160H180v160Zm440 0h160v-160H620v160Z\"/>\n",
              "  </svg>\n",
              "    </button>\n",
              "\n",
              "  <style>\n",
              "    .colab-df-container {\n",
              "      display:flex;\n",
              "      gap: 12px;\n",
              "    }\n",
              "\n",
              "    .colab-df-convert {\n",
              "      background-color: #E8F0FE;\n",
              "      border: none;\n",
              "      border-radius: 50%;\n",
              "      cursor: pointer;\n",
              "      display: none;\n",
              "      fill: #1967D2;\n",
              "      height: 32px;\n",
              "      padding: 0 0 0 0;\n",
              "      width: 32px;\n",
              "    }\n",
              "\n",
              "    .colab-df-convert:hover {\n",
              "      background-color: #E2EBFA;\n",
              "      box-shadow: 0px 1px 2px rgba(60, 64, 67, 0.3), 0px 1px 3px 1px rgba(60, 64, 67, 0.15);\n",
              "      fill: #174EA6;\n",
              "    }\n",
              "\n",
              "    .colab-df-buttons div {\n",
              "      margin-bottom: 4px;\n",
              "    }\n",
              "\n",
              "    [theme=dark] .colab-df-convert {\n",
              "      background-color: #3B4455;\n",
              "      fill: #D2E3FC;\n",
              "    }\n",
              "\n",
              "    [theme=dark] .colab-df-convert:hover {\n",
              "      background-color: #434B5C;\n",
              "      box-shadow: 0px 1px 3px 1px rgba(0, 0, 0, 0.15);\n",
              "      filter: drop-shadow(0px 1px 2px rgba(0, 0, 0, 0.3));\n",
              "      fill: #FFFFFF;\n",
              "    }\n",
              "  </style>\n",
              "\n",
              "    <script>\n",
              "      const buttonEl =\n",
              "        document.querySelector('#df-dd28c16c-f830-4450-8700-755ae4e4d0c7 button.colab-df-convert');\n",
              "      buttonEl.style.display =\n",
              "        google.colab.kernel.accessAllowed ? 'block' : 'none';\n",
              "\n",
              "      async function convertToInteractive(key) {\n",
              "        const element = document.querySelector('#df-dd28c16c-f830-4450-8700-755ae4e4d0c7');\n",
              "        const dataTable =\n",
              "          await google.colab.kernel.invokeFunction('convertToInteractive',\n",
              "                                                    [key], {});\n",
              "        if (!dataTable) return;\n",
              "\n",
              "        const docLinkHtml = 'Like what you see? Visit the ' +\n",
              "          '<a target=\"_blank\" href=https://colab.research.google.com/notebooks/data_table.ipynb>data table notebook</a>'\n",
              "          + ' to learn more about interactive tables.';\n",
              "        element.innerHTML = '';\n",
              "        dataTable['output_type'] = 'display_data';\n",
              "        await google.colab.output.renderOutput(dataTable, element);\n",
              "        const docLink = document.createElement('div');\n",
              "        docLink.innerHTML = docLinkHtml;\n",
              "        element.appendChild(docLink);\n",
              "      }\n",
              "    </script>\n",
              "  </div>\n",
              "\n",
              "\n",
              "<div id=\"df-cf431e21-5005-482b-8158-8265407a33d7\">\n",
              "  <button class=\"colab-df-quickchart\" onclick=\"quickchart('df-cf431e21-5005-482b-8158-8265407a33d7')\"\n",
              "            title=\"Suggest charts.\"\n",
              "            style=\"display:none;\">\n",
              "\n",
              "<svg xmlns=\"http://www.w3.org/2000/svg\" height=\"24px\"viewBox=\"0 0 24 24\"\n",
              "     width=\"24px\">\n",
              "    <g>\n",
              "        <path d=\"M19 3H5c-1.1 0-2 .9-2 2v14c0 1.1.9 2 2 2h14c1.1 0 2-.9 2-2V5c0-1.1-.9-2-2-2zM9 17H7v-7h2v7zm4 0h-2V7h2v10zm4 0h-2v-4h2v4z\"/>\n",
              "    </g>\n",
              "</svg>\n",
              "  </button>\n",
              "\n",
              "<style>\n",
              "  .colab-df-quickchart {\n",
              "      --bg-color: #E8F0FE;\n",
              "      --fill-color: #1967D2;\n",
              "      --hover-bg-color: #E2EBFA;\n",
              "      --hover-fill-color: #174EA6;\n",
              "      --disabled-fill-color: #AAA;\n",
              "      --disabled-bg-color: #DDD;\n",
              "  }\n",
              "\n",
              "  [theme=dark] .colab-df-quickchart {\n",
              "      --bg-color: #3B4455;\n",
              "      --fill-color: #D2E3FC;\n",
              "      --hover-bg-color: #434B5C;\n",
              "      --hover-fill-color: #FFFFFF;\n",
              "      --disabled-bg-color: #3B4455;\n",
              "      --disabled-fill-color: #666;\n",
              "  }\n",
              "\n",
              "  .colab-df-quickchart {\n",
              "    background-color: var(--bg-color);\n",
              "    border: none;\n",
              "    border-radius: 50%;\n",
              "    cursor: pointer;\n",
              "    display: none;\n",
              "    fill: var(--fill-color);\n",
              "    height: 32px;\n",
              "    padding: 0;\n",
              "    width: 32px;\n",
              "  }\n",
              "\n",
              "  .colab-df-quickchart:hover {\n",
              "    background-color: var(--hover-bg-color);\n",
              "    box-shadow: 0 1px 2px rgba(60, 64, 67, 0.3), 0 1px 3px 1px rgba(60, 64, 67, 0.15);\n",
              "    fill: var(--button-hover-fill-color);\n",
              "  }\n",
              "\n",
              "  .colab-df-quickchart-complete:disabled,\n",
              "  .colab-df-quickchart-complete:disabled:hover {\n",
              "    background-color: var(--disabled-bg-color);\n",
              "    fill: var(--disabled-fill-color);\n",
              "    box-shadow: none;\n",
              "  }\n",
              "\n",
              "  .colab-df-spinner {\n",
              "    border: 2px solid var(--fill-color);\n",
              "    border-color: transparent;\n",
              "    border-bottom-color: var(--fill-color);\n",
              "    animation:\n",
              "      spin 1s steps(1) infinite;\n",
              "  }\n",
              "\n",
              "  @keyframes spin {\n",
              "    0% {\n",
              "      border-color: transparent;\n",
              "      border-bottom-color: var(--fill-color);\n",
              "      border-left-color: var(--fill-color);\n",
              "    }\n",
              "    20% {\n",
              "      border-color: transparent;\n",
              "      border-left-color: var(--fill-color);\n",
              "      border-top-color: var(--fill-color);\n",
              "    }\n",
              "    30% {\n",
              "      border-color: transparent;\n",
              "      border-left-color: var(--fill-color);\n",
              "      border-top-color: var(--fill-color);\n",
              "      border-right-color: var(--fill-color);\n",
              "    }\n",
              "    40% {\n",
              "      border-color: transparent;\n",
              "      border-right-color: var(--fill-color);\n",
              "      border-top-color: var(--fill-color);\n",
              "    }\n",
              "    60% {\n",
              "      border-color: transparent;\n",
              "      border-right-color: var(--fill-color);\n",
              "    }\n",
              "    80% {\n",
              "      border-color: transparent;\n",
              "      border-right-color: var(--fill-color);\n",
              "      border-bottom-color: var(--fill-color);\n",
              "    }\n",
              "    90% {\n",
              "      border-color: transparent;\n",
              "      border-bottom-color: var(--fill-color);\n",
              "    }\n",
              "  }\n",
              "</style>\n",
              "\n",
              "  <script>\n",
              "    async function quickchart(key) {\n",
              "      const quickchartButtonEl =\n",
              "        document.querySelector('#' + key + ' button');\n",
              "      quickchartButtonEl.disabled = true;  // To prevent multiple clicks.\n",
              "      quickchartButtonEl.classList.add('colab-df-spinner');\n",
              "      try {\n",
              "        const charts = await google.colab.kernel.invokeFunction(\n",
              "            'suggestCharts', [key], {});\n",
              "      } catch (error) {\n",
              "        console.error('Error during call to suggestCharts:', error);\n",
              "      }\n",
              "      quickchartButtonEl.classList.remove('colab-df-spinner');\n",
              "      quickchartButtonEl.classList.add('colab-df-quickchart-complete');\n",
              "    }\n",
              "    (() => {\n",
              "      let quickchartButtonEl =\n",
              "        document.querySelector('#df-cf431e21-5005-482b-8158-8265407a33d7 button');\n",
              "      quickchartButtonEl.style.display =\n",
              "        google.colab.kernel.accessAllowed ? 'block' : 'none';\n",
              "    })();\n",
              "  </script>\n",
              "</div>\n",
              "    </div>\n",
              "  </div>\n"
            ]
          },
          "metadata": {},
          "execution_count": 41
        }
      ]
    },
    {
      "cell_type": "code",
      "source": [
        "product_df.shape"
      ],
      "metadata": {
        "colab": {
          "base_uri": "https://localhost:8080/"
        },
        "id": "bfJV2G5azjfn",
        "outputId": "6d2c7d6d-4e4d-4f39-9f8e-285d0c0d7df6"
      },
      "execution_count": null,
      "outputs": [
        {
          "output_type": "execute_result",
          "data": {
            "text/plain": [
              "(1599, 23)"
            ]
          },
          "metadata": {},
          "execution_count": 42
        }
      ]
    },
    {
      "cell_type": "code",
      "source": [
        "product_df.columns"
      ],
      "metadata": {
        "colab": {
          "base_uri": "https://localhost:8080/"
        },
        "id": "NmGKCKeAz2N4",
        "outputId": "32248078-7abf-484b-bdff-2bf9d2c353fc"
      },
      "execution_count": null,
      "outputs": [
        {
          "output_type": "execute_result",
          "data": {
            "text/plain": [
              "Index(['ProductKey', 'ID', 'StartDate', 'EndDate', 'Name', 'CurrentName',\n",
              "       'Active', 'Preview', 'Deleted', 'BaseCost', 'PaymentFrequencyID',\n",
              "       'PaymentFrequency', 'PaymentFrequencyDerived',\n",
              "       'PaymentFrequencyDerivedOrder', 'PaymentPeriod', 'CustomerTypeName',\n",
              "       'SupplierID', 'ProductAreaName', 'BonusValueDescription',\n",
              "       'GlobalShowOnWhistleout', 'IspProductKey', 'MobileProductKey',\n",
              "       'EditorsPickName'],\n",
              "      dtype='object')"
            ]
          },
          "metadata": {},
          "execution_count": 43
        }
      ]
    },
    {
      "cell_type": "code",
      "source": [
        "product_df = product_df[product_df['ProductAreaName'] == 'Mobile Phones']"
      ],
      "metadata": {
        "id": "gC3N7yv50Mxr"
      },
      "execution_count": null,
      "outputs": []
    },
    {
      "cell_type": "code",
      "source": [
        "product_df.shape"
      ],
      "metadata": {
        "colab": {
          "base_uri": "https://localhost:8080/"
        },
        "id": "sn3Tqqv20Q_I",
        "outputId": "4a8ce4cf-e2b9-4930-ff5e-b9aaefa8462a"
      },
      "execution_count": null,
      "outputs": [
        {
          "output_type": "execute_result",
          "data": {
            "text/plain": [
              "(701, 23)"
            ]
          },
          "metadata": {},
          "execution_count": 45
        }
      ]
    },
    {
      "cell_type": "code",
      "source": [
        "product_df = product_df[product_df['EndDate']>='2022-12-01']"
      ],
      "metadata": {
        "id": "nvVzFATKz830"
      },
      "execution_count": null,
      "outputs": []
    },
    {
      "cell_type": "code",
      "source": [
        "product_df.shape"
      ],
      "metadata": {
        "colab": {
          "base_uri": "https://localhost:8080/"
        },
        "id": "sY7RlsQN0duc",
        "outputId": "771c98c9-ac55-44b2-98c2-bec67cf51fc3"
      },
      "execution_count": null,
      "outputs": [
        {
          "output_type": "execute_result",
          "data": {
            "text/plain": [
              "(659, 23)"
            ]
          },
          "metadata": {},
          "execution_count": 47
        }
      ]
    },
    {
      "cell_type": "code",
      "source": [
        "product_df = product_df.drop_duplicates()\n",
        "product_df.isnull().any()"
      ],
      "metadata": {
        "colab": {
          "base_uri": "https://localhost:8080/"
        },
        "id": "Yt1K89XqhH7K",
        "outputId": "3eb7bbf5-c3b2-4cb2-e434-627d963f3133"
      },
      "execution_count": null,
      "outputs": [
        {
          "output_type": "execute_result",
          "data": {
            "text/plain": [
              "ProductKey                      False\n",
              "ID                              False\n",
              "StartDate                       False\n",
              "EndDate                         False\n",
              "Name                            False\n",
              "CurrentName                     False\n",
              "Active                          False\n",
              "Preview                         False\n",
              "Deleted                         False\n",
              "BaseCost                        False\n",
              "PaymentFrequencyID              False\n",
              "PaymentFrequency                False\n",
              "PaymentFrequencyDerived         False\n",
              "PaymentFrequencyDerivedOrder    False\n",
              "PaymentPeriod                   False\n",
              "CustomerTypeName                False\n",
              "SupplierID                      False\n",
              "ProductAreaName                 False\n",
              "BonusValueDescription            True\n",
              "GlobalShowOnWhistleout          False\n",
              "IspProductKey                   False\n",
              "MobileProductKey                False\n",
              "EditorsPickName                  True\n",
              "dtype: bool"
            ]
          },
          "metadata": {},
          "execution_count": 48
        }
      ]
    },
    {
      "cell_type": "code",
      "source": [
        "# Calculate the total number of missing values per column\n",
        "missing_values = product_df.isnull().sum()\n",
        "\n",
        "# Calculate the percentage of missing values per column\n",
        "percentage_missing = (missing_values / len(product_df)) * 100\n",
        "\n",
        "# Create a DataFrame to display the results\n",
        "missing_data_info = pd.DataFrame({\n",
        "    'Column Name': missing_values.index,\n",
        "    'Total Missing Values': missing_values.values,\n",
        "    'Percentage Missing': percentage_missing.values\n",
        "})\n",
        "\n",
        "# Sort the DataFrame by percentage of missing values (descending)\n",
        "missing_data_info = missing_data_info.sort_values(by='Percentage Missing', ascending=False)\n",
        "\n",
        "# Print the missing data information\n",
        "missing_data_info"
      ],
      "metadata": {
        "colab": {
          "base_uri": "https://localhost:8080/",
          "height": 771
        },
        "id": "yJN7vOIu0twD",
        "outputId": "daf30d66-8689-4324-f275-962cecdcac67"
      },
      "execution_count": null,
      "outputs": [
        {
          "output_type": "execute_result",
          "data": {
            "text/plain": [
              "                     Column Name  Total Missing Values  Percentage Missing\n",
              "22               EditorsPickName                   630           95.599393\n",
              "18         BonusValueDescription                     7            1.062215\n",
              "12       PaymentFrequencyDerived                     0            0.000000\n",
              "21              MobileProductKey                     0            0.000000\n",
              "20                 IspProductKey                     0            0.000000\n",
              "19        GlobalShowOnWhistleout                     0            0.000000\n",
              "17               ProductAreaName                     0            0.000000\n",
              "16                    SupplierID                     0            0.000000\n",
              "15              CustomerTypeName                     0            0.000000\n",
              "14                 PaymentPeriod                     0            0.000000\n",
              "13  PaymentFrequencyDerivedOrder                     0            0.000000\n",
              "0                     ProductKey                     0            0.000000\n",
              "1                             ID                     0            0.000000\n",
              "10            PaymentFrequencyID                     0            0.000000\n",
              "9                       BaseCost                     0            0.000000\n",
              "8                        Deleted                     0            0.000000\n",
              "7                        Preview                     0            0.000000\n",
              "6                         Active                     0            0.000000\n",
              "5                    CurrentName                     0            0.000000\n",
              "4                           Name                     0            0.000000\n",
              "3                        EndDate                     0            0.000000\n",
              "2                      StartDate                     0            0.000000\n",
              "11              PaymentFrequency                     0            0.000000"
            ],
            "text/html": [
              "\n",
              "  <div id=\"df-d8884821-630c-4885-b566-11e37b8b57f3\" class=\"colab-df-container\">\n",
              "    <div>\n",
              "<style scoped>\n",
              "    .dataframe tbody tr th:only-of-type {\n",
              "        vertical-align: middle;\n",
              "    }\n",
              "\n",
              "    .dataframe tbody tr th {\n",
              "        vertical-align: top;\n",
              "    }\n",
              "\n",
              "    .dataframe thead th {\n",
              "        text-align: right;\n",
              "    }\n",
              "</style>\n",
              "<table border=\"1\" class=\"dataframe\">\n",
              "  <thead>\n",
              "    <tr style=\"text-align: right;\">\n",
              "      <th></th>\n",
              "      <th>Column Name</th>\n",
              "      <th>Total Missing Values</th>\n",
              "      <th>Percentage Missing</th>\n",
              "    </tr>\n",
              "  </thead>\n",
              "  <tbody>\n",
              "    <tr>\n",
              "      <th>22</th>\n",
              "      <td>EditorsPickName</td>\n",
              "      <td>630</td>\n",
              "      <td>95.599393</td>\n",
              "    </tr>\n",
              "    <tr>\n",
              "      <th>18</th>\n",
              "      <td>BonusValueDescription</td>\n",
              "      <td>7</td>\n",
              "      <td>1.062215</td>\n",
              "    </tr>\n",
              "    <tr>\n",
              "      <th>12</th>\n",
              "      <td>PaymentFrequencyDerived</td>\n",
              "      <td>0</td>\n",
              "      <td>0.000000</td>\n",
              "    </tr>\n",
              "    <tr>\n",
              "      <th>21</th>\n",
              "      <td>MobileProductKey</td>\n",
              "      <td>0</td>\n",
              "      <td>0.000000</td>\n",
              "    </tr>\n",
              "    <tr>\n",
              "      <th>20</th>\n",
              "      <td>IspProductKey</td>\n",
              "      <td>0</td>\n",
              "      <td>0.000000</td>\n",
              "    </tr>\n",
              "    <tr>\n",
              "      <th>19</th>\n",
              "      <td>GlobalShowOnWhistleout</td>\n",
              "      <td>0</td>\n",
              "      <td>0.000000</td>\n",
              "    </tr>\n",
              "    <tr>\n",
              "      <th>17</th>\n",
              "      <td>ProductAreaName</td>\n",
              "      <td>0</td>\n",
              "      <td>0.000000</td>\n",
              "    </tr>\n",
              "    <tr>\n",
              "      <th>16</th>\n",
              "      <td>SupplierID</td>\n",
              "      <td>0</td>\n",
              "      <td>0.000000</td>\n",
              "    </tr>\n",
              "    <tr>\n",
              "      <th>15</th>\n",
              "      <td>CustomerTypeName</td>\n",
              "      <td>0</td>\n",
              "      <td>0.000000</td>\n",
              "    </tr>\n",
              "    <tr>\n",
              "      <th>14</th>\n",
              "      <td>PaymentPeriod</td>\n",
              "      <td>0</td>\n",
              "      <td>0.000000</td>\n",
              "    </tr>\n",
              "    <tr>\n",
              "      <th>13</th>\n",
              "      <td>PaymentFrequencyDerivedOrder</td>\n",
              "      <td>0</td>\n",
              "      <td>0.000000</td>\n",
              "    </tr>\n",
              "    <tr>\n",
              "      <th>0</th>\n",
              "      <td>ProductKey</td>\n",
              "      <td>0</td>\n",
              "      <td>0.000000</td>\n",
              "    </tr>\n",
              "    <tr>\n",
              "      <th>1</th>\n",
              "      <td>ID</td>\n",
              "      <td>0</td>\n",
              "      <td>0.000000</td>\n",
              "    </tr>\n",
              "    <tr>\n",
              "      <th>10</th>\n",
              "      <td>PaymentFrequencyID</td>\n",
              "      <td>0</td>\n",
              "      <td>0.000000</td>\n",
              "    </tr>\n",
              "    <tr>\n",
              "      <th>9</th>\n",
              "      <td>BaseCost</td>\n",
              "      <td>0</td>\n",
              "      <td>0.000000</td>\n",
              "    </tr>\n",
              "    <tr>\n",
              "      <th>8</th>\n",
              "      <td>Deleted</td>\n",
              "      <td>0</td>\n",
              "      <td>0.000000</td>\n",
              "    </tr>\n",
              "    <tr>\n",
              "      <th>7</th>\n",
              "      <td>Preview</td>\n",
              "      <td>0</td>\n",
              "      <td>0.000000</td>\n",
              "    </tr>\n",
              "    <tr>\n",
              "      <th>6</th>\n",
              "      <td>Active</td>\n",
              "      <td>0</td>\n",
              "      <td>0.000000</td>\n",
              "    </tr>\n",
              "    <tr>\n",
              "      <th>5</th>\n",
              "      <td>CurrentName</td>\n",
              "      <td>0</td>\n",
              "      <td>0.000000</td>\n",
              "    </tr>\n",
              "    <tr>\n",
              "      <th>4</th>\n",
              "      <td>Name</td>\n",
              "      <td>0</td>\n",
              "      <td>0.000000</td>\n",
              "    </tr>\n",
              "    <tr>\n",
              "      <th>3</th>\n",
              "      <td>EndDate</td>\n",
              "      <td>0</td>\n",
              "      <td>0.000000</td>\n",
              "    </tr>\n",
              "    <tr>\n",
              "      <th>2</th>\n",
              "      <td>StartDate</td>\n",
              "      <td>0</td>\n",
              "      <td>0.000000</td>\n",
              "    </tr>\n",
              "    <tr>\n",
              "      <th>11</th>\n",
              "      <td>PaymentFrequency</td>\n",
              "      <td>0</td>\n",
              "      <td>0.000000</td>\n",
              "    </tr>\n",
              "  </tbody>\n",
              "</table>\n",
              "</div>\n",
              "    <div class=\"colab-df-buttons\">\n",
              "\n",
              "  <div class=\"colab-df-container\">\n",
              "    <button class=\"colab-df-convert\" onclick=\"convertToInteractive('df-d8884821-630c-4885-b566-11e37b8b57f3')\"\n",
              "            title=\"Convert this dataframe to an interactive table.\"\n",
              "            style=\"display:none;\">\n",
              "\n",
              "  <svg xmlns=\"http://www.w3.org/2000/svg\" height=\"24px\" viewBox=\"0 -960 960 960\">\n",
              "    <path d=\"M120-120v-720h720v720H120Zm60-500h600v-160H180v160Zm220 220h160v-160H400v160Zm0 220h160v-160H400v160ZM180-400h160v-160H180v160Zm440 0h160v-160H620v160ZM180-180h160v-160H180v160Zm440 0h160v-160H620v160Z\"/>\n",
              "  </svg>\n",
              "    </button>\n",
              "\n",
              "  <style>\n",
              "    .colab-df-container {\n",
              "      display:flex;\n",
              "      gap: 12px;\n",
              "    }\n",
              "\n",
              "    .colab-df-convert {\n",
              "      background-color: #E8F0FE;\n",
              "      border: none;\n",
              "      border-radius: 50%;\n",
              "      cursor: pointer;\n",
              "      display: none;\n",
              "      fill: #1967D2;\n",
              "      height: 32px;\n",
              "      padding: 0 0 0 0;\n",
              "      width: 32px;\n",
              "    }\n",
              "\n",
              "    .colab-df-convert:hover {\n",
              "      background-color: #E2EBFA;\n",
              "      box-shadow: 0px 1px 2px rgba(60, 64, 67, 0.3), 0px 1px 3px 1px rgba(60, 64, 67, 0.15);\n",
              "      fill: #174EA6;\n",
              "    }\n",
              "\n",
              "    .colab-df-buttons div {\n",
              "      margin-bottom: 4px;\n",
              "    }\n",
              "\n",
              "    [theme=dark] .colab-df-convert {\n",
              "      background-color: #3B4455;\n",
              "      fill: #D2E3FC;\n",
              "    }\n",
              "\n",
              "    [theme=dark] .colab-df-convert:hover {\n",
              "      background-color: #434B5C;\n",
              "      box-shadow: 0px 1px 3px 1px rgba(0, 0, 0, 0.15);\n",
              "      filter: drop-shadow(0px 1px 2px rgba(0, 0, 0, 0.3));\n",
              "      fill: #FFFFFF;\n",
              "    }\n",
              "  </style>\n",
              "\n",
              "    <script>\n",
              "      const buttonEl =\n",
              "        document.querySelector('#df-d8884821-630c-4885-b566-11e37b8b57f3 button.colab-df-convert');\n",
              "      buttonEl.style.display =\n",
              "        google.colab.kernel.accessAllowed ? 'block' : 'none';\n",
              "\n",
              "      async function convertToInteractive(key) {\n",
              "        const element = document.querySelector('#df-d8884821-630c-4885-b566-11e37b8b57f3');\n",
              "        const dataTable =\n",
              "          await google.colab.kernel.invokeFunction('convertToInteractive',\n",
              "                                                    [key], {});\n",
              "        if (!dataTable) return;\n",
              "\n",
              "        const docLinkHtml = 'Like what you see? Visit the ' +\n",
              "          '<a target=\"_blank\" href=https://colab.research.google.com/notebooks/data_table.ipynb>data table notebook</a>'\n",
              "          + ' to learn more about interactive tables.';\n",
              "        element.innerHTML = '';\n",
              "        dataTable['output_type'] = 'display_data';\n",
              "        await google.colab.output.renderOutput(dataTable, element);\n",
              "        const docLink = document.createElement('div');\n",
              "        docLink.innerHTML = docLinkHtml;\n",
              "        element.appendChild(docLink);\n",
              "      }\n",
              "    </script>\n",
              "  </div>\n",
              "\n",
              "\n",
              "<div id=\"df-4de2fb35-1ea7-43cc-8d19-36226896ba8b\">\n",
              "  <button class=\"colab-df-quickchart\" onclick=\"quickchart('df-4de2fb35-1ea7-43cc-8d19-36226896ba8b')\"\n",
              "            title=\"Suggest charts.\"\n",
              "            style=\"display:none;\">\n",
              "\n",
              "<svg xmlns=\"http://www.w3.org/2000/svg\" height=\"24px\"viewBox=\"0 0 24 24\"\n",
              "     width=\"24px\">\n",
              "    <g>\n",
              "        <path d=\"M19 3H5c-1.1 0-2 .9-2 2v14c0 1.1.9 2 2 2h14c1.1 0 2-.9 2-2V5c0-1.1-.9-2-2-2zM9 17H7v-7h2v7zm4 0h-2V7h2v10zm4 0h-2v-4h2v4z\"/>\n",
              "    </g>\n",
              "</svg>\n",
              "  </button>\n",
              "\n",
              "<style>\n",
              "  .colab-df-quickchart {\n",
              "      --bg-color: #E8F0FE;\n",
              "      --fill-color: #1967D2;\n",
              "      --hover-bg-color: #E2EBFA;\n",
              "      --hover-fill-color: #174EA6;\n",
              "      --disabled-fill-color: #AAA;\n",
              "      --disabled-bg-color: #DDD;\n",
              "  }\n",
              "\n",
              "  [theme=dark] .colab-df-quickchart {\n",
              "      --bg-color: #3B4455;\n",
              "      --fill-color: #D2E3FC;\n",
              "      --hover-bg-color: #434B5C;\n",
              "      --hover-fill-color: #FFFFFF;\n",
              "      --disabled-bg-color: #3B4455;\n",
              "      --disabled-fill-color: #666;\n",
              "  }\n",
              "\n",
              "  .colab-df-quickchart {\n",
              "    background-color: var(--bg-color);\n",
              "    border: none;\n",
              "    border-radius: 50%;\n",
              "    cursor: pointer;\n",
              "    display: none;\n",
              "    fill: var(--fill-color);\n",
              "    height: 32px;\n",
              "    padding: 0;\n",
              "    width: 32px;\n",
              "  }\n",
              "\n",
              "  .colab-df-quickchart:hover {\n",
              "    background-color: var(--hover-bg-color);\n",
              "    box-shadow: 0 1px 2px rgba(60, 64, 67, 0.3), 0 1px 3px 1px rgba(60, 64, 67, 0.15);\n",
              "    fill: var(--button-hover-fill-color);\n",
              "  }\n",
              "\n",
              "  .colab-df-quickchart-complete:disabled,\n",
              "  .colab-df-quickchart-complete:disabled:hover {\n",
              "    background-color: var(--disabled-bg-color);\n",
              "    fill: var(--disabled-fill-color);\n",
              "    box-shadow: none;\n",
              "  }\n",
              "\n",
              "  .colab-df-spinner {\n",
              "    border: 2px solid var(--fill-color);\n",
              "    border-color: transparent;\n",
              "    border-bottom-color: var(--fill-color);\n",
              "    animation:\n",
              "      spin 1s steps(1) infinite;\n",
              "  }\n",
              "\n",
              "  @keyframes spin {\n",
              "    0% {\n",
              "      border-color: transparent;\n",
              "      border-bottom-color: var(--fill-color);\n",
              "      border-left-color: var(--fill-color);\n",
              "    }\n",
              "    20% {\n",
              "      border-color: transparent;\n",
              "      border-left-color: var(--fill-color);\n",
              "      border-top-color: var(--fill-color);\n",
              "    }\n",
              "    30% {\n",
              "      border-color: transparent;\n",
              "      border-left-color: var(--fill-color);\n",
              "      border-top-color: var(--fill-color);\n",
              "      border-right-color: var(--fill-color);\n",
              "    }\n",
              "    40% {\n",
              "      border-color: transparent;\n",
              "      border-right-color: var(--fill-color);\n",
              "      border-top-color: var(--fill-color);\n",
              "    }\n",
              "    60% {\n",
              "      border-color: transparent;\n",
              "      border-right-color: var(--fill-color);\n",
              "    }\n",
              "    80% {\n",
              "      border-color: transparent;\n",
              "      border-right-color: var(--fill-color);\n",
              "      border-bottom-color: var(--fill-color);\n",
              "    }\n",
              "    90% {\n",
              "      border-color: transparent;\n",
              "      border-bottom-color: var(--fill-color);\n",
              "    }\n",
              "  }\n",
              "</style>\n",
              "\n",
              "  <script>\n",
              "    async function quickchart(key) {\n",
              "      const quickchartButtonEl =\n",
              "        document.querySelector('#' + key + ' button');\n",
              "      quickchartButtonEl.disabled = true;  // To prevent multiple clicks.\n",
              "      quickchartButtonEl.classList.add('colab-df-spinner');\n",
              "      try {\n",
              "        const charts = await google.colab.kernel.invokeFunction(\n",
              "            'suggestCharts', [key], {});\n",
              "      } catch (error) {\n",
              "        console.error('Error during call to suggestCharts:', error);\n",
              "      }\n",
              "      quickchartButtonEl.classList.remove('colab-df-spinner');\n",
              "      quickchartButtonEl.classList.add('colab-df-quickchart-complete');\n",
              "    }\n",
              "    (() => {\n",
              "      let quickchartButtonEl =\n",
              "        document.querySelector('#df-4de2fb35-1ea7-43cc-8d19-36226896ba8b button');\n",
              "      quickchartButtonEl.style.display =\n",
              "        google.colab.kernel.accessAllowed ? 'block' : 'none';\n",
              "    })();\n",
              "  </script>\n",
              "</div>\n",
              "    </div>\n",
              "  </div>\n"
            ]
          },
          "metadata": {},
          "execution_count": 49
        }
      ]
    },
    {
      "cell_type": "code",
      "source": [
        "# Filter for columns with more than 50% missing values\n",
        "columns_with_more_than_50_percent_missing = missing_data_info[missing_data_info['Percentage Missing'] > 50]\n",
        "\n",
        "# Print the filtered information\n",
        "print(\"Columns with more than 50% missing values:\")\n",
        "print(columns_with_more_than_50_percent_missing)"
      ],
      "metadata": {
        "colab": {
          "base_uri": "https://localhost:8080/"
        },
        "id": "UrZwJBBJ02M2",
        "outputId": "bf19cbb8-aedd-4fdb-97a0-e4a6ace09771"
      },
      "execution_count": null,
      "outputs": [
        {
          "output_type": "stream",
          "name": "stdout",
          "text": [
            "Columns with more than 50% missing values:\n",
            "        Column Name  Total Missing Values  Percentage Missing\n",
            "22  EditorsPickName                   630           95.599393\n"
          ]
        }
      ]
    },
    {
      "cell_type": "code",
      "source": [
        "# Fill missing values in the 'EditorsPickName' column with 0\n",
        "product_df['EditorsPickName'] = product_df['EditorsPickName'].fillna(0)\n",
        "\n",
        "# Replace non-zero values with 1\n",
        "product_df['EditorsPickName'] = np.where(product_df['EditorsPickName'] != 0, 1, 0)"
      ],
      "metadata": {
        "colab": {
          "base_uri": "https://localhost:8080/",
          "height": 17
        },
        "id": "2CJMtFyl07el",
        "outputId": "29ba9bb9-92ce-4805-81d0-ad3197f2831a"
      },
      "execution_count": null,
      "outputs": [
        {
          "output_type": "display_data",
          "data": {
            "text/plain": [
              "<IPython.core.display.Javascript object>"
            ],
            "application/javascript": [
              "\n",
              "        if (window._pyforest_update_imports_cell) { window._pyforest_update_imports_cell('import numpy as np'); }\n",
              "    "
            ]
          },
          "metadata": {}
        }
      ]
    },
    {
      "cell_type": "code",
      "source": [
        "product_df.EditorsPickName.unique()"
      ],
      "metadata": {
        "colab": {
          "base_uri": "https://localhost:8080/"
        },
        "id": "3QDYa24L1DbE",
        "outputId": "88e7d20c-f2c8-4deb-8342-2ba6aaefce9e"
      },
      "execution_count": null,
      "outputs": [
        {
          "output_type": "execute_result",
          "data": {
            "text/plain": [
              "array([0, 1])"
            ]
          },
          "metadata": {},
          "execution_count": 52
        }
      ]
    },
    {
      "cell_type": "code",
      "source": [
        "product_df.columns"
      ],
      "metadata": {
        "colab": {
          "base_uri": "https://localhost:8080/"
        },
        "id": "FvQrIvqX4STG",
        "outputId": "e949edff-4f1d-42ab-e790-5839164aa197"
      },
      "execution_count": null,
      "outputs": [
        {
          "output_type": "execute_result",
          "data": {
            "text/plain": [
              "Index(['ProductKey', 'ID', 'StartDate', 'EndDate', 'Name', 'CurrentName',\n",
              "       'Active', 'Preview', 'Deleted', 'BaseCost', 'PaymentFrequencyID',\n",
              "       'PaymentFrequency', 'PaymentFrequencyDerived',\n",
              "       'PaymentFrequencyDerivedOrder', 'PaymentPeriod', 'CustomerTypeName',\n",
              "       'SupplierID', 'ProductAreaName', 'BonusValueDescription',\n",
              "       'GlobalShowOnWhistleout', 'IspProductKey', 'MobileProductKey',\n",
              "       'EditorsPickName'],\n",
              "      dtype='object')"
            ]
          },
          "metadata": {},
          "execution_count": 53
        }
      ]
    },
    {
      "cell_type": "code",
      "source": [
        "# Define the substrings to search for in column names\n",
        "substrings_to_search = ['key', 'comment', 'id']\n",
        "\n",
        "# Get the column names that contain those word\n",
        "matching_columns = [col for col in product_df.columns if any(sub in col.lower() for sub in substrings_to_search)]\n",
        "\n",
        "# Print the matching column names\n",
        "print(\"Columns containing 'key,' 'comment,' or 'id' in their names:\")\n",
        "for col in matching_columns:\n",
        "    print(col)"
      ],
      "metadata": {
        "colab": {
          "base_uri": "https://localhost:8080/"
        },
        "id": "sP8DpfTj3TSQ",
        "outputId": "5d16e743-1486-4f2c-c45e-981a4896fc22"
      },
      "execution_count": null,
      "outputs": [
        {
          "output_type": "stream",
          "name": "stdout",
          "text": [
            "Columns containing 'key,' 'comment,' or 'id' in their names:\n",
            "ProductKey\n",
            "ID\n",
            "PaymentFrequencyID\n",
            "SupplierID\n",
            "IspProductKey\n",
            "MobileProductKey\n"
          ]
        }
      ]
    },
    {
      "cell_type": "code",
      "source": [
        "'''\n",
        "ProductKey = unique key for the product type\n",
        "ID = unique identifier of an individual product\n",
        "'''\n",
        "columns_to_drop = [\n",
        "    'ProductAreaName',\n",
        "    'IspProductKey',\n",
        "    'PaymentFrequencyID',\n",
        "    'BonusValueDescription',\n",
        "    'PaymentFrequencyDerived' # same as PaymentFrequencyDerivedOrder which is presented with days\n",
        "\n",
        "]\n",
        "# Drop the specified columns\n",
        "product_df = product_df.drop(columns=columns_to_drop)"
      ],
      "metadata": {
        "id": "3JXlrt6b3C1F"
      },
      "execution_count": null,
      "outputs": []
    },
    {
      "cell_type": "code",
      "source": [
        "product_df.shape"
      ],
      "metadata": {
        "colab": {
          "base_uri": "https://localhost:8080/"
        },
        "id": "RtM1AdcP5g97",
        "outputId": "77adae99-c0a1-471a-d363-58c36c381978"
      },
      "execution_count": null,
      "outputs": [
        {
          "output_type": "execute_result",
          "data": {
            "text/plain": [
              "(659, 18)"
            ]
          },
          "metadata": {},
          "execution_count": 56
        }
      ]
    },
    {
      "cell_type": "code",
      "source": [
        "product_df.rename(columns={'PaymentFrequencyDerivedOrder': 'PaymentFrequencyDerived_in_days', 'ID':'product_indv_ID'}, inplace=True)"
      ],
      "metadata": {
        "id": "7WvcJGymQh0z"
      },
      "execution_count": null,
      "outputs": []
    },
    {
      "cell_type": "code",
      "source": [
        "constant_columns = []\n",
        "\n",
        "for column in product_df.columns:\n",
        "    if product_df[column].nunique() == 1:\n",
        "        constant_columns.append(column)\n",
        "\n",
        "# Print the constant columns\n",
        "print(\"Constant Columns:\")\n",
        "print(constant_columns)"
      ],
      "metadata": {
        "colab": {
          "base_uri": "https://localhost:8080/"
        },
        "id": "5YO_gZQC4iY1",
        "outputId": "fdd24fc4-8c3b-4c16-b20e-40830720bbd2"
      },
      "execution_count": null,
      "outputs": [
        {
          "output_type": "stream",
          "name": "stdout",
          "text": [
            "Constant Columns:\n",
            "['Deleted', 'CustomerTypeName']\n"
          ]
        }
      ]
    },
    {
      "cell_type": "code",
      "source": [
        "columns_to_drop = [\n",
        "    'Deleted',\n",
        "    'CustomerTypeName'\n",
        "]\n",
        "# Drop the specified columns\n",
        "product_df = product_df.drop(columns=columns_to_drop)"
      ],
      "metadata": {
        "id": "MHbPTGON5wHd"
      },
      "execution_count": null,
      "outputs": []
    },
    {
      "cell_type": "code",
      "source": [
        "product_df.columns"
      ],
      "metadata": {
        "colab": {
          "base_uri": "https://localhost:8080/"
        },
        "id": "On0hy8zC52-T",
        "outputId": "c6a64e60-4c4e-4230-be09-7fa69f1a053a"
      },
      "execution_count": null,
      "outputs": [
        {
          "output_type": "execute_result",
          "data": {
            "text/plain": [
              "Index(['ProductKey', 'product_indv_ID', 'StartDate', 'EndDate', 'Name',\n",
              "       'CurrentName', 'Active', 'Preview', 'BaseCost', 'PaymentFrequency',\n",
              "       'PaymentFrequencyDerived_in_days', 'PaymentPeriod', 'SupplierID',\n",
              "       'GlobalShowOnWhistleout', 'MobileProductKey', 'EditorsPickName'],\n",
              "      dtype='object')"
            ]
          },
          "metadata": {},
          "execution_count": 60
        }
      ]
    },
    {
      "cell_type": "code",
      "source": [
        "product_df.shape"
      ],
      "metadata": {
        "colab": {
          "base_uri": "https://localhost:8080/"
        },
        "id": "IVy3rTiX55Xt",
        "outputId": "4df95d54-1d66-490d-ea22-368c9de63002"
      },
      "execution_count": null,
      "outputs": [
        {
          "output_type": "execute_result",
          "data": {
            "text/plain": [
              "(659, 16)"
            ]
          },
          "metadata": {},
          "execution_count": 61
        }
      ]
    },
    {
      "cell_type": "markdown",
      "source": [
        "# DimUTSCampaign Table"
      ],
      "metadata": {
        "id": "OKkmYZUY68tD"
      }
    },
    {
      "cell_type": "code",
      "source": [
        "campaign_df= pd.read_csv(\"/content/drive/Shareddrives/protik/iLab/Dataset/data/DimUTSCampaign.csv\")"
      ],
      "metadata": {
        "id": "FMgzqh8k677i"
      },
      "execution_count": null,
      "outputs": []
    },
    {
      "cell_type": "code",
      "source": [
        "campaign_df.head()"
      ],
      "metadata": {
        "colab": {
          "base_uri": "https://localhost:8080/",
          "height": 446
        },
        "id": "dukBJ2DN7HRC",
        "outputId": "d228b8ad-d146-4f6f-a883-ce248098e3cf"
      },
      "execution_count": null,
      "outputs": [
        {
          "output_type": "execute_result",
          "data": {
            "text/plain": [
              "   CampaignKey     ID                    StartDate  \\\n",
              "0        20666  15412  2022-12-03 00:00:00.0000000   \n",
              "1        23436  15768  2023-01-13 00:00:00.0000000   \n",
              "2        21546  15180  2022-12-01 00:00:00.0000000   \n",
              "3        22097  15788  2023-01-11 00:00:00.0000000   \n",
              "4        14011   7360  2022-11-01 00:00:00.0000000   \n",
              "\n",
              "                       EndDate  Active  Preview                        Name  \\\n",
              "0  2023-02-28 00:00:00.0000000       1        0                $35 SIM Only   \n",
              "1  2023-02-28 00:00:00.0000000       1        0        4G 100GB Mobile Plan   \n",
              "2  2023-02-01 00:00:00.0000000       1        0          $12 Unlimited Plan   \n",
              "3  2023-02-28 00:00:00.0000000       1        0  5G Ultimate Home Internet    \n",
              "4  2023-02-28 00:00:00.0000000       1        0         $30 Pre-Paid Mobile   \n",
              "\n",
              "   Sequence            BusinessStartDate              BusinessEndDate  ...  \\\n",
              "0        83  2022-12-03 00:00:00.0000000  2023-02-28 00:00:00.0000000  ...   \n",
              "1        10  2023-01-13 00:00:00.0000000  2023-02-28 00:00:00.0000000  ...   \n",
              "2        14  2022-12-01 00:00:00.0000000  2023-01-31 00:00:00.0000000  ...   \n",
              "3        28  2023-01-11 00:00:00.0000000  2023-02-28 00:00:00.0000000  ...   \n",
              "4       100  2022-11-01 00:00:00.0000000  2023-02-28 00:00:00.0000000  ...   \n",
              "\n",
              "  ExtraIncentive12mthTCOTotal ExtraIncentiveOneOffTotal  \\\n",
              "0                    252000.0                       0.0   \n",
              "1                    600000.0                       0.0   \n",
              "2                         0.0                       0.0   \n",
              "3                         0.0                       0.0   \n",
              "4                    240000.0                       0.0   \n",
              "\n",
              "   PhonePcntIncentive1mthTCOTotal  PhonePcntIncentive6mthTCOTotal  \\\n",
              "0                             0.0                             0.0   \n",
              "1                             0.0                             0.0   \n",
              "2                             0.0                             0.0   \n",
              "3                             0.0                             0.0   \n",
              "4                             0.0                             0.0   \n",
              "\n",
              "  PhonePcntIncentive12mthTCOTotal  PhonePcntIncentiveOneOffTotal  \\\n",
              "0                             0.0                            0.0   \n",
              "1                             0.0                            0.0   \n",
              "2                             0.0                            0.0   \n",
              "3                             0.0                            0.0   \n",
              "4                             0.0                            0.0   \n",
              "\n",
              "   TabletPcntIncentive1mthTCOTotal  TabletPcntIncentive6mthTCOTotal  \\\n",
              "0                              0.0                              0.0   \n",
              "1                              0.0                              0.0   \n",
              "2                              0.0                              0.0   \n",
              "3                              0.0                              0.0   \n",
              "4                              0.0                              0.0   \n",
              "\n",
              "   TabletPcntIncentive12mthTCOTotal  TabletPcntIncentiveOneOffTotal  \n",
              "0                               0.0                             0.0  \n",
              "1                               0.0                             0.0  \n",
              "2                               0.0                             0.0  \n",
              "3                               0.0                             0.0  \n",
              "4                               0.0                             0.0  \n",
              "\n",
              "[5 rows x 47 columns]"
            ],
            "text/html": [
              "\n",
              "  <div id=\"df-7a6b9bc3-27cd-4634-9db7-a38513ed5a6a\" class=\"colab-df-container\">\n",
              "    <div>\n",
              "<style scoped>\n",
              "    .dataframe tbody tr th:only-of-type {\n",
              "        vertical-align: middle;\n",
              "    }\n",
              "\n",
              "    .dataframe tbody tr th {\n",
              "        vertical-align: top;\n",
              "    }\n",
              "\n",
              "    .dataframe thead th {\n",
              "        text-align: right;\n",
              "    }\n",
              "</style>\n",
              "<table border=\"1\" class=\"dataframe\">\n",
              "  <thead>\n",
              "    <tr style=\"text-align: right;\">\n",
              "      <th></th>\n",
              "      <th>CampaignKey</th>\n",
              "      <th>ID</th>\n",
              "      <th>StartDate</th>\n",
              "      <th>EndDate</th>\n",
              "      <th>Active</th>\n",
              "      <th>Preview</th>\n",
              "      <th>Name</th>\n",
              "      <th>Sequence</th>\n",
              "      <th>BusinessStartDate</th>\n",
              "      <th>BusinessEndDate</th>\n",
              "      <th>...</th>\n",
              "      <th>ExtraIncentive12mthTCOTotal</th>\n",
              "      <th>ExtraIncentiveOneOffTotal</th>\n",
              "      <th>PhonePcntIncentive1mthTCOTotal</th>\n",
              "      <th>PhonePcntIncentive6mthTCOTotal</th>\n",
              "      <th>PhonePcntIncentive12mthTCOTotal</th>\n",
              "      <th>PhonePcntIncentiveOneOffTotal</th>\n",
              "      <th>TabletPcntIncentive1mthTCOTotal</th>\n",
              "      <th>TabletPcntIncentive6mthTCOTotal</th>\n",
              "      <th>TabletPcntIncentive12mthTCOTotal</th>\n",
              "      <th>TabletPcntIncentiveOneOffTotal</th>\n",
              "    </tr>\n",
              "  </thead>\n",
              "  <tbody>\n",
              "    <tr>\n",
              "      <th>0</th>\n",
              "      <td>20666</td>\n",
              "      <td>15412</td>\n",
              "      <td>2022-12-03 00:00:00.0000000</td>\n",
              "      <td>2023-02-28 00:00:00.0000000</td>\n",
              "      <td>1</td>\n",
              "      <td>0</td>\n",
              "      <td>$35 SIM Only</td>\n",
              "      <td>83</td>\n",
              "      <td>2022-12-03 00:00:00.0000000</td>\n",
              "      <td>2023-02-28 00:00:00.0000000</td>\n",
              "      <td>...</td>\n",
              "      <td>252000.0</td>\n",
              "      <td>0.0</td>\n",
              "      <td>0.0</td>\n",
              "      <td>0.0</td>\n",
              "      <td>0.0</td>\n",
              "      <td>0.0</td>\n",
              "      <td>0.0</td>\n",
              "      <td>0.0</td>\n",
              "      <td>0.0</td>\n",
              "      <td>0.0</td>\n",
              "    </tr>\n",
              "    <tr>\n",
              "      <th>1</th>\n",
              "      <td>23436</td>\n",
              "      <td>15768</td>\n",
              "      <td>2023-01-13 00:00:00.0000000</td>\n",
              "      <td>2023-02-28 00:00:00.0000000</td>\n",
              "      <td>1</td>\n",
              "      <td>0</td>\n",
              "      <td>4G 100GB Mobile Plan</td>\n",
              "      <td>10</td>\n",
              "      <td>2023-01-13 00:00:00.0000000</td>\n",
              "      <td>2023-02-28 00:00:00.0000000</td>\n",
              "      <td>...</td>\n",
              "      <td>600000.0</td>\n",
              "      <td>0.0</td>\n",
              "      <td>0.0</td>\n",
              "      <td>0.0</td>\n",
              "      <td>0.0</td>\n",
              "      <td>0.0</td>\n",
              "      <td>0.0</td>\n",
              "      <td>0.0</td>\n",
              "      <td>0.0</td>\n",
              "      <td>0.0</td>\n",
              "    </tr>\n",
              "    <tr>\n",
              "      <th>2</th>\n",
              "      <td>21546</td>\n",
              "      <td>15180</td>\n",
              "      <td>2022-12-01 00:00:00.0000000</td>\n",
              "      <td>2023-02-01 00:00:00.0000000</td>\n",
              "      <td>1</td>\n",
              "      <td>0</td>\n",
              "      <td>$12 Unlimited Plan</td>\n",
              "      <td>14</td>\n",
              "      <td>2022-12-01 00:00:00.0000000</td>\n",
              "      <td>2023-01-31 00:00:00.0000000</td>\n",
              "      <td>...</td>\n",
              "      <td>0.0</td>\n",
              "      <td>0.0</td>\n",
              "      <td>0.0</td>\n",
              "      <td>0.0</td>\n",
              "      <td>0.0</td>\n",
              "      <td>0.0</td>\n",
              "      <td>0.0</td>\n",
              "      <td>0.0</td>\n",
              "      <td>0.0</td>\n",
              "      <td>0.0</td>\n",
              "    </tr>\n",
              "    <tr>\n",
              "      <th>3</th>\n",
              "      <td>22097</td>\n",
              "      <td>15788</td>\n",
              "      <td>2023-01-11 00:00:00.0000000</td>\n",
              "      <td>2023-02-28 00:00:00.0000000</td>\n",
              "      <td>1</td>\n",
              "      <td>0</td>\n",
              "      <td>5G Ultimate Home Internet</td>\n",
              "      <td>28</td>\n",
              "      <td>2023-01-11 00:00:00.0000000</td>\n",
              "      <td>2023-02-28 00:00:00.0000000</td>\n",
              "      <td>...</td>\n",
              "      <td>0.0</td>\n",
              "      <td>0.0</td>\n",
              "      <td>0.0</td>\n",
              "      <td>0.0</td>\n",
              "      <td>0.0</td>\n",
              "      <td>0.0</td>\n",
              "      <td>0.0</td>\n",
              "      <td>0.0</td>\n",
              "      <td>0.0</td>\n",
              "      <td>0.0</td>\n",
              "    </tr>\n",
              "    <tr>\n",
              "      <th>4</th>\n",
              "      <td>14011</td>\n",
              "      <td>7360</td>\n",
              "      <td>2022-11-01 00:00:00.0000000</td>\n",
              "      <td>2023-02-28 00:00:00.0000000</td>\n",
              "      <td>1</td>\n",
              "      <td>0</td>\n",
              "      <td>$30 Pre-Paid Mobile</td>\n",
              "      <td>100</td>\n",
              "      <td>2022-11-01 00:00:00.0000000</td>\n",
              "      <td>2023-02-28 00:00:00.0000000</td>\n",
              "      <td>...</td>\n",
              "      <td>240000.0</td>\n",
              "      <td>0.0</td>\n",
              "      <td>0.0</td>\n",
              "      <td>0.0</td>\n",
              "      <td>0.0</td>\n",
              "      <td>0.0</td>\n",
              "      <td>0.0</td>\n",
              "      <td>0.0</td>\n",
              "      <td>0.0</td>\n",
              "      <td>0.0</td>\n",
              "    </tr>\n",
              "  </tbody>\n",
              "</table>\n",
              "<p>5 rows × 47 columns</p>\n",
              "</div>\n",
              "    <div class=\"colab-df-buttons\">\n",
              "\n",
              "  <div class=\"colab-df-container\">\n",
              "    <button class=\"colab-df-convert\" onclick=\"convertToInteractive('df-7a6b9bc3-27cd-4634-9db7-a38513ed5a6a')\"\n",
              "            title=\"Convert this dataframe to an interactive table.\"\n",
              "            style=\"display:none;\">\n",
              "\n",
              "  <svg xmlns=\"http://www.w3.org/2000/svg\" height=\"24px\" viewBox=\"0 -960 960 960\">\n",
              "    <path d=\"M120-120v-720h720v720H120Zm60-500h600v-160H180v160Zm220 220h160v-160H400v160Zm0 220h160v-160H400v160ZM180-400h160v-160H180v160Zm440 0h160v-160H620v160ZM180-180h160v-160H180v160Zm440 0h160v-160H620v160Z\"/>\n",
              "  </svg>\n",
              "    </button>\n",
              "\n",
              "  <style>\n",
              "    .colab-df-container {\n",
              "      display:flex;\n",
              "      gap: 12px;\n",
              "    }\n",
              "\n",
              "    .colab-df-convert {\n",
              "      background-color: #E8F0FE;\n",
              "      border: none;\n",
              "      border-radius: 50%;\n",
              "      cursor: pointer;\n",
              "      display: none;\n",
              "      fill: #1967D2;\n",
              "      height: 32px;\n",
              "      padding: 0 0 0 0;\n",
              "      width: 32px;\n",
              "    }\n",
              "\n",
              "    .colab-df-convert:hover {\n",
              "      background-color: #E2EBFA;\n",
              "      box-shadow: 0px 1px 2px rgba(60, 64, 67, 0.3), 0px 1px 3px 1px rgba(60, 64, 67, 0.15);\n",
              "      fill: #174EA6;\n",
              "    }\n",
              "\n",
              "    .colab-df-buttons div {\n",
              "      margin-bottom: 4px;\n",
              "    }\n",
              "\n",
              "    [theme=dark] .colab-df-convert {\n",
              "      background-color: #3B4455;\n",
              "      fill: #D2E3FC;\n",
              "    }\n",
              "\n",
              "    [theme=dark] .colab-df-convert:hover {\n",
              "      background-color: #434B5C;\n",
              "      box-shadow: 0px 1px 3px 1px rgba(0, 0, 0, 0.15);\n",
              "      filter: drop-shadow(0px 1px 2px rgba(0, 0, 0, 0.3));\n",
              "      fill: #FFFFFF;\n",
              "    }\n",
              "  </style>\n",
              "\n",
              "    <script>\n",
              "      const buttonEl =\n",
              "        document.querySelector('#df-7a6b9bc3-27cd-4634-9db7-a38513ed5a6a button.colab-df-convert');\n",
              "      buttonEl.style.display =\n",
              "        google.colab.kernel.accessAllowed ? 'block' : 'none';\n",
              "\n",
              "      async function convertToInteractive(key) {\n",
              "        const element = document.querySelector('#df-7a6b9bc3-27cd-4634-9db7-a38513ed5a6a');\n",
              "        const dataTable =\n",
              "          await google.colab.kernel.invokeFunction('convertToInteractive',\n",
              "                                                    [key], {});\n",
              "        if (!dataTable) return;\n",
              "\n",
              "        const docLinkHtml = 'Like what you see? Visit the ' +\n",
              "          '<a target=\"_blank\" href=https://colab.research.google.com/notebooks/data_table.ipynb>data table notebook</a>'\n",
              "          + ' to learn more about interactive tables.';\n",
              "        element.innerHTML = '';\n",
              "        dataTable['output_type'] = 'display_data';\n",
              "        await google.colab.output.renderOutput(dataTable, element);\n",
              "        const docLink = document.createElement('div');\n",
              "        docLink.innerHTML = docLinkHtml;\n",
              "        element.appendChild(docLink);\n",
              "      }\n",
              "    </script>\n",
              "  </div>\n",
              "\n",
              "\n",
              "<div id=\"df-ddf79fda-5a8c-44ce-b8e6-a7e57e477c8b\">\n",
              "  <button class=\"colab-df-quickchart\" onclick=\"quickchart('df-ddf79fda-5a8c-44ce-b8e6-a7e57e477c8b')\"\n",
              "            title=\"Suggest charts.\"\n",
              "            style=\"display:none;\">\n",
              "\n",
              "<svg xmlns=\"http://www.w3.org/2000/svg\" height=\"24px\"viewBox=\"0 0 24 24\"\n",
              "     width=\"24px\">\n",
              "    <g>\n",
              "        <path d=\"M19 3H5c-1.1 0-2 .9-2 2v14c0 1.1.9 2 2 2h14c1.1 0 2-.9 2-2V5c0-1.1-.9-2-2-2zM9 17H7v-7h2v7zm4 0h-2V7h2v10zm4 0h-2v-4h2v4z\"/>\n",
              "    </g>\n",
              "</svg>\n",
              "  </button>\n",
              "\n",
              "<style>\n",
              "  .colab-df-quickchart {\n",
              "      --bg-color: #E8F0FE;\n",
              "      --fill-color: #1967D2;\n",
              "      --hover-bg-color: #E2EBFA;\n",
              "      --hover-fill-color: #174EA6;\n",
              "      --disabled-fill-color: #AAA;\n",
              "      --disabled-bg-color: #DDD;\n",
              "  }\n",
              "\n",
              "  [theme=dark] .colab-df-quickchart {\n",
              "      --bg-color: #3B4455;\n",
              "      --fill-color: #D2E3FC;\n",
              "      --hover-bg-color: #434B5C;\n",
              "      --hover-fill-color: #FFFFFF;\n",
              "      --disabled-bg-color: #3B4455;\n",
              "      --disabled-fill-color: #666;\n",
              "  }\n",
              "\n",
              "  .colab-df-quickchart {\n",
              "    background-color: var(--bg-color);\n",
              "    border: none;\n",
              "    border-radius: 50%;\n",
              "    cursor: pointer;\n",
              "    display: none;\n",
              "    fill: var(--fill-color);\n",
              "    height: 32px;\n",
              "    padding: 0;\n",
              "    width: 32px;\n",
              "  }\n",
              "\n",
              "  .colab-df-quickchart:hover {\n",
              "    background-color: var(--hover-bg-color);\n",
              "    box-shadow: 0 1px 2px rgba(60, 64, 67, 0.3), 0 1px 3px 1px rgba(60, 64, 67, 0.15);\n",
              "    fill: var(--button-hover-fill-color);\n",
              "  }\n",
              "\n",
              "  .colab-df-quickchart-complete:disabled,\n",
              "  .colab-df-quickchart-complete:disabled:hover {\n",
              "    background-color: var(--disabled-bg-color);\n",
              "    fill: var(--disabled-fill-color);\n",
              "    box-shadow: none;\n",
              "  }\n",
              "\n",
              "  .colab-df-spinner {\n",
              "    border: 2px solid var(--fill-color);\n",
              "    border-color: transparent;\n",
              "    border-bottom-color: var(--fill-color);\n",
              "    animation:\n",
              "      spin 1s steps(1) infinite;\n",
              "  }\n",
              "\n",
              "  @keyframes spin {\n",
              "    0% {\n",
              "      border-color: transparent;\n",
              "      border-bottom-color: var(--fill-color);\n",
              "      border-left-color: var(--fill-color);\n",
              "    }\n",
              "    20% {\n",
              "      border-color: transparent;\n",
              "      border-left-color: var(--fill-color);\n",
              "      border-top-color: var(--fill-color);\n",
              "    }\n",
              "    30% {\n",
              "      border-color: transparent;\n",
              "      border-left-color: var(--fill-color);\n",
              "      border-top-color: var(--fill-color);\n",
              "      border-right-color: var(--fill-color);\n",
              "    }\n",
              "    40% {\n",
              "      border-color: transparent;\n",
              "      border-right-color: var(--fill-color);\n",
              "      border-top-color: var(--fill-color);\n",
              "    }\n",
              "    60% {\n",
              "      border-color: transparent;\n",
              "      border-right-color: var(--fill-color);\n",
              "    }\n",
              "    80% {\n",
              "      border-color: transparent;\n",
              "      border-right-color: var(--fill-color);\n",
              "      border-bottom-color: var(--fill-color);\n",
              "    }\n",
              "    90% {\n",
              "      border-color: transparent;\n",
              "      border-bottom-color: var(--fill-color);\n",
              "    }\n",
              "  }\n",
              "</style>\n",
              "\n",
              "  <script>\n",
              "    async function quickchart(key) {\n",
              "      const quickchartButtonEl =\n",
              "        document.querySelector('#' + key + ' button');\n",
              "      quickchartButtonEl.disabled = true;  // To prevent multiple clicks.\n",
              "      quickchartButtonEl.classList.add('colab-df-spinner');\n",
              "      try {\n",
              "        const charts = await google.colab.kernel.invokeFunction(\n",
              "            'suggestCharts', [key], {});\n",
              "      } catch (error) {\n",
              "        console.error('Error during call to suggestCharts:', error);\n",
              "      }\n",
              "      quickchartButtonEl.classList.remove('colab-df-spinner');\n",
              "      quickchartButtonEl.classList.add('colab-df-quickchart-complete');\n",
              "    }\n",
              "    (() => {\n",
              "      let quickchartButtonEl =\n",
              "        document.querySelector('#df-ddf79fda-5a8c-44ce-b8e6-a7e57e477c8b button');\n",
              "      quickchartButtonEl.style.display =\n",
              "        google.colab.kernel.accessAllowed ? 'block' : 'none';\n",
              "    })();\n",
              "  </script>\n",
              "</div>\n",
              "    </div>\n",
              "  </div>\n"
            ]
          },
          "metadata": {},
          "execution_count": 63
        }
      ]
    },
    {
      "cell_type": "code",
      "source": [
        "campaign_df.shape"
      ],
      "metadata": {
        "colab": {
          "base_uri": "https://localhost:8080/"
        },
        "id": "TBQg4Fm57Erp",
        "outputId": "d5e74e42-5571-423b-fdee-b3ee3a102fb7"
      },
      "execution_count": null,
      "outputs": [
        {
          "output_type": "execute_result",
          "data": {
            "text/plain": [
              "(1578, 47)"
            ]
          },
          "metadata": {},
          "execution_count": 64
        }
      ]
    },
    {
      "cell_type": "code",
      "source": [
        "campaign_df.columns"
      ],
      "metadata": {
        "colab": {
          "base_uri": "https://localhost:8080/"
        },
        "id": "0nJtXJfm7L39",
        "outputId": "eeeae45c-aee8-4835-ae1e-af038d725eee"
      },
      "execution_count": null,
      "outputs": [
        {
          "output_type": "execute_result",
          "data": {
            "text/plain": [
              "Index(['CampaignKey', 'ID', 'StartDate', 'EndDate', 'Active', 'Preview',\n",
              "       'Name', 'Sequence', 'BusinessStartDate', 'BusinessEndDate',\n",
              "       'PromotionName', 'ProductAreaName', 'SupplierID', 'Exclusive',\n",
              "       'PriceComment', 'OtherIncentive1mthTCOTotal',\n",
              "       'OtherIncentive6mthTCOTotal', 'OtherIncentive12mthTCOTotal',\n",
              "       'OtherIncentiveOneOffTotal', 'FixedIncentive1mthTCOTotal',\n",
              "       'FixedIncentive6mthTCOTotal', 'FixedIncentive12mthTCOTotal',\n",
              "       'FixedIncentiveOneOffTotal', 'PercentageIncentive1mthTCOTotal',\n",
              "       'PercentageIncentive6mthTCOTotal', 'PercentageIncentive12mthTCOTotal',\n",
              "       'PercentageIncentiveOneOffTotal', 'TabletIncentive1mthTCOTotal',\n",
              "       'TabletIncentive6mthTCOTotal', 'TabletIncentive12mthTCOTotal',\n",
              "       'TabletIncentiveOneOffTotal', 'PhoneIncentive1mthTCOTotal',\n",
              "       'PhoneIncentive6mthTCOTotal', 'PhoneIncentive12mthTCOTotal',\n",
              "       'PhoneIncentiveOneOffTotal', 'ExtraIncentive1mthTCOTotal',\n",
              "       'ExtraIncentive6mthTCOTotal', 'ExtraIncentive12mthTCOTotal',\n",
              "       'ExtraIncentiveOneOffTotal', 'PhonePcntIncentive1mthTCOTotal',\n",
              "       'PhonePcntIncentive6mthTCOTotal', 'PhonePcntIncentive12mthTCOTotal',\n",
              "       'PhonePcntIncentiveOneOffTotal', 'TabletPcntIncentive1mthTCOTotal',\n",
              "       'TabletPcntIncentive6mthTCOTotal', 'TabletPcntIncentive12mthTCOTotal',\n",
              "       'TabletPcntIncentiveOneOffTotal'],\n",
              "      dtype='object')"
            ]
          },
          "metadata": {},
          "execution_count": 65
        }
      ]
    },
    {
      "cell_type": "code",
      "source": [
        "campaign_df = campaign_df.drop_duplicates()"
      ],
      "metadata": {
        "id": "v4ZD2G2D_pgv"
      },
      "execution_count": null,
      "outputs": []
    },
    {
      "cell_type": "code",
      "source": [
        "campaign_df['EndDate'] = pd.to_datetime(campaign_df['EndDate'])\n",
        "\n",
        "campaign_df = campaign_df[campaign_df['EndDate']>='2022-12-01']"
      ],
      "metadata": {
        "id": "P84O6E5h7lbq"
      },
      "execution_count": null,
      "outputs": []
    },
    {
      "cell_type": "code",
      "source": [
        "campaign_df.shape"
      ],
      "metadata": {
        "colab": {
          "base_uri": "https://localhost:8080/"
        },
        "id": "9nPxkt18953J",
        "outputId": "781eaf05-9b3f-4b0e-f6bb-291b4516ffd9"
      },
      "execution_count": null,
      "outputs": [
        {
          "output_type": "execute_result",
          "data": {
            "text/plain": [
              "(1438, 47)"
            ]
          },
          "metadata": {},
          "execution_count": 68
        }
      ]
    },
    {
      "cell_type": "code",
      "source": [
        "campaign_df['BusinessEndDate'] = pd.to_datetime(campaign_df['BusinessEndDate'])\n",
        "\n",
        "campaign_df = campaign_df[campaign_df['BusinessEndDate']>='2022-12-01']"
      ],
      "metadata": {
        "id": "YJBjn3Ev9unP"
      },
      "execution_count": null,
      "outputs": []
    },
    {
      "cell_type": "code",
      "source": [
        "campaign_df.shape"
      ],
      "metadata": {
        "colab": {
          "base_uri": "https://localhost:8080/"
        },
        "id": "N34pnoaq9tda",
        "outputId": "3daf9e91-07fc-46f6-8095-f2824800ad8d"
      },
      "execution_count": null,
      "outputs": [
        {
          "output_type": "execute_result",
          "data": {
            "text/plain": [
              "(1316, 47)"
            ]
          },
          "metadata": {},
          "execution_count": 70
        }
      ]
    },
    {
      "cell_type": "code",
      "source": [
        "campaign_df = campaign_df[campaign_df['ProductAreaName'] == 'Mobile Phones']"
      ],
      "metadata": {
        "id": "vgcgrm9F7r5D"
      },
      "execution_count": null,
      "outputs": []
    },
    {
      "cell_type": "code",
      "source": [
        "campaign_df.shape"
      ],
      "metadata": {
        "colab": {
          "base_uri": "https://localhost:8080/"
        },
        "id": "3LWDjm-B7wAx",
        "outputId": "acbe7acb-f506-448a-87ed-4b95a8510629"
      },
      "execution_count": null,
      "outputs": [
        {
          "output_type": "execute_result",
          "data": {
            "text/plain": [
              "(860, 47)"
            ]
          },
          "metadata": {},
          "execution_count": 72
        }
      ]
    },
    {
      "cell_type": "code",
      "source": [
        "# Define the substrings to search for in column names\n",
        "substrings_to_search = ['key', 'comment', 'id', 'tablet']\n",
        "\n",
        "# Get the column names that contain those word\n",
        "matching_columns = [col for col in campaign_df.columns if any(sub in col.lower() for sub in substrings_to_search)]\n",
        "\n",
        "# Print the matching column names\n",
        "print(\"Columns containing 'key,' 'comment,', 'id' or 'tablet in their names:\")\n",
        "for col in matching_columns:\n",
        "    print(col)"
      ],
      "metadata": {
        "colab": {
          "base_uri": "https://localhost:8080/"
        },
        "id": "7NvfE-Fg7hbD",
        "outputId": "3964c325-ce1c-47ab-e2f8-56c19eb830b2"
      },
      "execution_count": null,
      "outputs": [
        {
          "output_type": "stream",
          "name": "stdout",
          "text": [
            "Columns containing 'key,' 'comment,', 'id' or 'tablet in their names:\n",
            "CampaignKey\n",
            "ID\n",
            "SupplierID\n",
            "PriceComment\n",
            "TabletIncentive1mthTCOTotal\n",
            "TabletIncentive6mthTCOTotal\n",
            "TabletIncentive12mthTCOTotal\n",
            "TabletIncentiveOneOffTotal\n",
            "TabletPcntIncentive1mthTCOTotal\n",
            "TabletPcntIncentive6mthTCOTotal\n",
            "TabletPcntIncentive12mthTCOTotal\n",
            "TabletPcntIncentiveOneOffTotal\n"
          ]
        }
      ]
    },
    {
      "cell_type": "code",
      "source": [
        "'''\n",
        "CampaignKey = unique key for the campaign type\n",
        "ID = unique identifier of an individual campaign\n",
        "'''\n",
        "columns_to_drop = [\n",
        "    'ProductAreaName',\n",
        "    'PriceComment',\n",
        "    'TabletPcntIncentive1mthTCOTotal',\n",
        "    'TabletPcntIncentive6mthTCOTotal',\n",
        "    'TabletPcntIncentive12mthTCOTotal',\n",
        "    'TabletPcntIncentiveOneOffTotal',\n",
        "    'TabletIncentive1mthTCOTotal',\n",
        "    'TabletIncentive6mthTCOTotal',\n",
        "    'TabletIncentive12mthTCOTotal',\n",
        "    'TabletIncentiveOneOffTotal'\n",
        "\n",
        "]\n",
        "# Drop the specified columns\n",
        "campaign_df = campaign_df.drop(columns=columns_to_drop)"
      ],
      "metadata": {
        "id": "U0LxUnt072y8"
      },
      "execution_count": null,
      "outputs": []
    },
    {
      "cell_type": "code",
      "source": [
        "campaign_df.rename(columns={'ID':'campaign_indv_ID'}, inplace=True)"
      ],
      "metadata": {
        "id": "f3ODaR5zAyLB"
      },
      "execution_count": null,
      "outputs": []
    },
    {
      "cell_type": "code",
      "source": [
        "constant_columns = []\n",
        "\n",
        "for column in campaign_df.columns:\n",
        "    if campaign_df[column].nunique() == 1:\n",
        "        constant_columns.append(column)\n",
        "\n",
        "# Print the constant columns\n",
        "print(\"Constant Columns:\")\n",
        "print(constant_columns)"
      ],
      "metadata": {
        "colab": {
          "base_uri": "https://localhost:8080/"
        },
        "id": "fqWqPIAt8qxy",
        "outputId": "fb04cde2-e13d-4692-9282-4f88ba6089bc"
      },
      "execution_count": null,
      "outputs": [
        {
          "output_type": "stream",
          "name": "stdout",
          "text": [
            "Constant Columns:\n",
            "['PhoneIncentiveOneOffTotal', 'PhonePcntIncentive1mthTCOTotal', 'PhonePcntIncentive6mthTCOTotal', 'PhonePcntIncentive12mthTCOTotal', 'PhonePcntIncentiveOneOffTotal']\n"
          ]
        }
      ]
    },
    {
      "cell_type": "code",
      "source": [
        "columns_to_drop = [\n",
        "    'PhoneIncentiveOneOffTotal',\n",
        "    'PhonePcntIncentive1mthTCOTotal',\n",
        "    'PhonePcntIncentive6mthTCOTotal',\n",
        "    'PhonePcntIncentive12mthTCOTotal',\n",
        "    'PhonePcntIncentiveOneOffTotal'\n",
        "]\n",
        "# Drop the specified columns\n",
        "campaign_df = campaign_df.drop(columns=columns_to_drop)"
      ],
      "metadata": {
        "id": "GuGxELSj8u77"
      },
      "execution_count": null,
      "outputs": []
    },
    {
      "cell_type": "code",
      "source": [
        "campaign_df.shape"
      ],
      "metadata": {
        "colab": {
          "base_uri": "https://localhost:8080/"
        },
        "id": "6Gsn3YMA83-G",
        "outputId": "e9f7021c-844e-4382-922f-e062b508bc77"
      },
      "execution_count": null,
      "outputs": [
        {
          "output_type": "execute_result",
          "data": {
            "text/plain": [
              "(860, 32)"
            ]
          },
          "metadata": {},
          "execution_count": 78
        }
      ]
    },
    {
      "cell_type": "code",
      "source": [
        "campaign_df.columns"
      ],
      "metadata": {
        "colab": {
          "base_uri": "https://localhost:8080/"
        },
        "id": "skj_EmUt88ZC",
        "outputId": "85967e30-501e-44ee-e99a-39b95a9ff2e8"
      },
      "execution_count": null,
      "outputs": [
        {
          "output_type": "execute_result",
          "data": {
            "text/plain": [
              "Index(['CampaignKey', 'campaign_indv_ID', 'StartDate', 'EndDate', 'Active',\n",
              "       'Preview', 'Name', 'Sequence', 'BusinessStartDate', 'BusinessEndDate',\n",
              "       'PromotionName', 'SupplierID', 'Exclusive',\n",
              "       'OtherIncentive1mthTCOTotal', 'OtherIncentive6mthTCOTotal',\n",
              "       'OtherIncentive12mthTCOTotal', 'OtherIncentiveOneOffTotal',\n",
              "       'FixedIncentive1mthTCOTotal', 'FixedIncentive6mthTCOTotal',\n",
              "       'FixedIncentive12mthTCOTotal', 'FixedIncentiveOneOffTotal',\n",
              "       'PercentageIncentive1mthTCOTotal', 'PercentageIncentive6mthTCOTotal',\n",
              "       'PercentageIncentive12mthTCOTotal', 'PercentageIncentiveOneOffTotal',\n",
              "       'PhoneIncentive1mthTCOTotal', 'PhoneIncentive6mthTCOTotal',\n",
              "       'PhoneIncentive12mthTCOTotal', 'ExtraIncentive1mthTCOTotal',\n",
              "       'ExtraIncentive6mthTCOTotal', 'ExtraIncentive12mthTCOTotal',\n",
              "       'ExtraIncentiveOneOffTotal'],\n",
              "      dtype='object')"
            ]
          },
          "metadata": {},
          "execution_count": 79
        }
      ]
    },
    {
      "cell_type": "code",
      "source": [
        "campaign_df['CampaignKey'].nunique()"
      ],
      "metadata": {
        "colab": {
          "base_uri": "https://localhost:8080/"
        },
        "id": "iXsdqtjwQgxN",
        "outputId": "68b24bcd-07e7-4a79-8d21-72ac1ff9d692"
      },
      "execution_count": null,
      "outputs": [
        {
          "output_type": "execute_result",
          "data": {
            "text/plain": [
              "860"
            ]
          },
          "metadata": {},
          "execution_count": 80
        }
      ]
    },
    {
      "cell_type": "markdown",
      "source": [
        "# DimUTSSupplier Table"
      ],
      "metadata": {
        "id": "268_c96b-Rx-"
      }
    },
    {
      "cell_type": "code",
      "source": [
        "supplier_df= pd.read_csv(\"/content/drive/Shareddrives/protik/iLab/Dataset/data/DimUTSSupplier.csv\")"
      ],
      "metadata": {
        "id": "WGCj4QaR-RKW"
      },
      "execution_count": null,
      "outputs": []
    },
    {
      "cell_type": "code",
      "source": [
        "supplier_df.head()"
      ],
      "metadata": {
        "colab": {
          "base_uri": "https://localhost:8080/",
          "height": 310
        },
        "id": "rdPatSVI-Sdb",
        "outputId": "57f10a8f-221d-4b02-a9b6-8e47630fefb6"
      },
      "execution_count": null,
      "outputs": [
        {
          "output_type": "execute_result",
          "data": {
            "text/plain": [
              "   SupplierKey   ID                    StartDate                      EndDate  \\\n",
              "0         3786  377  2023-02-22 00:00:00.0000000  2023-02-28 00:00:00.0000000   \n",
              "1         3486  561  2023-02-22 00:00:00.0000000  2023-02-28 00:00:00.0000000   \n",
              "2         1174  279  2022-10-10 00:00:00.0000000  2023-02-28 00:00:00.0000000   \n",
              "3         1003  454  2022-10-06 00:00:00.0000000  2023-02-22 00:00:00.0000000   \n",
              "4         1183  495  2022-10-11 00:00:00.0000000  2023-02-28 00:00:00.0000000   \n",
              "\n",
              "           Name  Active                                   ShortDescription  \\\n",
              "0        Exetel       1  This telco launched in 2004 with a mission to ...   \n",
              "1  Moose Mobile       1  Moose is a low cost Australian service provide...   \n",
              "2       iPrimus       1  Offering mobile & broadband services since 199...   \n",
              "3       SpinTel       1   Started in 1996 they are an innovative and Mu...   \n",
              "4   ALDI mobile       1  Owned by the global retail chain, Aldi mobile ...   \n",
              "\n",
              "                                          AwardsName  \n",
              "0  Best Internet Promotion 2021, Best Home Wirele...  \n",
              "1  Best SIM Only Provider Value Plans 2022, Best ...  \n",
              "2                                                NaN  \n",
              "3  Best Home Wireless Provider 2021, Best Home Wi...  \n",
              "4             Best Prepaid Provider Value Plans 2020  "
            ],
            "text/html": [
              "\n",
              "  <div id=\"df-82424eb2-5db1-45eb-b663-215335699ba1\" class=\"colab-df-container\">\n",
              "    <div>\n",
              "<style scoped>\n",
              "    .dataframe tbody tr th:only-of-type {\n",
              "        vertical-align: middle;\n",
              "    }\n",
              "\n",
              "    .dataframe tbody tr th {\n",
              "        vertical-align: top;\n",
              "    }\n",
              "\n",
              "    .dataframe thead th {\n",
              "        text-align: right;\n",
              "    }\n",
              "</style>\n",
              "<table border=\"1\" class=\"dataframe\">\n",
              "  <thead>\n",
              "    <tr style=\"text-align: right;\">\n",
              "      <th></th>\n",
              "      <th>SupplierKey</th>\n",
              "      <th>ID</th>\n",
              "      <th>StartDate</th>\n",
              "      <th>EndDate</th>\n",
              "      <th>Name</th>\n",
              "      <th>Active</th>\n",
              "      <th>ShortDescription</th>\n",
              "      <th>AwardsName</th>\n",
              "    </tr>\n",
              "  </thead>\n",
              "  <tbody>\n",
              "    <tr>\n",
              "      <th>0</th>\n",
              "      <td>3786</td>\n",
              "      <td>377</td>\n",
              "      <td>2023-02-22 00:00:00.0000000</td>\n",
              "      <td>2023-02-28 00:00:00.0000000</td>\n",
              "      <td>Exetel</td>\n",
              "      <td>1</td>\n",
              "      <td>This telco launched in 2004 with a mission to ...</td>\n",
              "      <td>Best Internet Promotion 2021, Best Home Wirele...</td>\n",
              "    </tr>\n",
              "    <tr>\n",
              "      <th>1</th>\n",
              "      <td>3486</td>\n",
              "      <td>561</td>\n",
              "      <td>2023-02-22 00:00:00.0000000</td>\n",
              "      <td>2023-02-28 00:00:00.0000000</td>\n",
              "      <td>Moose Mobile</td>\n",
              "      <td>1</td>\n",
              "      <td>Moose is a low cost Australian service provide...</td>\n",
              "      <td>Best SIM Only Provider Value Plans 2022, Best ...</td>\n",
              "    </tr>\n",
              "    <tr>\n",
              "      <th>2</th>\n",
              "      <td>1174</td>\n",
              "      <td>279</td>\n",
              "      <td>2022-10-10 00:00:00.0000000</td>\n",
              "      <td>2023-02-28 00:00:00.0000000</td>\n",
              "      <td>iPrimus</td>\n",
              "      <td>1</td>\n",
              "      <td>Offering mobile &amp; broadband services since 199...</td>\n",
              "      <td>NaN</td>\n",
              "    </tr>\n",
              "    <tr>\n",
              "      <th>3</th>\n",
              "      <td>1003</td>\n",
              "      <td>454</td>\n",
              "      <td>2022-10-06 00:00:00.0000000</td>\n",
              "      <td>2023-02-22 00:00:00.0000000</td>\n",
              "      <td>SpinTel</td>\n",
              "      <td>1</td>\n",
              "      <td>Started in 1996 they are an innovative and Mu...</td>\n",
              "      <td>Best Home Wireless Provider 2021, Best Home Wi...</td>\n",
              "    </tr>\n",
              "    <tr>\n",
              "      <th>4</th>\n",
              "      <td>1183</td>\n",
              "      <td>495</td>\n",
              "      <td>2022-10-11 00:00:00.0000000</td>\n",
              "      <td>2023-02-28 00:00:00.0000000</td>\n",
              "      <td>ALDI mobile</td>\n",
              "      <td>1</td>\n",
              "      <td>Owned by the global retail chain, Aldi mobile ...</td>\n",
              "      <td>Best Prepaid Provider Value Plans 2020</td>\n",
              "    </tr>\n",
              "  </tbody>\n",
              "</table>\n",
              "</div>\n",
              "    <div class=\"colab-df-buttons\">\n",
              "\n",
              "  <div class=\"colab-df-container\">\n",
              "    <button class=\"colab-df-convert\" onclick=\"convertToInteractive('df-82424eb2-5db1-45eb-b663-215335699ba1')\"\n",
              "            title=\"Convert this dataframe to an interactive table.\"\n",
              "            style=\"display:none;\">\n",
              "\n",
              "  <svg xmlns=\"http://www.w3.org/2000/svg\" height=\"24px\" viewBox=\"0 -960 960 960\">\n",
              "    <path d=\"M120-120v-720h720v720H120Zm60-500h600v-160H180v160Zm220 220h160v-160H400v160Zm0 220h160v-160H400v160ZM180-400h160v-160H180v160Zm440 0h160v-160H620v160ZM180-180h160v-160H180v160Zm440 0h160v-160H620v160Z\"/>\n",
              "  </svg>\n",
              "    </button>\n",
              "\n",
              "  <style>\n",
              "    .colab-df-container {\n",
              "      display:flex;\n",
              "      gap: 12px;\n",
              "    }\n",
              "\n",
              "    .colab-df-convert {\n",
              "      background-color: #E8F0FE;\n",
              "      border: none;\n",
              "      border-radius: 50%;\n",
              "      cursor: pointer;\n",
              "      display: none;\n",
              "      fill: #1967D2;\n",
              "      height: 32px;\n",
              "      padding: 0 0 0 0;\n",
              "      width: 32px;\n",
              "    }\n",
              "\n",
              "    .colab-df-convert:hover {\n",
              "      background-color: #E2EBFA;\n",
              "      box-shadow: 0px 1px 2px rgba(60, 64, 67, 0.3), 0px 1px 3px 1px rgba(60, 64, 67, 0.15);\n",
              "      fill: #174EA6;\n",
              "    }\n",
              "\n",
              "    .colab-df-buttons div {\n",
              "      margin-bottom: 4px;\n",
              "    }\n",
              "\n",
              "    [theme=dark] .colab-df-convert {\n",
              "      background-color: #3B4455;\n",
              "      fill: #D2E3FC;\n",
              "    }\n",
              "\n",
              "    [theme=dark] .colab-df-convert:hover {\n",
              "      background-color: #434B5C;\n",
              "      box-shadow: 0px 1px 3px 1px rgba(0, 0, 0, 0.15);\n",
              "      filter: drop-shadow(0px 1px 2px rgba(0, 0, 0, 0.3));\n",
              "      fill: #FFFFFF;\n",
              "    }\n",
              "  </style>\n",
              "\n",
              "    <script>\n",
              "      const buttonEl =\n",
              "        document.querySelector('#df-82424eb2-5db1-45eb-b663-215335699ba1 button.colab-df-convert');\n",
              "      buttonEl.style.display =\n",
              "        google.colab.kernel.accessAllowed ? 'block' : 'none';\n",
              "\n",
              "      async function convertToInteractive(key) {\n",
              "        const element = document.querySelector('#df-82424eb2-5db1-45eb-b663-215335699ba1');\n",
              "        const dataTable =\n",
              "          await google.colab.kernel.invokeFunction('convertToInteractive',\n",
              "                                                    [key], {});\n",
              "        if (!dataTable) return;\n",
              "\n",
              "        const docLinkHtml = 'Like what you see? Visit the ' +\n",
              "          '<a target=\"_blank\" href=https://colab.research.google.com/notebooks/data_table.ipynb>data table notebook</a>'\n",
              "          + ' to learn more about interactive tables.';\n",
              "        element.innerHTML = '';\n",
              "        dataTable['output_type'] = 'display_data';\n",
              "        await google.colab.output.renderOutput(dataTable, element);\n",
              "        const docLink = document.createElement('div');\n",
              "        docLink.innerHTML = docLinkHtml;\n",
              "        element.appendChild(docLink);\n",
              "      }\n",
              "    </script>\n",
              "  </div>\n",
              "\n",
              "\n",
              "<div id=\"df-50cefec2-12bf-4de0-82e4-1b2dc02af573\">\n",
              "  <button class=\"colab-df-quickchart\" onclick=\"quickchart('df-50cefec2-12bf-4de0-82e4-1b2dc02af573')\"\n",
              "            title=\"Suggest charts.\"\n",
              "            style=\"display:none;\">\n",
              "\n",
              "<svg xmlns=\"http://www.w3.org/2000/svg\" height=\"24px\"viewBox=\"0 0 24 24\"\n",
              "     width=\"24px\">\n",
              "    <g>\n",
              "        <path d=\"M19 3H5c-1.1 0-2 .9-2 2v14c0 1.1.9 2 2 2h14c1.1 0 2-.9 2-2V5c0-1.1-.9-2-2-2zM9 17H7v-7h2v7zm4 0h-2V7h2v10zm4 0h-2v-4h2v4z\"/>\n",
              "    </g>\n",
              "</svg>\n",
              "  </button>\n",
              "\n",
              "<style>\n",
              "  .colab-df-quickchart {\n",
              "      --bg-color: #E8F0FE;\n",
              "      --fill-color: #1967D2;\n",
              "      --hover-bg-color: #E2EBFA;\n",
              "      --hover-fill-color: #174EA6;\n",
              "      --disabled-fill-color: #AAA;\n",
              "      --disabled-bg-color: #DDD;\n",
              "  }\n",
              "\n",
              "  [theme=dark] .colab-df-quickchart {\n",
              "      --bg-color: #3B4455;\n",
              "      --fill-color: #D2E3FC;\n",
              "      --hover-bg-color: #434B5C;\n",
              "      --hover-fill-color: #FFFFFF;\n",
              "      --disabled-bg-color: #3B4455;\n",
              "      --disabled-fill-color: #666;\n",
              "  }\n",
              "\n",
              "  .colab-df-quickchart {\n",
              "    background-color: var(--bg-color);\n",
              "    border: none;\n",
              "    border-radius: 50%;\n",
              "    cursor: pointer;\n",
              "    display: none;\n",
              "    fill: var(--fill-color);\n",
              "    height: 32px;\n",
              "    padding: 0;\n",
              "    width: 32px;\n",
              "  }\n",
              "\n",
              "  .colab-df-quickchart:hover {\n",
              "    background-color: var(--hover-bg-color);\n",
              "    box-shadow: 0 1px 2px rgba(60, 64, 67, 0.3), 0 1px 3px 1px rgba(60, 64, 67, 0.15);\n",
              "    fill: var(--button-hover-fill-color);\n",
              "  }\n",
              "\n",
              "  .colab-df-quickchart-complete:disabled,\n",
              "  .colab-df-quickchart-complete:disabled:hover {\n",
              "    background-color: var(--disabled-bg-color);\n",
              "    fill: var(--disabled-fill-color);\n",
              "    box-shadow: none;\n",
              "  }\n",
              "\n",
              "  .colab-df-spinner {\n",
              "    border: 2px solid var(--fill-color);\n",
              "    border-color: transparent;\n",
              "    border-bottom-color: var(--fill-color);\n",
              "    animation:\n",
              "      spin 1s steps(1) infinite;\n",
              "  }\n",
              "\n",
              "  @keyframes spin {\n",
              "    0% {\n",
              "      border-color: transparent;\n",
              "      border-bottom-color: var(--fill-color);\n",
              "      border-left-color: var(--fill-color);\n",
              "    }\n",
              "    20% {\n",
              "      border-color: transparent;\n",
              "      border-left-color: var(--fill-color);\n",
              "      border-top-color: var(--fill-color);\n",
              "    }\n",
              "    30% {\n",
              "      border-color: transparent;\n",
              "      border-left-color: var(--fill-color);\n",
              "      border-top-color: var(--fill-color);\n",
              "      border-right-color: var(--fill-color);\n",
              "    }\n",
              "    40% {\n",
              "      border-color: transparent;\n",
              "      border-right-color: var(--fill-color);\n",
              "      border-top-color: var(--fill-color);\n",
              "    }\n",
              "    60% {\n",
              "      border-color: transparent;\n",
              "      border-right-color: var(--fill-color);\n",
              "    }\n",
              "    80% {\n",
              "      border-color: transparent;\n",
              "      border-right-color: var(--fill-color);\n",
              "      border-bottom-color: var(--fill-color);\n",
              "    }\n",
              "    90% {\n",
              "      border-color: transparent;\n",
              "      border-bottom-color: var(--fill-color);\n",
              "    }\n",
              "  }\n",
              "</style>\n",
              "\n",
              "  <script>\n",
              "    async function quickchart(key) {\n",
              "      const quickchartButtonEl =\n",
              "        document.querySelector('#' + key + ' button');\n",
              "      quickchartButtonEl.disabled = true;  // To prevent multiple clicks.\n",
              "      quickchartButtonEl.classList.add('colab-df-spinner');\n",
              "      try {\n",
              "        const charts = await google.colab.kernel.invokeFunction(\n",
              "            'suggestCharts', [key], {});\n",
              "      } catch (error) {\n",
              "        console.error('Error during call to suggestCharts:', error);\n",
              "      }\n",
              "      quickchartButtonEl.classList.remove('colab-df-spinner');\n",
              "      quickchartButtonEl.classList.add('colab-df-quickchart-complete');\n",
              "    }\n",
              "    (() => {\n",
              "      let quickchartButtonEl =\n",
              "        document.querySelector('#df-50cefec2-12bf-4de0-82e4-1b2dc02af573 button');\n",
              "      quickchartButtonEl.style.display =\n",
              "        google.colab.kernel.accessAllowed ? 'block' : 'none';\n",
              "    })();\n",
              "  </script>\n",
              "</div>\n",
              "    </div>\n",
              "  </div>\n"
            ]
          },
          "metadata": {},
          "execution_count": 82
        }
      ]
    },
    {
      "cell_type": "code",
      "source": [
        "supplier_df.shape"
      ],
      "metadata": {
        "colab": {
          "base_uri": "https://localhost:8080/"
        },
        "id": "k00LVxF_-a8u",
        "outputId": "13959b64-308c-48f3-fa07-d94cc82c5c53"
      },
      "execution_count": null,
      "outputs": [
        {
          "output_type": "execute_result",
          "data": {
            "text/plain": [
              "(67, 8)"
            ]
          },
          "metadata": {},
          "execution_count": 83
        }
      ]
    },
    {
      "cell_type": "code",
      "source": [
        "supplier_df.columns"
      ],
      "metadata": {
        "colab": {
          "base_uri": "https://localhost:8080/"
        },
        "id": "qeDv33Yy-dC_",
        "outputId": "6a82112c-0557-49ff-d52a-92c3378acddf"
      },
      "execution_count": null,
      "outputs": [
        {
          "output_type": "execute_result",
          "data": {
            "text/plain": [
              "Index(['SupplierKey', 'ID', 'StartDate', 'EndDate', 'Name', 'Active',\n",
              "       'ShortDescription', 'AwardsName'],\n",
              "      dtype='object')"
            ]
          },
          "metadata": {},
          "execution_count": 84
        }
      ]
    },
    {
      "cell_type": "code",
      "source": [
        "supplier_df['EndDate'] = pd.to_datetime(supplier_df['EndDate'])\n",
        "\n",
        "supplier_df = supplier_df[supplier_df['EndDate']>='2022-12-01']"
      ],
      "metadata": {
        "id": "SH_jp9lI-nGc"
      },
      "execution_count": null,
      "outputs": []
    },
    {
      "cell_type": "code",
      "source": [
        "supplier_df.shape"
      ],
      "metadata": {
        "colab": {
          "base_uri": "https://localhost:8080/"
        },
        "id": "dYHhOKnB-rYn",
        "outputId": "7b932aab-f495-4e9a-ed12-6343862fd55f"
      },
      "execution_count": null,
      "outputs": [
        {
          "output_type": "execute_result",
          "data": {
            "text/plain": [
              "(66, 8)"
            ]
          },
          "metadata": {},
          "execution_count": 86
        }
      ]
    },
    {
      "cell_type": "code",
      "source": [
        "# Calculate the total number of missing values per column\n",
        "missing_values = supplier_df.isnull().sum()\n",
        "\n",
        "# Calculate the percentage of missing values per column\n",
        "percentage_missing = (missing_values / len(supplier_df)) * 100\n",
        "\n",
        "# Create a DataFrame to display the results\n",
        "missing_data_info = pd.DataFrame({\n",
        "    'Column Name': missing_values.index,\n",
        "    'Total Missing Values': missing_values.values,\n",
        "    'Percentage Missing': percentage_missing.values\n",
        "})\n",
        "\n",
        "# Sort the DataFrame by percentage of missing values (descending)\n",
        "missing_data_info = missing_data_info.sort_values(by='Percentage Missing', ascending=False)\n",
        "\n",
        "# Print the missing data information\n",
        "missing_data_info"
      ],
      "metadata": {
        "colab": {
          "base_uri": "https://localhost:8080/",
          "height": 300
        },
        "id": "dZ5U-d5r-0t-",
        "outputId": "d043aba0-aa38-46c3-94fc-3626d70a7032"
      },
      "execution_count": null,
      "outputs": [
        {
          "output_type": "execute_result",
          "data": {
            "text/plain": [
              "        Column Name  Total Missing Values  Percentage Missing\n",
              "7        AwardsName                    31           46.969697\n",
              "6  ShortDescription                     8           12.121212\n",
              "4              Name                     1            1.515152\n",
              "0       SupplierKey                     0            0.000000\n",
              "1                ID                     0            0.000000\n",
              "2         StartDate                     0            0.000000\n",
              "3           EndDate                     0            0.000000\n",
              "5            Active                     0            0.000000"
            ],
            "text/html": [
              "\n",
              "  <div id=\"df-78901f65-3e89-4e49-988b-d21a6705e898\" class=\"colab-df-container\">\n",
              "    <div>\n",
              "<style scoped>\n",
              "    .dataframe tbody tr th:only-of-type {\n",
              "        vertical-align: middle;\n",
              "    }\n",
              "\n",
              "    .dataframe tbody tr th {\n",
              "        vertical-align: top;\n",
              "    }\n",
              "\n",
              "    .dataframe thead th {\n",
              "        text-align: right;\n",
              "    }\n",
              "</style>\n",
              "<table border=\"1\" class=\"dataframe\">\n",
              "  <thead>\n",
              "    <tr style=\"text-align: right;\">\n",
              "      <th></th>\n",
              "      <th>Column Name</th>\n",
              "      <th>Total Missing Values</th>\n",
              "      <th>Percentage Missing</th>\n",
              "    </tr>\n",
              "  </thead>\n",
              "  <tbody>\n",
              "    <tr>\n",
              "      <th>7</th>\n",
              "      <td>AwardsName</td>\n",
              "      <td>31</td>\n",
              "      <td>46.969697</td>\n",
              "    </tr>\n",
              "    <tr>\n",
              "      <th>6</th>\n",
              "      <td>ShortDescription</td>\n",
              "      <td>8</td>\n",
              "      <td>12.121212</td>\n",
              "    </tr>\n",
              "    <tr>\n",
              "      <th>4</th>\n",
              "      <td>Name</td>\n",
              "      <td>1</td>\n",
              "      <td>1.515152</td>\n",
              "    </tr>\n",
              "    <tr>\n",
              "      <th>0</th>\n",
              "      <td>SupplierKey</td>\n",
              "      <td>0</td>\n",
              "      <td>0.000000</td>\n",
              "    </tr>\n",
              "    <tr>\n",
              "      <th>1</th>\n",
              "      <td>ID</td>\n",
              "      <td>0</td>\n",
              "      <td>0.000000</td>\n",
              "    </tr>\n",
              "    <tr>\n",
              "      <th>2</th>\n",
              "      <td>StartDate</td>\n",
              "      <td>0</td>\n",
              "      <td>0.000000</td>\n",
              "    </tr>\n",
              "    <tr>\n",
              "      <th>3</th>\n",
              "      <td>EndDate</td>\n",
              "      <td>0</td>\n",
              "      <td>0.000000</td>\n",
              "    </tr>\n",
              "    <tr>\n",
              "      <th>5</th>\n",
              "      <td>Active</td>\n",
              "      <td>0</td>\n",
              "      <td>0.000000</td>\n",
              "    </tr>\n",
              "  </tbody>\n",
              "</table>\n",
              "</div>\n",
              "    <div class=\"colab-df-buttons\">\n",
              "\n",
              "  <div class=\"colab-df-container\">\n",
              "    <button class=\"colab-df-convert\" onclick=\"convertToInteractive('df-78901f65-3e89-4e49-988b-d21a6705e898')\"\n",
              "            title=\"Convert this dataframe to an interactive table.\"\n",
              "            style=\"display:none;\">\n",
              "\n",
              "  <svg xmlns=\"http://www.w3.org/2000/svg\" height=\"24px\" viewBox=\"0 -960 960 960\">\n",
              "    <path d=\"M120-120v-720h720v720H120Zm60-500h600v-160H180v160Zm220 220h160v-160H400v160Zm0 220h160v-160H400v160ZM180-400h160v-160H180v160Zm440 0h160v-160H620v160ZM180-180h160v-160H180v160Zm440 0h160v-160H620v160Z\"/>\n",
              "  </svg>\n",
              "    </button>\n",
              "\n",
              "  <style>\n",
              "    .colab-df-container {\n",
              "      display:flex;\n",
              "      gap: 12px;\n",
              "    }\n",
              "\n",
              "    .colab-df-convert {\n",
              "      background-color: #E8F0FE;\n",
              "      border: none;\n",
              "      border-radius: 50%;\n",
              "      cursor: pointer;\n",
              "      display: none;\n",
              "      fill: #1967D2;\n",
              "      height: 32px;\n",
              "      padding: 0 0 0 0;\n",
              "      width: 32px;\n",
              "    }\n",
              "\n",
              "    .colab-df-convert:hover {\n",
              "      background-color: #E2EBFA;\n",
              "      box-shadow: 0px 1px 2px rgba(60, 64, 67, 0.3), 0px 1px 3px 1px rgba(60, 64, 67, 0.15);\n",
              "      fill: #174EA6;\n",
              "    }\n",
              "\n",
              "    .colab-df-buttons div {\n",
              "      margin-bottom: 4px;\n",
              "    }\n",
              "\n",
              "    [theme=dark] .colab-df-convert {\n",
              "      background-color: #3B4455;\n",
              "      fill: #D2E3FC;\n",
              "    }\n",
              "\n",
              "    [theme=dark] .colab-df-convert:hover {\n",
              "      background-color: #434B5C;\n",
              "      box-shadow: 0px 1px 3px 1px rgba(0, 0, 0, 0.15);\n",
              "      filter: drop-shadow(0px 1px 2px rgba(0, 0, 0, 0.3));\n",
              "      fill: #FFFFFF;\n",
              "    }\n",
              "  </style>\n",
              "\n",
              "    <script>\n",
              "      const buttonEl =\n",
              "        document.querySelector('#df-78901f65-3e89-4e49-988b-d21a6705e898 button.colab-df-convert');\n",
              "      buttonEl.style.display =\n",
              "        google.colab.kernel.accessAllowed ? 'block' : 'none';\n",
              "\n",
              "      async function convertToInteractive(key) {\n",
              "        const element = document.querySelector('#df-78901f65-3e89-4e49-988b-d21a6705e898');\n",
              "        const dataTable =\n",
              "          await google.colab.kernel.invokeFunction('convertToInteractive',\n",
              "                                                    [key], {});\n",
              "        if (!dataTable) return;\n",
              "\n",
              "        const docLinkHtml = 'Like what you see? Visit the ' +\n",
              "          '<a target=\"_blank\" href=https://colab.research.google.com/notebooks/data_table.ipynb>data table notebook</a>'\n",
              "          + ' to learn more about interactive tables.';\n",
              "        element.innerHTML = '';\n",
              "        dataTable['output_type'] = 'display_data';\n",
              "        await google.colab.output.renderOutput(dataTable, element);\n",
              "        const docLink = document.createElement('div');\n",
              "        docLink.innerHTML = docLinkHtml;\n",
              "        element.appendChild(docLink);\n",
              "      }\n",
              "    </script>\n",
              "  </div>\n",
              "\n",
              "\n",
              "<div id=\"df-8ff71912-56d5-4cb3-9c6d-29641bda0ef8\">\n",
              "  <button class=\"colab-df-quickchart\" onclick=\"quickchart('df-8ff71912-56d5-4cb3-9c6d-29641bda0ef8')\"\n",
              "            title=\"Suggest charts.\"\n",
              "            style=\"display:none;\">\n",
              "\n",
              "<svg xmlns=\"http://www.w3.org/2000/svg\" height=\"24px\"viewBox=\"0 0 24 24\"\n",
              "     width=\"24px\">\n",
              "    <g>\n",
              "        <path d=\"M19 3H5c-1.1 0-2 .9-2 2v14c0 1.1.9 2 2 2h14c1.1 0 2-.9 2-2V5c0-1.1-.9-2-2-2zM9 17H7v-7h2v7zm4 0h-2V7h2v10zm4 0h-2v-4h2v4z\"/>\n",
              "    </g>\n",
              "</svg>\n",
              "  </button>\n",
              "\n",
              "<style>\n",
              "  .colab-df-quickchart {\n",
              "      --bg-color: #E8F0FE;\n",
              "      --fill-color: #1967D2;\n",
              "      --hover-bg-color: #E2EBFA;\n",
              "      --hover-fill-color: #174EA6;\n",
              "      --disabled-fill-color: #AAA;\n",
              "      --disabled-bg-color: #DDD;\n",
              "  }\n",
              "\n",
              "  [theme=dark] .colab-df-quickchart {\n",
              "      --bg-color: #3B4455;\n",
              "      --fill-color: #D2E3FC;\n",
              "      --hover-bg-color: #434B5C;\n",
              "      --hover-fill-color: #FFFFFF;\n",
              "      --disabled-bg-color: #3B4455;\n",
              "      --disabled-fill-color: #666;\n",
              "  }\n",
              "\n",
              "  .colab-df-quickchart {\n",
              "    background-color: var(--bg-color);\n",
              "    border: none;\n",
              "    border-radius: 50%;\n",
              "    cursor: pointer;\n",
              "    display: none;\n",
              "    fill: var(--fill-color);\n",
              "    height: 32px;\n",
              "    padding: 0;\n",
              "    width: 32px;\n",
              "  }\n",
              "\n",
              "  .colab-df-quickchart:hover {\n",
              "    background-color: var(--hover-bg-color);\n",
              "    box-shadow: 0 1px 2px rgba(60, 64, 67, 0.3), 0 1px 3px 1px rgba(60, 64, 67, 0.15);\n",
              "    fill: var(--button-hover-fill-color);\n",
              "  }\n",
              "\n",
              "  .colab-df-quickchart-complete:disabled,\n",
              "  .colab-df-quickchart-complete:disabled:hover {\n",
              "    background-color: var(--disabled-bg-color);\n",
              "    fill: var(--disabled-fill-color);\n",
              "    box-shadow: none;\n",
              "  }\n",
              "\n",
              "  .colab-df-spinner {\n",
              "    border: 2px solid var(--fill-color);\n",
              "    border-color: transparent;\n",
              "    border-bottom-color: var(--fill-color);\n",
              "    animation:\n",
              "      spin 1s steps(1) infinite;\n",
              "  }\n",
              "\n",
              "  @keyframes spin {\n",
              "    0% {\n",
              "      border-color: transparent;\n",
              "      border-bottom-color: var(--fill-color);\n",
              "      border-left-color: var(--fill-color);\n",
              "    }\n",
              "    20% {\n",
              "      border-color: transparent;\n",
              "      border-left-color: var(--fill-color);\n",
              "      border-top-color: var(--fill-color);\n",
              "    }\n",
              "    30% {\n",
              "      border-color: transparent;\n",
              "      border-left-color: var(--fill-color);\n",
              "      border-top-color: var(--fill-color);\n",
              "      border-right-color: var(--fill-color);\n",
              "    }\n",
              "    40% {\n",
              "      border-color: transparent;\n",
              "      border-right-color: var(--fill-color);\n",
              "      border-top-color: var(--fill-color);\n",
              "    }\n",
              "    60% {\n",
              "      border-color: transparent;\n",
              "      border-right-color: var(--fill-color);\n",
              "    }\n",
              "    80% {\n",
              "      border-color: transparent;\n",
              "      border-right-color: var(--fill-color);\n",
              "      border-bottom-color: var(--fill-color);\n",
              "    }\n",
              "    90% {\n",
              "      border-color: transparent;\n",
              "      border-bottom-color: var(--fill-color);\n",
              "    }\n",
              "  }\n",
              "</style>\n",
              "\n",
              "  <script>\n",
              "    async function quickchart(key) {\n",
              "      const quickchartButtonEl =\n",
              "        document.querySelector('#' + key + ' button');\n",
              "      quickchartButtonEl.disabled = true;  // To prevent multiple clicks.\n",
              "      quickchartButtonEl.classList.add('colab-df-spinner');\n",
              "      try {\n",
              "        const charts = await google.colab.kernel.invokeFunction(\n",
              "            'suggestCharts', [key], {});\n",
              "      } catch (error) {\n",
              "        console.error('Error during call to suggestCharts:', error);\n",
              "      }\n",
              "      quickchartButtonEl.classList.remove('colab-df-spinner');\n",
              "      quickchartButtonEl.classList.add('colab-df-quickchart-complete');\n",
              "    }\n",
              "    (() => {\n",
              "      let quickchartButtonEl =\n",
              "        document.querySelector('#df-8ff71912-56d5-4cb3-9c6d-29641bda0ef8 button');\n",
              "      quickchartButtonEl.style.display =\n",
              "        google.colab.kernel.accessAllowed ? 'block' : 'none';\n",
              "    })();\n",
              "  </script>\n",
              "</div>\n",
              "    </div>\n",
              "  </div>\n"
            ]
          },
          "metadata": {},
          "execution_count": 87
        }
      ]
    },
    {
      "cell_type": "code",
      "source": [
        "columns_to_drop = [\n",
        "    'AwardsName',\n",
        "    'ShortDescription'\n",
        "]\n",
        "# Drop the specified columns\n",
        "supplier_df = supplier_df.drop(columns=columns_to_drop)"
      ],
      "metadata": {
        "id": "mu6iLq93-c9J"
      },
      "execution_count": null,
      "outputs": []
    },
    {
      "cell_type": "code",
      "source": [
        "supplier_df = supplier_df.drop_duplicates()"
      ],
      "metadata": {
        "id": "BQMXAnrT-c3z"
      },
      "execution_count": null,
      "outputs": []
    },
    {
      "cell_type": "code",
      "source": [
        "supplier_df.shape"
      ],
      "metadata": {
        "colab": {
          "base_uri": "https://localhost:8080/"
        },
        "id": "7yL73hld-cxD",
        "outputId": "cecdfbbd-167a-446c-eece-ccf24e182583"
      },
      "execution_count": null,
      "outputs": [
        {
          "output_type": "execute_result",
          "data": {
            "text/plain": [
              "(66, 6)"
            ]
          },
          "metadata": {},
          "execution_count": 90
        }
      ]
    },
    {
      "cell_type": "code",
      "source": [
        "supplier_df.rename(columns={'ID':'supplier_indv_ID'}, inplace=True)"
      ],
      "metadata": {
        "id": "Q57X7WUi-cpx"
      },
      "execution_count": null,
      "outputs": []
    },
    {
      "cell_type": "code",
      "source": [
        "supplier_df.columns"
      ],
      "metadata": {
        "colab": {
          "base_uri": "https://localhost:8080/"
        },
        "id": "RL6e-rk2-cVf",
        "outputId": "585c4f83-7f4a-49de-dd52-c4b5b09c7b49"
      },
      "execution_count": null,
      "outputs": [
        {
          "output_type": "execute_result",
          "data": {
            "text/plain": [
              "Index(['SupplierKey', 'supplier_indv_ID', 'StartDate', 'EndDate', 'Name',\n",
              "       'Active'],\n",
              "      dtype='object')"
            ]
          },
          "metadata": {},
          "execution_count": 92
        }
      ]
    },
    {
      "cell_type": "markdown",
      "source": [
        "# DimUTSMobileProduct Table"
      ],
      "metadata": {
        "id": "akwKU5MFxt-w"
      }
    },
    {
      "cell_type": "code",
      "source": [
        "mobileproduct_df= pd.read_csv(\"/content/drive/Shareddrives/protik/iLab/Dataset/data/DimUTSMobileProduct.csv\")"
      ],
      "metadata": {
        "id": "gCKtWmBNBULv"
      },
      "execution_count": null,
      "outputs": []
    },
    {
      "cell_type": "code",
      "source": [
        "mobileproduct_df.head()"
      ],
      "metadata": {
        "colab": {
          "base_uri": "https://localhost:8080/",
          "height": 342
        },
        "id": "LEhGlWrdBeQO",
        "outputId": "ba030005-36dc-4170-97bd-609bf9c102c0"
      },
      "execution_count": null,
      "outputs": [
        {
          "output_type": "execute_result",
          "data": {
            "text/plain": [
              "   MobileProductKey  ProductID                    StartDate  \\\n",
              "0              2753      13057  2022-11-04 00:00:00.0000000   \n",
              "1              2686       8960  2022-10-31 00:00:00.0000000   \n",
              "2              2226      12497  2022-11-27 00:00:00.0000000   \n",
              "3              3239      11852  2022-10-23 00:00:00.0000000   \n",
              "4              2209      12325  2022-12-01 00:00:00.0000000   \n",
              "\n",
              "                       EndDate  Deleted  DomesticFlagFall  DomesticCallRate  \\\n",
              "0  2023-02-28 00:00:00.0000000        0               0.0               0.0   \n",
              "1  2023-02-28 00:00:00.0000000        0               0.0               0.0   \n",
              "2  2023-02-28 00:00:00.0000000        0               0.0               0.0   \n",
              "3  2023-02-28 00:00:00.0000000        0               0.0               0.0   \n",
              "4  2023-02-28 00:00:00.0000000        0               0.0               0.0   \n",
              "\n",
              "   DomesticSmsRate  DomesticMmsRate  DomesticVideoFlagFall  ...  \\\n",
              "0              0.0              0.0                    0.0  ...   \n",
              "1              0.0              0.0                    0.0  ...   \n",
              "2              0.0              0.0                    0.0  ...   \n",
              "3              0.0              0.0                    0.0  ...   \n",
              "4              0.0              0.0                    0.0  ...   \n",
              "\n",
              "   IncludedValueContainsMms  IncludedValueContainsVideo  \\\n",
              "0                         1                           0   \n",
              "1                         1                           0   \n",
              "2                         1                           1   \n",
              "3                         1                           1   \n",
              "4                         1                           0   \n",
              "\n",
              "     IncludedDataComment UnlimitedDataComment MobilePlanTypeName  \\\n",
              "0       within Australia                  NaN           Postpaid   \n",
              "1                    NaN                  NaN           Postpaid   \n",
              "2           at Max Speed                  NaN           Postpaid   \n",
              "3  for use in Australia                   NaN           Postpaid   \n",
              "4          over 365 days                  NaN            Prepaid   \n",
              "\n",
              "   MobilePlanTypeNameDerived  is5GNetwork MobilePhonePlan  \\\n",
              "0                   Postpaid            1               1   \n",
              "1                   Postpaid            0               0   \n",
              "2                   Postpaid            1               1   \n",
              "3                   Postpaid            1               1   \n",
              "4                    Prepaid            0               0   \n",
              "\n",
              "  MobilePhoneNetworkName MobilePhoneNetworkID  \n",
              "0                  Optus                    4  \n",
              "1                  Optus                    4  \n",
              "2               Vodafone                    6  \n",
              "3                Telstra                    2  \n",
              "4               Vodafone                    6  \n",
              "\n",
              "[5 rows x 33 columns]"
            ],
            "text/html": [
              "\n",
              "  <div id=\"df-c863e481-7242-4f10-9bd5-2342706294cb\" class=\"colab-df-container\">\n",
              "    <div>\n",
              "<style scoped>\n",
              "    .dataframe tbody tr th:only-of-type {\n",
              "        vertical-align: middle;\n",
              "    }\n",
              "\n",
              "    .dataframe tbody tr th {\n",
              "        vertical-align: top;\n",
              "    }\n",
              "\n",
              "    .dataframe thead th {\n",
              "        text-align: right;\n",
              "    }\n",
              "</style>\n",
              "<table border=\"1\" class=\"dataframe\">\n",
              "  <thead>\n",
              "    <tr style=\"text-align: right;\">\n",
              "      <th></th>\n",
              "      <th>MobileProductKey</th>\n",
              "      <th>ProductID</th>\n",
              "      <th>StartDate</th>\n",
              "      <th>EndDate</th>\n",
              "      <th>Deleted</th>\n",
              "      <th>DomesticFlagFall</th>\n",
              "      <th>DomesticCallRate</th>\n",
              "      <th>DomesticSmsRate</th>\n",
              "      <th>DomesticMmsRate</th>\n",
              "      <th>DomesticVideoFlagFall</th>\n",
              "      <th>...</th>\n",
              "      <th>IncludedValueContainsMms</th>\n",
              "      <th>IncludedValueContainsVideo</th>\n",
              "      <th>IncludedDataComment</th>\n",
              "      <th>UnlimitedDataComment</th>\n",
              "      <th>MobilePlanTypeName</th>\n",
              "      <th>MobilePlanTypeNameDerived</th>\n",
              "      <th>is5GNetwork</th>\n",
              "      <th>MobilePhonePlan</th>\n",
              "      <th>MobilePhoneNetworkName</th>\n",
              "      <th>MobilePhoneNetworkID</th>\n",
              "    </tr>\n",
              "  </thead>\n",
              "  <tbody>\n",
              "    <tr>\n",
              "      <th>0</th>\n",
              "      <td>2753</td>\n",
              "      <td>13057</td>\n",
              "      <td>2022-11-04 00:00:00.0000000</td>\n",
              "      <td>2023-02-28 00:00:00.0000000</td>\n",
              "      <td>0</td>\n",
              "      <td>0.0</td>\n",
              "      <td>0.0</td>\n",
              "      <td>0.0</td>\n",
              "      <td>0.0</td>\n",
              "      <td>0.0</td>\n",
              "      <td>...</td>\n",
              "      <td>1</td>\n",
              "      <td>0</td>\n",
              "      <td>within Australia</td>\n",
              "      <td>NaN</td>\n",
              "      <td>Postpaid</td>\n",
              "      <td>Postpaid</td>\n",
              "      <td>1</td>\n",
              "      <td>1</td>\n",
              "      <td>Optus</td>\n",
              "      <td>4</td>\n",
              "    </tr>\n",
              "    <tr>\n",
              "      <th>1</th>\n",
              "      <td>2686</td>\n",
              "      <td>8960</td>\n",
              "      <td>2022-10-31 00:00:00.0000000</td>\n",
              "      <td>2023-02-28 00:00:00.0000000</td>\n",
              "      <td>0</td>\n",
              "      <td>0.0</td>\n",
              "      <td>0.0</td>\n",
              "      <td>0.0</td>\n",
              "      <td>0.0</td>\n",
              "      <td>0.0</td>\n",
              "      <td>...</td>\n",
              "      <td>1</td>\n",
              "      <td>0</td>\n",
              "      <td>NaN</td>\n",
              "      <td>NaN</td>\n",
              "      <td>Postpaid</td>\n",
              "      <td>Postpaid</td>\n",
              "      <td>0</td>\n",
              "      <td>0</td>\n",
              "      <td>Optus</td>\n",
              "      <td>4</td>\n",
              "    </tr>\n",
              "    <tr>\n",
              "      <th>2</th>\n",
              "      <td>2226</td>\n",
              "      <td>12497</td>\n",
              "      <td>2022-11-27 00:00:00.0000000</td>\n",
              "      <td>2023-02-28 00:00:00.0000000</td>\n",
              "      <td>0</td>\n",
              "      <td>0.0</td>\n",
              "      <td>0.0</td>\n",
              "      <td>0.0</td>\n",
              "      <td>0.0</td>\n",
              "      <td>0.0</td>\n",
              "      <td>...</td>\n",
              "      <td>1</td>\n",
              "      <td>1</td>\n",
              "      <td>at Max Speed</td>\n",
              "      <td>NaN</td>\n",
              "      <td>Postpaid</td>\n",
              "      <td>Postpaid</td>\n",
              "      <td>1</td>\n",
              "      <td>1</td>\n",
              "      <td>Vodafone</td>\n",
              "      <td>6</td>\n",
              "    </tr>\n",
              "    <tr>\n",
              "      <th>3</th>\n",
              "      <td>3239</td>\n",
              "      <td>11852</td>\n",
              "      <td>2022-10-23 00:00:00.0000000</td>\n",
              "      <td>2023-02-28 00:00:00.0000000</td>\n",
              "      <td>0</td>\n",
              "      <td>0.0</td>\n",
              "      <td>0.0</td>\n",
              "      <td>0.0</td>\n",
              "      <td>0.0</td>\n",
              "      <td>0.0</td>\n",
              "      <td>...</td>\n",
              "      <td>1</td>\n",
              "      <td>1</td>\n",
              "      <td>for use in Australia</td>\n",
              "      <td>NaN</td>\n",
              "      <td>Postpaid</td>\n",
              "      <td>Postpaid</td>\n",
              "      <td>1</td>\n",
              "      <td>1</td>\n",
              "      <td>Telstra</td>\n",
              "      <td>2</td>\n",
              "    </tr>\n",
              "    <tr>\n",
              "      <th>4</th>\n",
              "      <td>2209</td>\n",
              "      <td>12325</td>\n",
              "      <td>2022-12-01 00:00:00.0000000</td>\n",
              "      <td>2023-02-28 00:00:00.0000000</td>\n",
              "      <td>0</td>\n",
              "      <td>0.0</td>\n",
              "      <td>0.0</td>\n",
              "      <td>0.0</td>\n",
              "      <td>0.0</td>\n",
              "      <td>0.0</td>\n",
              "      <td>...</td>\n",
              "      <td>1</td>\n",
              "      <td>0</td>\n",
              "      <td>over 365 days</td>\n",
              "      <td>NaN</td>\n",
              "      <td>Prepaid</td>\n",
              "      <td>Prepaid</td>\n",
              "      <td>0</td>\n",
              "      <td>0</td>\n",
              "      <td>Vodafone</td>\n",
              "      <td>6</td>\n",
              "    </tr>\n",
              "  </tbody>\n",
              "</table>\n",
              "<p>5 rows × 33 columns</p>\n",
              "</div>\n",
              "    <div class=\"colab-df-buttons\">\n",
              "\n",
              "  <div class=\"colab-df-container\">\n",
              "    <button class=\"colab-df-convert\" onclick=\"convertToInteractive('df-c863e481-7242-4f10-9bd5-2342706294cb')\"\n",
              "            title=\"Convert this dataframe to an interactive table.\"\n",
              "            style=\"display:none;\">\n",
              "\n",
              "  <svg xmlns=\"http://www.w3.org/2000/svg\" height=\"24px\" viewBox=\"0 -960 960 960\">\n",
              "    <path d=\"M120-120v-720h720v720H120Zm60-500h600v-160H180v160Zm220 220h160v-160H400v160Zm0 220h160v-160H400v160ZM180-400h160v-160H180v160Zm440 0h160v-160H620v160ZM180-180h160v-160H180v160Zm440 0h160v-160H620v160Z\"/>\n",
              "  </svg>\n",
              "    </button>\n",
              "\n",
              "  <style>\n",
              "    .colab-df-container {\n",
              "      display:flex;\n",
              "      gap: 12px;\n",
              "    }\n",
              "\n",
              "    .colab-df-convert {\n",
              "      background-color: #E8F0FE;\n",
              "      border: none;\n",
              "      border-radius: 50%;\n",
              "      cursor: pointer;\n",
              "      display: none;\n",
              "      fill: #1967D2;\n",
              "      height: 32px;\n",
              "      padding: 0 0 0 0;\n",
              "      width: 32px;\n",
              "    }\n",
              "\n",
              "    .colab-df-convert:hover {\n",
              "      background-color: #E2EBFA;\n",
              "      box-shadow: 0px 1px 2px rgba(60, 64, 67, 0.3), 0px 1px 3px 1px rgba(60, 64, 67, 0.15);\n",
              "      fill: #174EA6;\n",
              "    }\n",
              "\n",
              "    .colab-df-buttons div {\n",
              "      margin-bottom: 4px;\n",
              "    }\n",
              "\n",
              "    [theme=dark] .colab-df-convert {\n",
              "      background-color: #3B4455;\n",
              "      fill: #D2E3FC;\n",
              "    }\n",
              "\n",
              "    [theme=dark] .colab-df-convert:hover {\n",
              "      background-color: #434B5C;\n",
              "      box-shadow: 0px 1px 3px 1px rgba(0, 0, 0, 0.15);\n",
              "      filter: drop-shadow(0px 1px 2px rgba(0, 0, 0, 0.3));\n",
              "      fill: #FFFFFF;\n",
              "    }\n",
              "  </style>\n",
              "\n",
              "    <script>\n",
              "      const buttonEl =\n",
              "        document.querySelector('#df-c863e481-7242-4f10-9bd5-2342706294cb button.colab-df-convert');\n",
              "      buttonEl.style.display =\n",
              "        google.colab.kernel.accessAllowed ? 'block' : 'none';\n",
              "\n",
              "      async function convertToInteractive(key) {\n",
              "        const element = document.querySelector('#df-c863e481-7242-4f10-9bd5-2342706294cb');\n",
              "        const dataTable =\n",
              "          await google.colab.kernel.invokeFunction('convertToInteractive',\n",
              "                                                    [key], {});\n",
              "        if (!dataTable) return;\n",
              "\n",
              "        const docLinkHtml = 'Like what you see? Visit the ' +\n",
              "          '<a target=\"_blank\" href=https://colab.research.google.com/notebooks/data_table.ipynb>data table notebook</a>'\n",
              "          + ' to learn more about interactive tables.';\n",
              "        element.innerHTML = '';\n",
              "        dataTable['output_type'] = 'display_data';\n",
              "        await google.colab.output.renderOutput(dataTable, element);\n",
              "        const docLink = document.createElement('div');\n",
              "        docLink.innerHTML = docLinkHtml;\n",
              "        element.appendChild(docLink);\n",
              "      }\n",
              "    </script>\n",
              "  </div>\n",
              "\n",
              "\n",
              "<div id=\"df-5f38c601-40cd-48b8-a3bc-9bc5a33673d5\">\n",
              "  <button class=\"colab-df-quickchart\" onclick=\"quickchart('df-5f38c601-40cd-48b8-a3bc-9bc5a33673d5')\"\n",
              "            title=\"Suggest charts.\"\n",
              "            style=\"display:none;\">\n",
              "\n",
              "<svg xmlns=\"http://www.w3.org/2000/svg\" height=\"24px\"viewBox=\"0 0 24 24\"\n",
              "     width=\"24px\">\n",
              "    <g>\n",
              "        <path d=\"M19 3H5c-1.1 0-2 .9-2 2v14c0 1.1.9 2 2 2h14c1.1 0 2-.9 2-2V5c0-1.1-.9-2-2-2zM9 17H7v-7h2v7zm4 0h-2V7h2v10zm4 0h-2v-4h2v4z\"/>\n",
              "    </g>\n",
              "</svg>\n",
              "  </button>\n",
              "\n",
              "<style>\n",
              "  .colab-df-quickchart {\n",
              "      --bg-color: #E8F0FE;\n",
              "      --fill-color: #1967D2;\n",
              "      --hover-bg-color: #E2EBFA;\n",
              "      --hover-fill-color: #174EA6;\n",
              "      --disabled-fill-color: #AAA;\n",
              "      --disabled-bg-color: #DDD;\n",
              "  }\n",
              "\n",
              "  [theme=dark] .colab-df-quickchart {\n",
              "      --bg-color: #3B4455;\n",
              "      --fill-color: #D2E3FC;\n",
              "      --hover-bg-color: #434B5C;\n",
              "      --hover-fill-color: #FFFFFF;\n",
              "      --disabled-bg-color: #3B4455;\n",
              "      --disabled-fill-color: #666;\n",
              "  }\n",
              "\n",
              "  .colab-df-quickchart {\n",
              "    background-color: var(--bg-color);\n",
              "    border: none;\n",
              "    border-radius: 50%;\n",
              "    cursor: pointer;\n",
              "    display: none;\n",
              "    fill: var(--fill-color);\n",
              "    height: 32px;\n",
              "    padding: 0;\n",
              "    width: 32px;\n",
              "  }\n",
              "\n",
              "  .colab-df-quickchart:hover {\n",
              "    background-color: var(--hover-bg-color);\n",
              "    box-shadow: 0 1px 2px rgba(60, 64, 67, 0.3), 0 1px 3px 1px rgba(60, 64, 67, 0.15);\n",
              "    fill: var(--button-hover-fill-color);\n",
              "  }\n",
              "\n",
              "  .colab-df-quickchart-complete:disabled,\n",
              "  .colab-df-quickchart-complete:disabled:hover {\n",
              "    background-color: var(--disabled-bg-color);\n",
              "    fill: var(--disabled-fill-color);\n",
              "    box-shadow: none;\n",
              "  }\n",
              "\n",
              "  .colab-df-spinner {\n",
              "    border: 2px solid var(--fill-color);\n",
              "    border-color: transparent;\n",
              "    border-bottom-color: var(--fill-color);\n",
              "    animation:\n",
              "      spin 1s steps(1) infinite;\n",
              "  }\n",
              "\n",
              "  @keyframes spin {\n",
              "    0% {\n",
              "      border-color: transparent;\n",
              "      border-bottom-color: var(--fill-color);\n",
              "      border-left-color: var(--fill-color);\n",
              "    }\n",
              "    20% {\n",
              "      border-color: transparent;\n",
              "      border-left-color: var(--fill-color);\n",
              "      border-top-color: var(--fill-color);\n",
              "    }\n",
              "    30% {\n",
              "      border-color: transparent;\n",
              "      border-left-color: var(--fill-color);\n",
              "      border-top-color: var(--fill-color);\n",
              "      border-right-color: var(--fill-color);\n",
              "    }\n",
              "    40% {\n",
              "      border-color: transparent;\n",
              "      border-right-color: var(--fill-color);\n",
              "      border-top-color: var(--fill-color);\n",
              "    }\n",
              "    60% {\n",
              "      border-color: transparent;\n",
              "      border-right-color: var(--fill-color);\n",
              "    }\n",
              "    80% {\n",
              "      border-color: transparent;\n",
              "      border-right-color: var(--fill-color);\n",
              "      border-bottom-color: var(--fill-color);\n",
              "    }\n",
              "    90% {\n",
              "      border-color: transparent;\n",
              "      border-bottom-color: var(--fill-color);\n",
              "    }\n",
              "  }\n",
              "</style>\n",
              "\n",
              "  <script>\n",
              "    async function quickchart(key) {\n",
              "      const quickchartButtonEl =\n",
              "        document.querySelector('#' + key + ' button');\n",
              "      quickchartButtonEl.disabled = true;  // To prevent multiple clicks.\n",
              "      quickchartButtonEl.classList.add('colab-df-spinner');\n",
              "      try {\n",
              "        const charts = await google.colab.kernel.invokeFunction(\n",
              "            'suggestCharts', [key], {});\n",
              "      } catch (error) {\n",
              "        console.error('Error during call to suggestCharts:', error);\n",
              "      }\n",
              "      quickchartButtonEl.classList.remove('colab-df-spinner');\n",
              "      quickchartButtonEl.classList.add('colab-df-quickchart-complete');\n",
              "    }\n",
              "    (() => {\n",
              "      let quickchartButtonEl =\n",
              "        document.querySelector('#df-5f38c601-40cd-48b8-a3bc-9bc5a33673d5 button');\n",
              "      quickchartButtonEl.style.display =\n",
              "        google.colab.kernel.accessAllowed ? 'block' : 'none';\n",
              "    })();\n",
              "  </script>\n",
              "</div>\n",
              "    </div>\n",
              "  </div>\n"
            ]
          },
          "metadata": {},
          "execution_count": 94
        }
      ]
    },
    {
      "cell_type": "code",
      "source": [
        "mobileproduct_df.shape"
      ],
      "metadata": {
        "colab": {
          "base_uri": "https://localhost:8080/"
        },
        "id": "LbUmkd5EBeNk",
        "outputId": "c9598819-0574-42a7-8a67-cde869735944"
      },
      "execution_count": null,
      "outputs": [
        {
          "output_type": "execute_result",
          "data": {
            "text/plain": [
              "(721, 33)"
            ]
          },
          "metadata": {},
          "execution_count": 95
        }
      ]
    },
    {
      "cell_type": "code",
      "source": [
        "mobileproduct_df.columns"
      ],
      "metadata": {
        "colab": {
          "base_uri": "https://localhost:8080/"
        },
        "id": "14qUaydVBeKd",
        "outputId": "85d3c489-5e2e-46e5-84ba-98aa4c7450a2"
      },
      "execution_count": null,
      "outputs": [
        {
          "output_type": "execute_result",
          "data": {
            "text/plain": [
              "Index(['MobileProductKey', 'ProductID', 'StartDate', 'EndDate', 'Deleted',\n",
              "       'DomesticFlagFall', 'DomesticCallRate', 'DomesticSmsRate',\n",
              "       'DomesticMmsRate', 'DomesticVideoFlagFall', 'DomesticVideoCallRate',\n",
              "       'IncludedValue', 'IncludedData', 'IncludedDataDescriptionMB',\n",
              "       'IncludedDataDescriptionGB', 'DataRate', 'IncludedMessages',\n",
              "       'IncludedValueComment', 'IncludedMessagesComment',\n",
              "       'UnlimitedValueComment', 'DataRateComment',\n",
              "       'DataRateOverrideDescription', 'IncludedValueContainsSms',\n",
              "       'IncludedValueContainsMms', 'IncludedValueContainsVideo',\n",
              "       'IncludedDataComment', 'UnlimitedDataComment', 'MobilePlanTypeName',\n",
              "       'MobilePlanTypeNameDerived', 'is5GNetwork', 'MobilePhonePlan',\n",
              "       'MobilePhoneNetworkName', 'MobilePhoneNetworkID'],\n",
              "      dtype='object')"
            ]
          },
          "metadata": {},
          "execution_count": 96
        }
      ]
    },
    {
      "cell_type": "code",
      "source": [
        "mobileproduct_df['EndDate'] = pd.to_datetime(mobileproduct_df['EndDate'])\n",
        "\n",
        "mobileproduct_df = mobileproduct_df[mobileproduct_df['EndDate']>='2022-12-01']"
      ],
      "metadata": {
        "id": "Ae6jCWZEBeEN"
      },
      "execution_count": null,
      "outputs": []
    },
    {
      "cell_type": "code",
      "source": [
        "mobileproduct_df.shape"
      ],
      "metadata": {
        "colab": {
          "base_uri": "https://localhost:8080/"
        },
        "id": "VqFDWrjjBeBL",
        "outputId": "b39b39ea-3264-4659-d9e1-771c5f6ba655"
      },
      "execution_count": null,
      "outputs": [
        {
          "output_type": "execute_result",
          "data": {
            "text/plain": [
              "(706, 33)"
            ]
          },
          "metadata": {},
          "execution_count": 98
        }
      ]
    },
    {
      "cell_type": "code",
      "source": [
        "mobileproduct_df = mobileproduct_df.drop_duplicates()"
      ],
      "metadata": {
        "id": "-slzVKHNNZGp"
      },
      "execution_count": null,
      "outputs": []
    },
    {
      "cell_type": "code",
      "source": [
        "mobileproduct_df.shape"
      ],
      "metadata": {
        "colab": {
          "base_uri": "https://localhost:8080/"
        },
        "id": "MheDaRF_Ndto",
        "outputId": "ac498e14-a39d-4764-d9a3-f4d654e40836"
      },
      "execution_count": null,
      "outputs": [
        {
          "output_type": "execute_result",
          "data": {
            "text/plain": [
              "(315, 33)"
            ]
          },
          "metadata": {},
          "execution_count": 100
        }
      ]
    },
    {
      "cell_type": "code",
      "source": [
        "# Calculate the total number of missing values per column\n",
        "missing_values = mobileproduct_df.isnull().sum()\n",
        "\n",
        "# Calculate the percentage of missing values per column\n",
        "percentage_missing = (missing_values / len(mobileproduct_df)) * 100\n",
        "\n",
        "# Create a DataFrame to display the results\n",
        "missing_data_info = pd.DataFrame({\n",
        "    'Column Name': missing_values.index,\n",
        "    'Total Missing Values': missing_values.values,\n",
        "    'Percentage Missing': percentage_missing.values\n",
        "})\n",
        "\n",
        "# Sort the DataFrame by percentage of missing values (descending)\n",
        "missing_data_info = missing_data_info.sort_values(by='Percentage Missing', ascending=False)\n",
        "\n",
        "# Print the missing data information\n",
        "missing_data_info"
      ],
      "metadata": {
        "colab": {
          "base_uri": "https://localhost:8080/",
          "height": 1000
        },
        "id": "fE-rxa1DFRaS",
        "outputId": "b10859b6-046b-4afc-b5cb-d1f94cc45b01"
      },
      "execution_count": null,
      "outputs": [
        {
          "output_type": "execute_result",
          "data": {
            "text/plain": [
              "                    Column Name  Total Missing Values  Percentage Missing\n",
              "26         UnlimitedDataComment                   315          100.000000\n",
              "20              DataRateComment                   306           97.142857\n",
              "19        UnlimitedValueComment                   302           95.873016\n",
              "25          IncludedDataComment                   175           55.555556\n",
              "21  DataRateOverrideDescription                    39           12.380952\n",
              "18      IncludedMessagesComment                    13            4.126984\n",
              "17         IncludedValueComment                     2            0.634921\n",
              "0              MobileProductKey                     0            0.000000\n",
              "31       MobilePhoneNetworkName                     0            0.000000\n",
              "30              MobilePhonePlan                     0            0.000000\n",
              "29                  is5GNetwork                     0            0.000000\n",
              "28    MobilePlanTypeNameDerived                     0            0.000000\n",
              "27           MobilePlanTypeName                     0            0.000000\n",
              "24   IncludedValueContainsVideo                     0            0.000000\n",
              "23     IncludedValueContainsMms                     0            0.000000\n",
              "22     IncludedValueContainsSms                     0            0.000000\n",
              "16             IncludedMessages                     0            0.000000\n",
              "1                     ProductID                     0            0.000000\n",
              "15                     DataRate                     0            0.000000\n",
              "14    IncludedDataDescriptionGB                     0            0.000000\n",
              "13    IncludedDataDescriptionMB                     0            0.000000\n",
              "12                 IncludedData                     0            0.000000\n",
              "11                IncludedValue                     0            0.000000\n",
              "10        DomesticVideoCallRate                     0            0.000000\n",
              "9         DomesticVideoFlagFall                     0            0.000000\n",
              "8               DomesticMmsRate                     0            0.000000\n",
              "7               DomesticSmsRate                     0            0.000000\n",
              "6              DomesticCallRate                     0            0.000000\n",
              "5              DomesticFlagFall                     0            0.000000\n",
              "4                       Deleted                     0            0.000000\n",
              "3                       EndDate                     0            0.000000\n",
              "2                     StartDate                     0            0.000000\n",
              "32         MobilePhoneNetworkID                     0            0.000000"
            ],
            "text/html": [
              "\n",
              "  <div id=\"df-71a7a811-1b50-447e-8140-9d7802fac416\" class=\"colab-df-container\">\n",
              "    <div>\n",
              "<style scoped>\n",
              "    .dataframe tbody tr th:only-of-type {\n",
              "        vertical-align: middle;\n",
              "    }\n",
              "\n",
              "    .dataframe tbody tr th {\n",
              "        vertical-align: top;\n",
              "    }\n",
              "\n",
              "    .dataframe thead th {\n",
              "        text-align: right;\n",
              "    }\n",
              "</style>\n",
              "<table border=\"1\" class=\"dataframe\">\n",
              "  <thead>\n",
              "    <tr style=\"text-align: right;\">\n",
              "      <th></th>\n",
              "      <th>Column Name</th>\n",
              "      <th>Total Missing Values</th>\n",
              "      <th>Percentage Missing</th>\n",
              "    </tr>\n",
              "  </thead>\n",
              "  <tbody>\n",
              "    <tr>\n",
              "      <th>26</th>\n",
              "      <td>UnlimitedDataComment</td>\n",
              "      <td>315</td>\n",
              "      <td>100.000000</td>\n",
              "    </tr>\n",
              "    <tr>\n",
              "      <th>20</th>\n",
              "      <td>DataRateComment</td>\n",
              "      <td>306</td>\n",
              "      <td>97.142857</td>\n",
              "    </tr>\n",
              "    <tr>\n",
              "      <th>19</th>\n",
              "      <td>UnlimitedValueComment</td>\n",
              "      <td>302</td>\n",
              "      <td>95.873016</td>\n",
              "    </tr>\n",
              "    <tr>\n",
              "      <th>25</th>\n",
              "      <td>IncludedDataComment</td>\n",
              "      <td>175</td>\n",
              "      <td>55.555556</td>\n",
              "    </tr>\n",
              "    <tr>\n",
              "      <th>21</th>\n",
              "      <td>DataRateOverrideDescription</td>\n",
              "      <td>39</td>\n",
              "      <td>12.380952</td>\n",
              "    </tr>\n",
              "    <tr>\n",
              "      <th>18</th>\n",
              "      <td>IncludedMessagesComment</td>\n",
              "      <td>13</td>\n",
              "      <td>4.126984</td>\n",
              "    </tr>\n",
              "    <tr>\n",
              "      <th>17</th>\n",
              "      <td>IncludedValueComment</td>\n",
              "      <td>2</td>\n",
              "      <td>0.634921</td>\n",
              "    </tr>\n",
              "    <tr>\n",
              "      <th>0</th>\n",
              "      <td>MobileProductKey</td>\n",
              "      <td>0</td>\n",
              "      <td>0.000000</td>\n",
              "    </tr>\n",
              "    <tr>\n",
              "      <th>31</th>\n",
              "      <td>MobilePhoneNetworkName</td>\n",
              "      <td>0</td>\n",
              "      <td>0.000000</td>\n",
              "    </tr>\n",
              "    <tr>\n",
              "      <th>30</th>\n",
              "      <td>MobilePhonePlan</td>\n",
              "      <td>0</td>\n",
              "      <td>0.000000</td>\n",
              "    </tr>\n",
              "    <tr>\n",
              "      <th>29</th>\n",
              "      <td>is5GNetwork</td>\n",
              "      <td>0</td>\n",
              "      <td>0.000000</td>\n",
              "    </tr>\n",
              "    <tr>\n",
              "      <th>28</th>\n",
              "      <td>MobilePlanTypeNameDerived</td>\n",
              "      <td>0</td>\n",
              "      <td>0.000000</td>\n",
              "    </tr>\n",
              "    <tr>\n",
              "      <th>27</th>\n",
              "      <td>MobilePlanTypeName</td>\n",
              "      <td>0</td>\n",
              "      <td>0.000000</td>\n",
              "    </tr>\n",
              "    <tr>\n",
              "      <th>24</th>\n",
              "      <td>IncludedValueContainsVideo</td>\n",
              "      <td>0</td>\n",
              "      <td>0.000000</td>\n",
              "    </tr>\n",
              "    <tr>\n",
              "      <th>23</th>\n",
              "      <td>IncludedValueContainsMms</td>\n",
              "      <td>0</td>\n",
              "      <td>0.000000</td>\n",
              "    </tr>\n",
              "    <tr>\n",
              "      <th>22</th>\n",
              "      <td>IncludedValueContainsSms</td>\n",
              "      <td>0</td>\n",
              "      <td>0.000000</td>\n",
              "    </tr>\n",
              "    <tr>\n",
              "      <th>16</th>\n",
              "      <td>IncludedMessages</td>\n",
              "      <td>0</td>\n",
              "      <td>0.000000</td>\n",
              "    </tr>\n",
              "    <tr>\n",
              "      <th>1</th>\n",
              "      <td>ProductID</td>\n",
              "      <td>0</td>\n",
              "      <td>0.000000</td>\n",
              "    </tr>\n",
              "    <tr>\n",
              "      <th>15</th>\n",
              "      <td>DataRate</td>\n",
              "      <td>0</td>\n",
              "      <td>0.000000</td>\n",
              "    </tr>\n",
              "    <tr>\n",
              "      <th>14</th>\n",
              "      <td>IncludedDataDescriptionGB</td>\n",
              "      <td>0</td>\n",
              "      <td>0.000000</td>\n",
              "    </tr>\n",
              "    <tr>\n",
              "      <th>13</th>\n",
              "      <td>IncludedDataDescriptionMB</td>\n",
              "      <td>0</td>\n",
              "      <td>0.000000</td>\n",
              "    </tr>\n",
              "    <tr>\n",
              "      <th>12</th>\n",
              "      <td>IncludedData</td>\n",
              "      <td>0</td>\n",
              "      <td>0.000000</td>\n",
              "    </tr>\n",
              "    <tr>\n",
              "      <th>11</th>\n",
              "      <td>IncludedValue</td>\n",
              "      <td>0</td>\n",
              "      <td>0.000000</td>\n",
              "    </tr>\n",
              "    <tr>\n",
              "      <th>10</th>\n",
              "      <td>DomesticVideoCallRate</td>\n",
              "      <td>0</td>\n",
              "      <td>0.000000</td>\n",
              "    </tr>\n",
              "    <tr>\n",
              "      <th>9</th>\n",
              "      <td>DomesticVideoFlagFall</td>\n",
              "      <td>0</td>\n",
              "      <td>0.000000</td>\n",
              "    </tr>\n",
              "    <tr>\n",
              "      <th>8</th>\n",
              "      <td>DomesticMmsRate</td>\n",
              "      <td>0</td>\n",
              "      <td>0.000000</td>\n",
              "    </tr>\n",
              "    <tr>\n",
              "      <th>7</th>\n",
              "      <td>DomesticSmsRate</td>\n",
              "      <td>0</td>\n",
              "      <td>0.000000</td>\n",
              "    </tr>\n",
              "    <tr>\n",
              "      <th>6</th>\n",
              "      <td>DomesticCallRate</td>\n",
              "      <td>0</td>\n",
              "      <td>0.000000</td>\n",
              "    </tr>\n",
              "    <tr>\n",
              "      <th>5</th>\n",
              "      <td>DomesticFlagFall</td>\n",
              "      <td>0</td>\n",
              "      <td>0.000000</td>\n",
              "    </tr>\n",
              "    <tr>\n",
              "      <th>4</th>\n",
              "      <td>Deleted</td>\n",
              "      <td>0</td>\n",
              "      <td>0.000000</td>\n",
              "    </tr>\n",
              "    <tr>\n",
              "      <th>3</th>\n",
              "      <td>EndDate</td>\n",
              "      <td>0</td>\n",
              "      <td>0.000000</td>\n",
              "    </tr>\n",
              "    <tr>\n",
              "      <th>2</th>\n",
              "      <td>StartDate</td>\n",
              "      <td>0</td>\n",
              "      <td>0.000000</td>\n",
              "    </tr>\n",
              "    <tr>\n",
              "      <th>32</th>\n",
              "      <td>MobilePhoneNetworkID</td>\n",
              "      <td>0</td>\n",
              "      <td>0.000000</td>\n",
              "    </tr>\n",
              "  </tbody>\n",
              "</table>\n",
              "</div>\n",
              "    <div class=\"colab-df-buttons\">\n",
              "\n",
              "  <div class=\"colab-df-container\">\n",
              "    <button class=\"colab-df-convert\" onclick=\"convertToInteractive('df-71a7a811-1b50-447e-8140-9d7802fac416')\"\n",
              "            title=\"Convert this dataframe to an interactive table.\"\n",
              "            style=\"display:none;\">\n",
              "\n",
              "  <svg xmlns=\"http://www.w3.org/2000/svg\" height=\"24px\" viewBox=\"0 -960 960 960\">\n",
              "    <path d=\"M120-120v-720h720v720H120Zm60-500h600v-160H180v160Zm220 220h160v-160H400v160Zm0 220h160v-160H400v160ZM180-400h160v-160H180v160Zm440 0h160v-160H620v160ZM180-180h160v-160H180v160Zm440 0h160v-160H620v160Z\"/>\n",
              "  </svg>\n",
              "    </button>\n",
              "\n",
              "  <style>\n",
              "    .colab-df-container {\n",
              "      display:flex;\n",
              "      gap: 12px;\n",
              "    }\n",
              "\n",
              "    .colab-df-convert {\n",
              "      background-color: #E8F0FE;\n",
              "      border: none;\n",
              "      border-radius: 50%;\n",
              "      cursor: pointer;\n",
              "      display: none;\n",
              "      fill: #1967D2;\n",
              "      height: 32px;\n",
              "      padding: 0 0 0 0;\n",
              "      width: 32px;\n",
              "    }\n",
              "\n",
              "    .colab-df-convert:hover {\n",
              "      background-color: #E2EBFA;\n",
              "      box-shadow: 0px 1px 2px rgba(60, 64, 67, 0.3), 0px 1px 3px 1px rgba(60, 64, 67, 0.15);\n",
              "      fill: #174EA6;\n",
              "    }\n",
              "\n",
              "    .colab-df-buttons div {\n",
              "      margin-bottom: 4px;\n",
              "    }\n",
              "\n",
              "    [theme=dark] .colab-df-convert {\n",
              "      background-color: #3B4455;\n",
              "      fill: #D2E3FC;\n",
              "    }\n",
              "\n",
              "    [theme=dark] .colab-df-convert:hover {\n",
              "      background-color: #434B5C;\n",
              "      box-shadow: 0px 1px 3px 1px rgba(0, 0, 0, 0.15);\n",
              "      filter: drop-shadow(0px 1px 2px rgba(0, 0, 0, 0.3));\n",
              "      fill: #FFFFFF;\n",
              "    }\n",
              "  </style>\n",
              "\n",
              "    <script>\n",
              "      const buttonEl =\n",
              "        document.querySelector('#df-71a7a811-1b50-447e-8140-9d7802fac416 button.colab-df-convert');\n",
              "      buttonEl.style.display =\n",
              "        google.colab.kernel.accessAllowed ? 'block' : 'none';\n",
              "\n",
              "      async function convertToInteractive(key) {\n",
              "        const element = document.querySelector('#df-71a7a811-1b50-447e-8140-9d7802fac416');\n",
              "        const dataTable =\n",
              "          await google.colab.kernel.invokeFunction('convertToInteractive',\n",
              "                                                    [key], {});\n",
              "        if (!dataTable) return;\n",
              "\n",
              "        const docLinkHtml = 'Like what you see? Visit the ' +\n",
              "          '<a target=\"_blank\" href=https://colab.research.google.com/notebooks/data_table.ipynb>data table notebook</a>'\n",
              "          + ' to learn more about interactive tables.';\n",
              "        element.innerHTML = '';\n",
              "        dataTable['output_type'] = 'display_data';\n",
              "        await google.colab.output.renderOutput(dataTable, element);\n",
              "        const docLink = document.createElement('div');\n",
              "        docLink.innerHTML = docLinkHtml;\n",
              "        element.appendChild(docLink);\n",
              "      }\n",
              "    </script>\n",
              "  </div>\n",
              "\n",
              "\n",
              "<div id=\"df-829f595b-4c77-4077-94d4-cb6fb827181f\">\n",
              "  <button class=\"colab-df-quickchart\" onclick=\"quickchart('df-829f595b-4c77-4077-94d4-cb6fb827181f')\"\n",
              "            title=\"Suggest charts.\"\n",
              "            style=\"display:none;\">\n",
              "\n",
              "<svg xmlns=\"http://www.w3.org/2000/svg\" height=\"24px\"viewBox=\"0 0 24 24\"\n",
              "     width=\"24px\">\n",
              "    <g>\n",
              "        <path d=\"M19 3H5c-1.1 0-2 .9-2 2v14c0 1.1.9 2 2 2h14c1.1 0 2-.9 2-2V5c0-1.1-.9-2-2-2zM9 17H7v-7h2v7zm4 0h-2V7h2v10zm4 0h-2v-4h2v4z\"/>\n",
              "    </g>\n",
              "</svg>\n",
              "  </button>\n",
              "\n",
              "<style>\n",
              "  .colab-df-quickchart {\n",
              "      --bg-color: #E8F0FE;\n",
              "      --fill-color: #1967D2;\n",
              "      --hover-bg-color: #E2EBFA;\n",
              "      --hover-fill-color: #174EA6;\n",
              "      --disabled-fill-color: #AAA;\n",
              "      --disabled-bg-color: #DDD;\n",
              "  }\n",
              "\n",
              "  [theme=dark] .colab-df-quickchart {\n",
              "      --bg-color: #3B4455;\n",
              "      --fill-color: #D2E3FC;\n",
              "      --hover-bg-color: #434B5C;\n",
              "      --hover-fill-color: #FFFFFF;\n",
              "      --disabled-bg-color: #3B4455;\n",
              "      --disabled-fill-color: #666;\n",
              "  }\n",
              "\n",
              "  .colab-df-quickchart {\n",
              "    background-color: var(--bg-color);\n",
              "    border: none;\n",
              "    border-radius: 50%;\n",
              "    cursor: pointer;\n",
              "    display: none;\n",
              "    fill: var(--fill-color);\n",
              "    height: 32px;\n",
              "    padding: 0;\n",
              "    width: 32px;\n",
              "  }\n",
              "\n",
              "  .colab-df-quickchart:hover {\n",
              "    background-color: var(--hover-bg-color);\n",
              "    box-shadow: 0 1px 2px rgba(60, 64, 67, 0.3), 0 1px 3px 1px rgba(60, 64, 67, 0.15);\n",
              "    fill: var(--button-hover-fill-color);\n",
              "  }\n",
              "\n",
              "  .colab-df-quickchart-complete:disabled,\n",
              "  .colab-df-quickchart-complete:disabled:hover {\n",
              "    background-color: var(--disabled-bg-color);\n",
              "    fill: var(--disabled-fill-color);\n",
              "    box-shadow: none;\n",
              "  }\n",
              "\n",
              "  .colab-df-spinner {\n",
              "    border: 2px solid var(--fill-color);\n",
              "    border-color: transparent;\n",
              "    border-bottom-color: var(--fill-color);\n",
              "    animation:\n",
              "      spin 1s steps(1) infinite;\n",
              "  }\n",
              "\n",
              "  @keyframes spin {\n",
              "    0% {\n",
              "      border-color: transparent;\n",
              "      border-bottom-color: var(--fill-color);\n",
              "      border-left-color: var(--fill-color);\n",
              "    }\n",
              "    20% {\n",
              "      border-color: transparent;\n",
              "      border-left-color: var(--fill-color);\n",
              "      border-top-color: var(--fill-color);\n",
              "    }\n",
              "    30% {\n",
              "      border-color: transparent;\n",
              "      border-left-color: var(--fill-color);\n",
              "      border-top-color: var(--fill-color);\n",
              "      border-right-color: var(--fill-color);\n",
              "    }\n",
              "    40% {\n",
              "      border-color: transparent;\n",
              "      border-right-color: var(--fill-color);\n",
              "      border-top-color: var(--fill-color);\n",
              "    }\n",
              "    60% {\n",
              "      border-color: transparent;\n",
              "      border-right-color: var(--fill-color);\n",
              "    }\n",
              "    80% {\n",
              "      border-color: transparent;\n",
              "      border-right-color: var(--fill-color);\n",
              "      border-bottom-color: var(--fill-color);\n",
              "    }\n",
              "    90% {\n",
              "      border-color: transparent;\n",
              "      border-bottom-color: var(--fill-color);\n",
              "    }\n",
              "  }\n",
              "</style>\n",
              "\n",
              "  <script>\n",
              "    async function quickchart(key) {\n",
              "      const quickchartButtonEl =\n",
              "        document.querySelector('#' + key + ' button');\n",
              "      quickchartButtonEl.disabled = true;  // To prevent multiple clicks.\n",
              "      quickchartButtonEl.classList.add('colab-df-spinner');\n",
              "      try {\n",
              "        const charts = await google.colab.kernel.invokeFunction(\n",
              "            'suggestCharts', [key], {});\n",
              "      } catch (error) {\n",
              "        console.error('Error during call to suggestCharts:', error);\n",
              "      }\n",
              "      quickchartButtonEl.classList.remove('colab-df-spinner');\n",
              "      quickchartButtonEl.classList.add('colab-df-quickchart-complete');\n",
              "    }\n",
              "    (() => {\n",
              "      let quickchartButtonEl =\n",
              "        document.querySelector('#df-829f595b-4c77-4077-94d4-cb6fb827181f button');\n",
              "      quickchartButtonEl.style.display =\n",
              "        google.colab.kernel.accessAllowed ? 'block' : 'none';\n",
              "    })();\n",
              "  </script>\n",
              "</div>\n",
              "    </div>\n",
              "  </div>\n"
            ]
          },
          "metadata": {},
          "execution_count": 101
        }
      ]
    },
    {
      "cell_type": "code",
      "source": [
        "# Filter for columns with more than 50% missing values\n",
        "columns_with_more_than_50_percent_missing = missing_data_info[missing_data_info['Percentage Missing'] > 50]\n",
        "\n",
        "# Print the filtered information\n",
        "print(\"Columns with more than 50% missing values:\")\n",
        "print(columns_with_more_than_50_percent_missing)"
      ],
      "metadata": {
        "colab": {
          "base_uri": "https://localhost:8080/"
        },
        "id": "MGSNLYEPFZp4",
        "outputId": "e8ed3c0d-252e-4b6f-9cf9-d377688ce972"
      },
      "execution_count": null,
      "outputs": [
        {
          "output_type": "stream",
          "name": "stdout",
          "text": [
            "Columns with more than 50% missing values:\n",
            "              Column Name  Total Missing Values  Percentage Missing\n",
            "26   UnlimitedDataComment                   315          100.000000\n",
            "20        DataRateComment                   306           97.142857\n",
            "19  UnlimitedValueComment                   302           95.873016\n",
            "25    IncludedDataComment                   175           55.555556\n"
          ]
        }
      ]
    },
    {
      "cell_type": "code",
      "source": [
        "# List of columns to drop which has description in it\n",
        "columns_to_drop = [\n",
        "    'UnlimitedDataComment',\n",
        "    'DataRateComment',\n",
        "    'UnlimitedValueComment',\n",
        "    'IncludedDataComment'\n",
        "]\n",
        "\n",
        "# Drop the specified columns\n",
        "mobileproduct_df = mobileproduct_df.drop(columns=columns_to_drop)"
      ],
      "metadata": {
        "id": "_DoAI-HwFhu0"
      },
      "execution_count": null,
      "outputs": []
    },
    {
      "cell_type": "code",
      "source": [
        "# Define the substrings to search for in column names\n",
        "substrings_to_search = ['key', 'comment', 'id','description']\n",
        "\n",
        "# Get the column names that contain those word\n",
        "matching_columns = [col for col in mobileproduct_df.columns if any(sub in col.lower() for sub in substrings_to_search)]\n",
        "\n",
        "# Print the matching column names\n",
        "print(\"Columns containing 'key,' 'comment,', 'id' or 'description in their names:\")\n",
        "for col in matching_columns:\n",
        "    print(col)"
      ],
      "metadata": {
        "colab": {
          "base_uri": "https://localhost:8080/"
        },
        "id": "fAjW6xKyEvbg",
        "outputId": "3b0d2765-467a-47b4-a389-63c90ad12ce6"
      },
      "execution_count": null,
      "outputs": [
        {
          "output_type": "stream",
          "name": "stdout",
          "text": [
            "Columns containing 'key,' 'comment,', 'id' or 'description in their names:\n",
            "MobileProductKey\n",
            "ProductID\n",
            "DomesticVideoFlagFall\n",
            "DomesticVideoCallRate\n",
            "IncludedDataDescriptionMB\n",
            "IncludedDataDescriptionGB\n",
            "IncludedValueComment\n",
            "IncludedMessagesComment\n",
            "DataRateOverrideDescription\n",
            "IncludedValueContainsVideo\n",
            "MobilePhoneNetworkID\n"
          ]
        }
      ]
    },
    {
      "cell_type": "code",
      "source": [
        "# List of columns to drop which has description in it\n",
        "columns_to_drop = [\n",
        "    'IncludedValueComment',\n",
        "    'IncludedMessagesComment',\n",
        "    'DataRateOverrideDescription',\n",
        "]\n",
        "\n",
        "# Drop the specified columns\n",
        "mobileproduct_df = mobileproduct_df.drop(columns=columns_to_drop)"
      ],
      "metadata": {
        "id": "hXekd8a8Bd-f"
      },
      "execution_count": null,
      "outputs": []
    },
    {
      "cell_type": "code",
      "source": [
        "constant_columns = []\n",
        "\n",
        "for column in mobileproduct_df.columns:\n",
        "    if mobileproduct_df[column].nunique() == 1:\n",
        "        constant_columns.append(column)\n",
        "\n",
        "# Print the constant columns\n",
        "print(\"Constant Columns:\")\n",
        "print(constant_columns)"
      ],
      "metadata": {
        "colab": {
          "base_uri": "https://localhost:8080/"
        },
        "id": "fRlliUW7Bd62",
        "outputId": "a6e45202-39e9-4437-ba8d-d4f44b36f2e2"
      },
      "execution_count": null,
      "outputs": [
        {
          "output_type": "stream",
          "name": "stdout",
          "text": [
            "Constant Columns:\n",
            "['Deleted']\n"
          ]
        }
      ]
    },
    {
      "cell_type": "code",
      "source": [
        "# List of columns to drop which has description in it\n",
        "columns_to_drop = [\n",
        "    'Deleted',\n",
        "]\n",
        "\n",
        "# Drop the specified columns\n",
        "mobileproduct_df = mobileproduct_df.drop(columns=columns_to_drop)"
      ],
      "metadata": {
        "id": "tDtSdEWYGrAl"
      },
      "execution_count": null,
      "outputs": []
    },
    {
      "cell_type": "code",
      "source": [
        "mobileproduct_df.shape"
      ],
      "metadata": {
        "colab": {
          "base_uri": "https://localhost:8080/"
        },
        "id": "4CVIcDaiGuCX",
        "outputId": "0b361b6a-2db2-49f7-8ab1-1e181094a273"
      },
      "execution_count": null,
      "outputs": [
        {
          "output_type": "execute_result",
          "data": {
            "text/plain": [
              "(315, 25)"
            ]
          },
          "metadata": {},
          "execution_count": 108
        }
      ]
    },
    {
      "cell_type": "code",
      "source": [
        "mobileproduct_df.columns"
      ],
      "metadata": {
        "colab": {
          "base_uri": "https://localhost:8080/"
        },
        "id": "J-8_e-zZGwch",
        "outputId": "85a11721-532f-47c5-b9e5-d3c807024574"
      },
      "execution_count": null,
      "outputs": [
        {
          "output_type": "execute_result",
          "data": {
            "text/plain": [
              "Index(['MobileProductKey', 'ProductID', 'StartDate', 'EndDate',\n",
              "       'DomesticFlagFall', 'DomesticCallRate', 'DomesticSmsRate',\n",
              "       'DomesticMmsRate', 'DomesticVideoFlagFall', 'DomesticVideoCallRate',\n",
              "       'IncludedValue', 'IncludedData', 'IncludedDataDescriptionMB',\n",
              "       'IncludedDataDescriptionGB', 'DataRate', 'IncludedMessages',\n",
              "       'IncludedValueContainsSms', 'IncludedValueContainsMms',\n",
              "       'IncludedValueContainsVideo', 'MobilePlanTypeName',\n",
              "       'MobilePlanTypeNameDerived', 'is5GNetwork', 'MobilePhonePlan',\n",
              "       'MobilePhoneNetworkName', 'MobilePhoneNetworkID'],\n",
              "      dtype='object')"
            ]
          },
          "metadata": {},
          "execution_count": 109
        }
      ]
    },
    {
      "cell_type": "code",
      "source": [
        "mobileproduct_df.rename(columns={'IncludedData':'IncludedDataMB'}, inplace=True)"
      ],
      "metadata": {
        "id": "coUiFcB8xjdq"
      },
      "execution_count": null,
      "outputs": []
    },
    {
      "cell_type": "code",
      "source": [
        "mobileproduct_df.columns"
      ],
      "metadata": {
        "colab": {
          "base_uri": "https://localhost:8080/"
        },
        "id": "6zRGAW9lG1y2",
        "outputId": "b35f714f-6f51-46d2-8a46-27694113c533"
      },
      "execution_count": null,
      "outputs": [
        {
          "output_type": "execute_result",
          "data": {
            "text/plain": [
              "Index(['MobileProductKey', 'ProductID', 'StartDate', 'EndDate',\n",
              "       'DomesticFlagFall', 'DomesticCallRate', 'DomesticSmsRate',\n",
              "       'DomesticMmsRate', 'DomesticVideoFlagFall', 'DomesticVideoCallRate',\n",
              "       'IncludedValue', 'IncludedDataMB', 'IncludedDataDescriptionMB',\n",
              "       'IncludedDataDescriptionGB', 'DataRate', 'IncludedMessages',\n",
              "       'IncludedValueContainsSms', 'IncludedValueContainsMms',\n",
              "       'IncludedValueContainsVideo', 'MobilePlanTypeName',\n",
              "       'MobilePlanTypeNameDerived', 'is5GNetwork', 'MobilePhonePlan',\n",
              "       'MobilePhoneNetworkName', 'MobilePhoneNetworkID'],\n",
              "      dtype='object')"
            ]
          },
          "metadata": {},
          "execution_count": 111
        }
      ]
    },
    {
      "cell_type": "code",
      "source": [
        "# MB GB"
      ],
      "metadata": {
        "id": "VOwJOXXmz2v4"
      },
      "execution_count": null,
      "outputs": []
    },
    {
      "cell_type": "markdown",
      "source": [
        "# Joining Data"
      ],
      "metadata": {
        "id": "3mLKQagiHsPb"
      }
    },
    {
      "cell_type": "code",
      "source": [
        "fact_df.columns"
      ],
      "metadata": {
        "colab": {
          "base_uri": "https://localhost:8080/"
        },
        "id": "X113RtXhKSuj",
        "outputId": "f7a9eae2-9bf7-46e5-8a42-cde5c705bba1"
      },
      "execution_count": null,
      "outputs": [
        {
          "output_type": "execute_result",
          "data": {
            "text/plain": [
              "Index(['session_ID', 'ViewedOnTime', 'ViewedOnDate', 'ProductKey',\n",
              "       'CampaignKey', 'UserIdKey', 'SupplierKey', 'PageCount', 'IsAd',\n",
              "       'IsTransaction', 'IsProduct', 'AffiliateName', 'DeviceType',\n",
              "       'ContractLengthMonths', 'ContractLengthDesc', 'Source', 'Medium',\n",
              "       'Campaign', 'WOHeadlinePlanFixedDiscount', 'WOHeadlinePhoneDiscount',\n",
              "       'WOHeadlineExtraDataDiscount', 'OneOffFeeTotal', 'Phonemonthlycost'],\n",
              "      dtype='object')"
            ]
          },
          "metadata": {},
          "execution_count": 113
        }
      ]
    },
    {
      "cell_type": "code",
      "source": [
        "product_df.columns"
      ],
      "metadata": {
        "colab": {
          "base_uri": "https://localhost:8080/"
        },
        "id": "5Zbm3vklKVYN",
        "outputId": "ebf6a6c8-d53e-48d5-8b19-6ca548b123a6"
      },
      "execution_count": null,
      "outputs": [
        {
          "output_type": "execute_result",
          "data": {
            "text/plain": [
              "Index(['ProductKey', 'product_indv_ID', 'StartDate', 'EndDate', 'Name',\n",
              "       'CurrentName', 'Active', 'Preview', 'BaseCost', 'PaymentFrequency',\n",
              "       'PaymentFrequencyDerived_in_days', 'PaymentPeriod', 'SupplierID',\n",
              "       'GlobalShowOnWhistleout', 'MobileProductKey', 'EditorsPickName'],\n",
              "      dtype='object')"
            ]
          },
          "metadata": {},
          "execution_count": 114
        }
      ]
    },
    {
      "cell_type": "code",
      "source": [
        "campaign_df.columns"
      ],
      "metadata": {
        "colab": {
          "base_uri": "https://localhost:8080/"
        },
        "id": "1wPPO8LiKXZ7",
        "outputId": "b7d882b0-118d-49da-8d14-63a83c036733"
      },
      "execution_count": null,
      "outputs": [
        {
          "output_type": "execute_result",
          "data": {
            "text/plain": [
              "Index(['CampaignKey', 'campaign_indv_ID', 'StartDate', 'EndDate', 'Active',\n",
              "       'Preview', 'Name', 'Sequence', 'BusinessStartDate', 'BusinessEndDate',\n",
              "       'PromotionName', 'SupplierID', 'Exclusive',\n",
              "       'OtherIncentive1mthTCOTotal', 'OtherIncentive6mthTCOTotal',\n",
              "       'OtherIncentive12mthTCOTotal', 'OtherIncentiveOneOffTotal',\n",
              "       'FixedIncentive1mthTCOTotal', 'FixedIncentive6mthTCOTotal',\n",
              "       'FixedIncentive12mthTCOTotal', 'FixedIncentiveOneOffTotal',\n",
              "       'PercentageIncentive1mthTCOTotal', 'PercentageIncentive6mthTCOTotal',\n",
              "       'PercentageIncentive12mthTCOTotal', 'PercentageIncentiveOneOffTotal',\n",
              "       'PhoneIncentive1mthTCOTotal', 'PhoneIncentive6mthTCOTotal',\n",
              "       'PhoneIncentive12mthTCOTotal', 'ExtraIncentive1mthTCOTotal',\n",
              "       'ExtraIncentive6mthTCOTotal', 'ExtraIncentive12mthTCOTotal',\n",
              "       'ExtraIncentiveOneOffTotal'],\n",
              "      dtype='object')"
            ]
          },
          "metadata": {},
          "execution_count": 115
        }
      ]
    },
    {
      "cell_type": "code",
      "source": [
        "supplier_df.columns"
      ],
      "metadata": {
        "colab": {
          "base_uri": "https://localhost:8080/"
        },
        "id": "W8nZDtzUKZaI",
        "outputId": "130a4599-2895-45f3-b7e3-fdbc75b6f470"
      },
      "execution_count": null,
      "outputs": [
        {
          "output_type": "execute_result",
          "data": {
            "text/plain": [
              "Index(['SupplierKey', 'supplier_indv_ID', 'StartDate', 'EndDate', 'Name',\n",
              "       'Active'],\n",
              "      dtype='object')"
            ]
          },
          "metadata": {},
          "execution_count": 116
        }
      ]
    },
    {
      "cell_type": "code",
      "source": [
        "mobileproduct_df.columns"
      ],
      "metadata": {
        "colab": {
          "base_uri": "https://localhost:8080/"
        },
        "id": "Ct1V5Ty1KbYb",
        "outputId": "64543ca9-cfe7-4c85-872b-d6cdf2e52bed"
      },
      "execution_count": null,
      "outputs": [
        {
          "output_type": "execute_result",
          "data": {
            "text/plain": [
              "Index(['MobileProductKey', 'ProductID', 'StartDate', 'EndDate',\n",
              "       'DomesticFlagFall', 'DomesticCallRate', 'DomesticSmsRate',\n",
              "       'DomesticMmsRate', 'DomesticVideoFlagFall', 'DomesticVideoCallRate',\n",
              "       'IncludedValue', 'IncludedDataMB', 'IncludedDataDescriptionMB',\n",
              "       'IncludedDataDescriptionGB', 'DataRate', 'IncludedMessages',\n",
              "       'IncludedValueContainsSms', 'IncludedValueContainsMms',\n",
              "       'IncludedValueContainsVideo', 'MobilePlanTypeName',\n",
              "       'MobilePlanTypeNameDerived', 'is5GNetwork', 'MobilePhonePlan',\n",
              "       'MobilePhoneNetworkName', 'MobilePhoneNetworkID'],\n",
              "      dtype='object')"
            ]
          },
          "metadata": {},
          "execution_count": 117
        }
      ]
    },
    {
      "cell_type": "code",
      "source": [
        "# # Perform LEFT JOINs using Pandas merge()\n",
        "# merged_data_inner = fact_df.merge(product_df, left_on='ProductKey', right_on= 'ProductKey', how='inner', suffixes=('', '_product_table')) \\\n",
        "#                         .merge(campaign_df, left_on='CampaignKey', right_on= 'CampaignKey', how='inner', suffixes=('', '_campaign_table')) \\\n",
        "#                         .merge(supplier_df, left_on='SupplierKey', right_on= 'SupplierKey', how='inner', suffixes=('', '_supplier_table'))\n",
        "\n",
        "# merged_data_inner = merged_data_inner.merge(mobileproduct_df, left_on='MobileProductKey', right_on='MobileProductKey', how='inner', suffixes=('', '_mobileproduct_table'))\n"
      ],
      "metadata": {
        "id": "d91DHHakKDmW"
      },
      "execution_count": null,
      "outputs": []
    },
    {
      "cell_type": "code",
      "source": [
        "# Perform LEFT JOINs using Pandas merge()\n",
        "merged_data = fact_df.merge(product_df, left_on='ProductKey', right_on= 'ProductKey', how='left', suffixes=('', '_product_table')) \\\n",
        "                        .merge(campaign_df, left_on='CampaignKey', right_on= 'CampaignKey', how='left', suffixes=('', '_campaign_table')) \\\n",
        "                        .merge(supplier_df, left_on='SupplierKey', right_on= 'SupplierKey', how='left', suffixes=('', '_supplier_table'))\n",
        "\n",
        "merged_data = merged_data.merge(mobileproduct_df, left_on='MobileProductKey', right_on='MobileProductKey', how='left', suffixes=('', '_mobileproduct_table'))\n"
      ],
      "metadata": {
        "id": "37FQ9KcvsUXH"
      },
      "execution_count": null,
      "outputs": []
    },
    {
      "cell_type": "code",
      "source": [
        "merged_data.shape"
      ],
      "metadata": {
        "colab": {
          "base_uri": "https://localhost:8080/"
        },
        "id": "K8fI7N_AKucT",
        "outputId": "87e0b8f2-58ed-4c07-a0f0-b2d0cf15eda8"
      },
      "execution_count": null,
      "outputs": [
        {
          "output_type": "execute_result",
          "data": {
            "text/plain": [
              "(483275, 98)"
            ]
          },
          "metadata": {},
          "execution_count": 120
        }
      ]
    },
    {
      "cell_type": "code",
      "source": [
        "merged_data.IsTransaction.sum()"
      ],
      "metadata": {
        "colab": {
          "base_uri": "https://localhost:8080/"
        },
        "id": "pO2EE9Txu2Xp",
        "outputId": "5c512609-c0d0-4df5-98d2-adacaa0b0050"
      },
      "execution_count": null,
      "outputs": [
        {
          "output_type": "execute_result",
          "data": {
            "text/plain": [
              "149104"
            ]
          },
          "metadata": {},
          "execution_count": 121
        }
      ]
    },
    {
      "cell_type": "code",
      "source": [
        "# merged_data_inner.shape"
      ],
      "metadata": {
        "colab": {
          "base_uri": "https://localhost:8080/"
        },
        "id": "jB2JGAvfufZW",
        "outputId": "0152e021-911e-49fa-b2e1-244f6c4287c9"
      },
      "execution_count": null,
      "outputs": [
        {
          "output_type": "execute_result",
          "data": {
            "text/plain": [
              "(122087, 98)"
            ]
          },
          "metadata": {},
          "execution_count": 122
        }
      ]
    },
    {
      "cell_type": "code",
      "source": [
        "# merged_data_inner.IsTransaction.sum()"
      ],
      "metadata": {
        "colab": {
          "base_uri": "https://localhost:8080/"
        },
        "id": "U0_K4k74uhHO",
        "outputId": "3994ab65-d7b6-4025-f19f-3d7ee1ebfec2"
      },
      "execution_count": null,
      "outputs": [
        {
          "output_type": "execute_result",
          "data": {
            "text/plain": [
              "118231"
            ]
          },
          "metadata": {},
          "execution_count": 123
        }
      ]
    },
    {
      "cell_type": "code",
      "source": [
        "merged_data['EditorsPickName'].nunique()"
      ],
      "metadata": {
        "colab": {
          "base_uri": "https://localhost:8080/"
        },
        "id": "wUNis8Lg6Z58",
        "outputId": "ec1e25e6-7860-4320-aa04-a15015fcf6ba"
      },
      "execution_count": null,
      "outputs": [
        {
          "output_type": "execute_result",
          "data": {
            "text/plain": [
              "2"
            ]
          },
          "metadata": {},
          "execution_count": 124
        }
      ]
    },
    {
      "cell_type": "code",
      "source": [
        "df = merged_data"
      ],
      "metadata": {
        "id": "BRY4Q2TOK3Dy"
      },
      "execution_count": null,
      "outputs": []
    },
    {
      "cell_type": "code",
      "source": [
        "# column names\n",
        "column_names = df.columns.tolist()\n",
        "for i, column_name in enumerate(column_names):\n",
        "    print(f\"Columns {i+1}: {column_name}\")"
      ],
      "metadata": {
        "colab": {
          "base_uri": "https://localhost:8080/"
        },
        "id": "le6G5KX0KyCX",
        "outputId": "d1b8f0f3-de00-40db-e226-04a25e0f7580"
      },
      "execution_count": null,
      "outputs": [
        {
          "output_type": "stream",
          "name": "stdout",
          "text": [
            "Columns 1: session_ID\n",
            "Columns 2: ViewedOnTime\n",
            "Columns 3: ViewedOnDate\n",
            "Columns 4: ProductKey\n",
            "Columns 5: CampaignKey\n",
            "Columns 6: UserIdKey\n",
            "Columns 7: SupplierKey\n",
            "Columns 8: PageCount\n",
            "Columns 9: IsAd\n",
            "Columns 10: IsTransaction\n",
            "Columns 11: IsProduct\n",
            "Columns 12: AffiliateName\n",
            "Columns 13: DeviceType\n",
            "Columns 14: ContractLengthMonths\n",
            "Columns 15: ContractLengthDesc\n",
            "Columns 16: Source\n",
            "Columns 17: Medium\n",
            "Columns 18: Campaign\n",
            "Columns 19: WOHeadlinePlanFixedDiscount\n",
            "Columns 20: WOHeadlinePhoneDiscount\n",
            "Columns 21: WOHeadlineExtraDataDiscount\n",
            "Columns 22: OneOffFeeTotal\n",
            "Columns 23: Phonemonthlycost\n",
            "Columns 24: product_indv_ID\n",
            "Columns 25: StartDate\n",
            "Columns 26: EndDate\n",
            "Columns 27: Name\n",
            "Columns 28: CurrentName\n",
            "Columns 29: Active\n",
            "Columns 30: Preview\n",
            "Columns 31: BaseCost\n",
            "Columns 32: PaymentFrequency\n",
            "Columns 33: PaymentFrequencyDerived_in_days\n",
            "Columns 34: PaymentPeriod\n",
            "Columns 35: SupplierID\n",
            "Columns 36: GlobalShowOnWhistleout\n",
            "Columns 37: MobileProductKey\n",
            "Columns 38: EditorsPickName\n",
            "Columns 39: campaign_indv_ID\n",
            "Columns 40: StartDate_campaign_table\n",
            "Columns 41: EndDate_campaign_table\n",
            "Columns 42: Active_campaign_table\n",
            "Columns 43: Preview_campaign_table\n",
            "Columns 44: Name_campaign_table\n",
            "Columns 45: Sequence\n",
            "Columns 46: BusinessStartDate\n",
            "Columns 47: BusinessEndDate\n",
            "Columns 48: PromotionName\n",
            "Columns 49: SupplierID_campaign_table\n",
            "Columns 50: Exclusive\n",
            "Columns 51: OtherIncentive1mthTCOTotal\n",
            "Columns 52: OtherIncentive6mthTCOTotal\n",
            "Columns 53: OtherIncentive12mthTCOTotal\n",
            "Columns 54: OtherIncentiveOneOffTotal\n",
            "Columns 55: FixedIncentive1mthTCOTotal\n",
            "Columns 56: FixedIncentive6mthTCOTotal\n",
            "Columns 57: FixedIncentive12mthTCOTotal\n",
            "Columns 58: FixedIncentiveOneOffTotal\n",
            "Columns 59: PercentageIncentive1mthTCOTotal\n",
            "Columns 60: PercentageIncentive6mthTCOTotal\n",
            "Columns 61: PercentageIncentive12mthTCOTotal\n",
            "Columns 62: PercentageIncentiveOneOffTotal\n",
            "Columns 63: PhoneIncentive1mthTCOTotal\n",
            "Columns 64: PhoneIncentive6mthTCOTotal\n",
            "Columns 65: PhoneIncentive12mthTCOTotal\n",
            "Columns 66: ExtraIncentive1mthTCOTotal\n",
            "Columns 67: ExtraIncentive6mthTCOTotal\n",
            "Columns 68: ExtraIncentive12mthTCOTotal\n",
            "Columns 69: ExtraIncentiveOneOffTotal\n",
            "Columns 70: supplier_indv_ID\n",
            "Columns 71: StartDate_supplier_table\n",
            "Columns 72: EndDate_supplier_table\n",
            "Columns 73: Name_supplier_table\n",
            "Columns 74: Active_supplier_table\n",
            "Columns 75: ProductID\n",
            "Columns 76: StartDate_mobileproduct_table\n",
            "Columns 77: EndDate_mobileproduct_table\n",
            "Columns 78: DomesticFlagFall\n",
            "Columns 79: DomesticCallRate\n",
            "Columns 80: DomesticSmsRate\n",
            "Columns 81: DomesticMmsRate\n",
            "Columns 82: DomesticVideoFlagFall\n",
            "Columns 83: DomesticVideoCallRate\n",
            "Columns 84: IncludedValue\n",
            "Columns 85: IncludedDataMB\n",
            "Columns 86: IncludedDataDescriptionMB\n",
            "Columns 87: IncludedDataDescriptionGB\n",
            "Columns 88: DataRate\n",
            "Columns 89: IncludedMessages\n",
            "Columns 90: IncludedValueContainsSms\n",
            "Columns 91: IncludedValueContainsMms\n",
            "Columns 92: IncludedValueContainsVideo\n",
            "Columns 93: MobilePlanTypeName\n",
            "Columns 94: MobilePlanTypeNameDerived\n",
            "Columns 95: is5GNetwork\n",
            "Columns 96: MobilePhonePlan\n",
            "Columns 97: MobilePhoneNetworkName\n",
            "Columns 98: MobilePhoneNetworkID\n"
          ]
        }
      ]
    },
    {
      "cell_type": "code",
      "source": [
        "# Calculate the total number of missing values per column\n",
        "missing_values = df.isnull().sum()\n",
        "\n",
        "# Calculate the percentage of missing values per column\n",
        "percentage_missing = (missing_values / len(df)) * 100\n",
        "\n",
        "# Create a DataFrame to display the results\n",
        "missing_data_info = pd.DataFrame({\n",
        "    'Column Name': missing_values.index,\n",
        "    'Total Missing Values': missing_values.values,\n",
        "    'Percentage Missing': percentage_missing.values\n",
        "})\n",
        "\n",
        "# Sort the DataFrame by percentage of missing values (descending)\n",
        "missing_data_info = missing_data_info.sort_values(by='Percentage Missing', ascending=False)\n",
        "\n",
        "# Print the missing data information\n",
        "missing_data_info"
      ],
      "metadata": {
        "colab": {
          "base_uri": "https://localhost:8080/",
          "height": 424
        },
        "id": "9I-V5lN0LD5S",
        "outputId": "27e13233-67af-48f8-eaea-4056456567d3"
      },
      "execution_count": null,
      "outputs": [
        {
          "output_type": "execute_result",
          "data": {
            "text/plain": [
              "                    Column Name  Total Missing Values  Percentage Missing\n",
              "49                    Exclusive                361188           74.737572\n",
              "40       EndDate_campaign_table                361188           74.737572\n",
              "64  PhoneIncentive12mthTCOTotal                361188           74.737572\n",
              "63   PhoneIncentive6mthTCOTotal                361188           74.737572\n",
              "62   PhoneIncentive1mthTCOTotal                361188           74.737572\n",
              "..                          ...                   ...                 ...\n",
              "73        Active_supplier_table                     0            0.000000\n",
              "71       EndDate_supplier_table                     0            0.000000\n",
              "70     StartDate_supplier_table                     0            0.000000\n",
              "69             supplier_indv_ID                     0            0.000000\n",
              "0                    session_ID                     0            0.000000\n",
              "\n",
              "[98 rows x 3 columns]"
            ],
            "text/html": [
              "\n",
              "  <div id=\"df-12ec683c-26f3-45e8-a5aa-cf6f1ebc05e6\" class=\"colab-df-container\">\n",
              "    <div>\n",
              "<style scoped>\n",
              "    .dataframe tbody tr th:only-of-type {\n",
              "        vertical-align: middle;\n",
              "    }\n",
              "\n",
              "    .dataframe tbody tr th {\n",
              "        vertical-align: top;\n",
              "    }\n",
              "\n",
              "    .dataframe thead th {\n",
              "        text-align: right;\n",
              "    }\n",
              "</style>\n",
              "<table border=\"1\" class=\"dataframe\">\n",
              "  <thead>\n",
              "    <tr style=\"text-align: right;\">\n",
              "      <th></th>\n",
              "      <th>Column Name</th>\n",
              "      <th>Total Missing Values</th>\n",
              "      <th>Percentage Missing</th>\n",
              "    </tr>\n",
              "  </thead>\n",
              "  <tbody>\n",
              "    <tr>\n",
              "      <th>49</th>\n",
              "      <td>Exclusive</td>\n",
              "      <td>361188</td>\n",
              "      <td>74.737572</td>\n",
              "    </tr>\n",
              "    <tr>\n",
              "      <th>40</th>\n",
              "      <td>EndDate_campaign_table</td>\n",
              "      <td>361188</td>\n",
              "      <td>74.737572</td>\n",
              "    </tr>\n",
              "    <tr>\n",
              "      <th>64</th>\n",
              "      <td>PhoneIncentive12mthTCOTotal</td>\n",
              "      <td>361188</td>\n",
              "      <td>74.737572</td>\n",
              "    </tr>\n",
              "    <tr>\n",
              "      <th>63</th>\n",
              "      <td>PhoneIncentive6mthTCOTotal</td>\n",
              "      <td>361188</td>\n",
              "      <td>74.737572</td>\n",
              "    </tr>\n",
              "    <tr>\n",
              "      <th>62</th>\n",
              "      <td>PhoneIncentive1mthTCOTotal</td>\n",
              "      <td>361188</td>\n",
              "      <td>74.737572</td>\n",
              "    </tr>\n",
              "    <tr>\n",
              "      <th>...</th>\n",
              "      <td>...</td>\n",
              "      <td>...</td>\n",
              "      <td>...</td>\n",
              "    </tr>\n",
              "    <tr>\n",
              "      <th>73</th>\n",
              "      <td>Active_supplier_table</td>\n",
              "      <td>0</td>\n",
              "      <td>0.000000</td>\n",
              "    </tr>\n",
              "    <tr>\n",
              "      <th>71</th>\n",
              "      <td>EndDate_supplier_table</td>\n",
              "      <td>0</td>\n",
              "      <td>0.000000</td>\n",
              "    </tr>\n",
              "    <tr>\n",
              "      <th>70</th>\n",
              "      <td>StartDate_supplier_table</td>\n",
              "      <td>0</td>\n",
              "      <td>0.000000</td>\n",
              "    </tr>\n",
              "    <tr>\n",
              "      <th>69</th>\n",
              "      <td>supplier_indv_ID</td>\n",
              "      <td>0</td>\n",
              "      <td>0.000000</td>\n",
              "    </tr>\n",
              "    <tr>\n",
              "      <th>0</th>\n",
              "      <td>session_ID</td>\n",
              "      <td>0</td>\n",
              "      <td>0.000000</td>\n",
              "    </tr>\n",
              "  </tbody>\n",
              "</table>\n",
              "<p>98 rows × 3 columns</p>\n",
              "</div>\n",
              "    <div class=\"colab-df-buttons\">\n",
              "\n",
              "  <div class=\"colab-df-container\">\n",
              "    <button class=\"colab-df-convert\" onclick=\"convertToInteractive('df-12ec683c-26f3-45e8-a5aa-cf6f1ebc05e6')\"\n",
              "            title=\"Convert this dataframe to an interactive table.\"\n",
              "            style=\"display:none;\">\n",
              "\n",
              "  <svg xmlns=\"http://www.w3.org/2000/svg\" height=\"24px\" viewBox=\"0 -960 960 960\">\n",
              "    <path d=\"M120-120v-720h720v720H120Zm60-500h600v-160H180v160Zm220 220h160v-160H400v160Zm0 220h160v-160H400v160ZM180-400h160v-160H180v160Zm440 0h160v-160H620v160ZM180-180h160v-160H180v160Zm440 0h160v-160H620v160Z\"/>\n",
              "  </svg>\n",
              "    </button>\n",
              "\n",
              "  <style>\n",
              "    .colab-df-container {\n",
              "      display:flex;\n",
              "      gap: 12px;\n",
              "    }\n",
              "\n",
              "    .colab-df-convert {\n",
              "      background-color: #E8F0FE;\n",
              "      border: none;\n",
              "      border-radius: 50%;\n",
              "      cursor: pointer;\n",
              "      display: none;\n",
              "      fill: #1967D2;\n",
              "      height: 32px;\n",
              "      padding: 0 0 0 0;\n",
              "      width: 32px;\n",
              "    }\n",
              "\n",
              "    .colab-df-convert:hover {\n",
              "      background-color: #E2EBFA;\n",
              "      box-shadow: 0px 1px 2px rgba(60, 64, 67, 0.3), 0px 1px 3px 1px rgba(60, 64, 67, 0.15);\n",
              "      fill: #174EA6;\n",
              "    }\n",
              "\n",
              "    .colab-df-buttons div {\n",
              "      margin-bottom: 4px;\n",
              "    }\n",
              "\n",
              "    [theme=dark] .colab-df-convert {\n",
              "      background-color: #3B4455;\n",
              "      fill: #D2E3FC;\n",
              "    }\n",
              "\n",
              "    [theme=dark] .colab-df-convert:hover {\n",
              "      background-color: #434B5C;\n",
              "      box-shadow: 0px 1px 3px 1px rgba(0, 0, 0, 0.15);\n",
              "      filter: drop-shadow(0px 1px 2px rgba(0, 0, 0, 0.3));\n",
              "      fill: #FFFFFF;\n",
              "    }\n",
              "  </style>\n",
              "\n",
              "    <script>\n",
              "      const buttonEl =\n",
              "        document.querySelector('#df-12ec683c-26f3-45e8-a5aa-cf6f1ebc05e6 button.colab-df-convert');\n",
              "      buttonEl.style.display =\n",
              "        google.colab.kernel.accessAllowed ? 'block' : 'none';\n",
              "\n",
              "      async function convertToInteractive(key) {\n",
              "        const element = document.querySelector('#df-12ec683c-26f3-45e8-a5aa-cf6f1ebc05e6');\n",
              "        const dataTable =\n",
              "          await google.colab.kernel.invokeFunction('convertToInteractive',\n",
              "                                                    [key], {});\n",
              "        if (!dataTable) return;\n",
              "\n",
              "        const docLinkHtml = 'Like what you see? Visit the ' +\n",
              "          '<a target=\"_blank\" href=https://colab.research.google.com/notebooks/data_table.ipynb>data table notebook</a>'\n",
              "          + ' to learn more about interactive tables.';\n",
              "        element.innerHTML = '';\n",
              "        dataTable['output_type'] = 'display_data';\n",
              "        await google.colab.output.renderOutput(dataTable, element);\n",
              "        const docLink = document.createElement('div');\n",
              "        docLink.innerHTML = docLinkHtml;\n",
              "        element.appendChild(docLink);\n",
              "      }\n",
              "    </script>\n",
              "  </div>\n",
              "\n",
              "\n",
              "<div id=\"df-ec7e2a2e-ee52-4baf-ae1a-d0e44cc464c9\">\n",
              "  <button class=\"colab-df-quickchart\" onclick=\"quickchart('df-ec7e2a2e-ee52-4baf-ae1a-d0e44cc464c9')\"\n",
              "            title=\"Suggest charts.\"\n",
              "            style=\"display:none;\">\n",
              "\n",
              "<svg xmlns=\"http://www.w3.org/2000/svg\" height=\"24px\"viewBox=\"0 0 24 24\"\n",
              "     width=\"24px\">\n",
              "    <g>\n",
              "        <path d=\"M19 3H5c-1.1 0-2 .9-2 2v14c0 1.1.9 2 2 2h14c1.1 0 2-.9 2-2V5c0-1.1-.9-2-2-2zM9 17H7v-7h2v7zm4 0h-2V7h2v10zm4 0h-2v-4h2v4z\"/>\n",
              "    </g>\n",
              "</svg>\n",
              "  </button>\n",
              "\n",
              "<style>\n",
              "  .colab-df-quickchart {\n",
              "      --bg-color: #E8F0FE;\n",
              "      --fill-color: #1967D2;\n",
              "      --hover-bg-color: #E2EBFA;\n",
              "      --hover-fill-color: #174EA6;\n",
              "      --disabled-fill-color: #AAA;\n",
              "      --disabled-bg-color: #DDD;\n",
              "  }\n",
              "\n",
              "  [theme=dark] .colab-df-quickchart {\n",
              "      --bg-color: #3B4455;\n",
              "      --fill-color: #D2E3FC;\n",
              "      --hover-bg-color: #434B5C;\n",
              "      --hover-fill-color: #FFFFFF;\n",
              "      --disabled-bg-color: #3B4455;\n",
              "      --disabled-fill-color: #666;\n",
              "  }\n",
              "\n",
              "  .colab-df-quickchart {\n",
              "    background-color: var(--bg-color);\n",
              "    border: none;\n",
              "    border-radius: 50%;\n",
              "    cursor: pointer;\n",
              "    display: none;\n",
              "    fill: var(--fill-color);\n",
              "    height: 32px;\n",
              "    padding: 0;\n",
              "    width: 32px;\n",
              "  }\n",
              "\n",
              "  .colab-df-quickchart:hover {\n",
              "    background-color: var(--hover-bg-color);\n",
              "    box-shadow: 0 1px 2px rgba(60, 64, 67, 0.3), 0 1px 3px 1px rgba(60, 64, 67, 0.15);\n",
              "    fill: var(--button-hover-fill-color);\n",
              "  }\n",
              "\n",
              "  .colab-df-quickchart-complete:disabled,\n",
              "  .colab-df-quickchart-complete:disabled:hover {\n",
              "    background-color: var(--disabled-bg-color);\n",
              "    fill: var(--disabled-fill-color);\n",
              "    box-shadow: none;\n",
              "  }\n",
              "\n",
              "  .colab-df-spinner {\n",
              "    border: 2px solid var(--fill-color);\n",
              "    border-color: transparent;\n",
              "    border-bottom-color: var(--fill-color);\n",
              "    animation:\n",
              "      spin 1s steps(1) infinite;\n",
              "  }\n",
              "\n",
              "  @keyframes spin {\n",
              "    0% {\n",
              "      border-color: transparent;\n",
              "      border-bottom-color: var(--fill-color);\n",
              "      border-left-color: var(--fill-color);\n",
              "    }\n",
              "    20% {\n",
              "      border-color: transparent;\n",
              "      border-left-color: var(--fill-color);\n",
              "      border-top-color: var(--fill-color);\n",
              "    }\n",
              "    30% {\n",
              "      border-color: transparent;\n",
              "      border-left-color: var(--fill-color);\n",
              "      border-top-color: var(--fill-color);\n",
              "      border-right-color: var(--fill-color);\n",
              "    }\n",
              "    40% {\n",
              "      border-color: transparent;\n",
              "      border-right-color: var(--fill-color);\n",
              "      border-top-color: var(--fill-color);\n",
              "    }\n",
              "    60% {\n",
              "      border-color: transparent;\n",
              "      border-right-color: var(--fill-color);\n",
              "    }\n",
              "    80% {\n",
              "      border-color: transparent;\n",
              "      border-right-color: var(--fill-color);\n",
              "      border-bottom-color: var(--fill-color);\n",
              "    }\n",
              "    90% {\n",
              "      border-color: transparent;\n",
              "      border-bottom-color: var(--fill-color);\n",
              "    }\n",
              "  }\n",
              "</style>\n",
              "\n",
              "  <script>\n",
              "    async function quickchart(key) {\n",
              "      const quickchartButtonEl =\n",
              "        document.querySelector('#' + key + ' button');\n",
              "      quickchartButtonEl.disabled = true;  // To prevent multiple clicks.\n",
              "      quickchartButtonEl.classList.add('colab-df-spinner');\n",
              "      try {\n",
              "        const charts = await google.colab.kernel.invokeFunction(\n",
              "            'suggestCharts', [key], {});\n",
              "      } catch (error) {\n",
              "        console.error('Error during call to suggestCharts:', error);\n",
              "      }\n",
              "      quickchartButtonEl.classList.remove('colab-df-spinner');\n",
              "      quickchartButtonEl.classList.add('colab-df-quickchart-complete');\n",
              "    }\n",
              "    (() => {\n",
              "      let quickchartButtonEl =\n",
              "        document.querySelector('#df-ec7e2a2e-ee52-4baf-ae1a-d0e44cc464c9 button');\n",
              "      quickchartButtonEl.style.display =\n",
              "        google.colab.kernel.accessAllowed ? 'block' : 'none';\n",
              "    })();\n",
              "  </script>\n",
              "</div>\n",
              "    </div>\n",
              "  </div>\n"
            ]
          },
          "metadata": {},
          "execution_count": 127
        }
      ]
    },
    {
      "cell_type": "code",
      "source": [
        "constant_columns = []\n",
        "\n",
        "for column in df.columns:\n",
        "    if df[column].nunique() == 1:\n",
        "        constant_columns.append(column)\n",
        "\n",
        "# Print the constant columns\n",
        "print(\"Constant Columns:\")\n",
        "print(constant_columns)"
      ],
      "metadata": {
        "colab": {
          "base_uri": "https://localhost:8080/"
        },
        "id": "83raZ5wDLG_a",
        "outputId": "6dac8934-8234-467e-8018-c99729daf48e"
      },
      "execution_count": null,
      "outputs": [
        {
          "output_type": "stream",
          "name": "stdout",
          "text": [
            "Constant Columns:\n",
            "[]\n"
          ]
        }
      ]
    },
    {
      "cell_type": "code",
      "source": [
        "columns_to_drop =[\n",
        "    'ContractLengthMonths',\n",
        "    'ContractLengthDesc',\n",
        "    'Active_supplier_table', # will show all of them are active right now\n",
        "    'IncludedValue',\n",
        "    'IncludedMessages',\n",
        "    'IncludedValueContainsSms']\n",
        "\n",
        "df = df.drop(columns=columns_to_drop)"
      ],
      "metadata": {
        "id": "6-dF5RLNLTMZ"
      },
      "execution_count": null,
      "outputs": []
    },
    {
      "cell_type": "code",
      "source": [
        "df.shape"
      ],
      "metadata": {
        "colab": {
          "base_uri": "https://localhost:8080/"
        },
        "id": "dq1lQcsSLfnl",
        "outputId": "aad2c779-7221-499f-d2fb-d330223079f3"
      },
      "execution_count": null,
      "outputs": [
        {
          "output_type": "execute_result",
          "data": {
            "text/plain": [
              "(483275, 92)"
            ]
          },
          "metadata": {},
          "execution_count": 130
        }
      ]
    },
    {
      "cell_type": "code",
      "source": [
        "df.columns"
      ],
      "metadata": {
        "colab": {
          "base_uri": "https://localhost:8080/"
        },
        "id": "1Ym0cfvcMpnt",
        "outputId": "1d539e63-9a63-4154-d256-1ed752fa6cca"
      },
      "execution_count": null,
      "outputs": [
        {
          "output_type": "execute_result",
          "data": {
            "text/plain": [
              "Index(['session_ID', 'ViewedOnTime', 'ViewedOnDate', 'ProductKey',\n",
              "       'CampaignKey', 'UserIdKey', 'SupplierKey', 'PageCount', 'IsAd',\n",
              "       'IsTransaction', 'IsProduct', 'AffiliateName', 'DeviceType', 'Source',\n",
              "       'Medium', 'Campaign', 'WOHeadlinePlanFixedDiscount',\n",
              "       'WOHeadlinePhoneDiscount', 'WOHeadlineExtraDataDiscount',\n",
              "       'OneOffFeeTotal', 'Phonemonthlycost', 'product_indv_ID', 'StartDate',\n",
              "       'EndDate', 'Name', 'CurrentName', 'Active', 'Preview', 'BaseCost',\n",
              "       'PaymentFrequency', 'PaymentFrequencyDerived_in_days', 'PaymentPeriod',\n",
              "       'SupplierID', 'GlobalShowOnWhistleout', 'MobileProductKey',\n",
              "       'EditorsPickName', 'campaign_indv_ID', 'StartDate_campaign_table',\n",
              "       'EndDate_campaign_table', 'Active_campaign_table',\n",
              "       'Preview_campaign_table', 'Name_campaign_table', 'Sequence',\n",
              "       'BusinessStartDate', 'BusinessEndDate', 'PromotionName',\n",
              "       'SupplierID_campaign_table', 'Exclusive', 'OtherIncentive1mthTCOTotal',\n",
              "       'OtherIncentive6mthTCOTotal', 'OtherIncentive12mthTCOTotal',\n",
              "       'OtherIncentiveOneOffTotal', 'FixedIncentive1mthTCOTotal',\n",
              "       'FixedIncentive6mthTCOTotal', 'FixedIncentive12mthTCOTotal',\n",
              "       'FixedIncentiveOneOffTotal', 'PercentageIncentive1mthTCOTotal',\n",
              "       'PercentageIncentive6mthTCOTotal', 'PercentageIncentive12mthTCOTotal',\n",
              "       'PercentageIncentiveOneOffTotal', 'PhoneIncentive1mthTCOTotal',\n",
              "       'PhoneIncentive6mthTCOTotal', 'PhoneIncentive12mthTCOTotal',\n",
              "       'ExtraIncentive1mthTCOTotal', 'ExtraIncentive6mthTCOTotal',\n",
              "       'ExtraIncentive12mthTCOTotal', 'ExtraIncentiveOneOffTotal',\n",
              "       'supplier_indv_ID', 'StartDate_supplier_table',\n",
              "       'EndDate_supplier_table', 'Name_supplier_table', 'ProductID',\n",
              "       'StartDate_mobileproduct_table', 'EndDate_mobileproduct_table',\n",
              "       'DomesticFlagFall', 'DomesticCallRate', 'DomesticSmsRate',\n",
              "       'DomesticMmsRate', 'DomesticVideoFlagFall', 'DomesticVideoCallRate',\n",
              "       'IncludedDataMB', 'IncludedDataDescriptionMB',\n",
              "       'IncludedDataDescriptionGB', 'DataRate', 'IncludedValueContainsMms',\n",
              "       'IncludedValueContainsVideo', 'MobilePlanTypeName',\n",
              "       'MobilePlanTypeNameDerived', 'is5GNetwork', 'MobilePhonePlan',\n",
              "       'MobilePhoneNetworkName', 'MobilePhoneNetworkID'],\n",
              "      dtype='object')"
            ]
          },
          "metadata": {},
          "execution_count": 131
        }
      ]
    },
    {
      "cell_type": "markdown",
      "source": [
        "# Downloading merged data"
      ],
      "metadata": {
        "id": "9MQGMsRMMhr-"
      }
    },
    {
      "cell_type": "code",
      "source": [
        "# df.to_csv('/content/drive/Shareddrives/protik/iLab/Dataset/clean/finalbq.csv', index=False)"
      ],
      "metadata": {
        "id": "7PDDKafeMX9T"
      },
      "execution_count": null,
      "outputs": []
    },
    {
      "cell_type": "code",
      "source": [
        "df.to_csv('/content/drive/Shareddrives/protik/iLab/Dataset/clean/leftjoin.csv', index=False)"
      ],
      "metadata": {
        "id": "4-LI2X2Zsbe3"
      },
      "execution_count": null,
      "outputs": []
    },
    {
      "cell_type": "markdown",
      "source": [
        "# Analysis"
      ],
      "metadata": {
        "id": "dLGUjxPmz8kG"
      }
    },
    {
      "cell_type": "code",
      "source": [
        "# protik said that day about some bar chart"
      ],
      "metadata": {
        "id": "TczvjvhXwQyt"
      },
      "execution_count": null,
      "outputs": []
    }
  ]
}